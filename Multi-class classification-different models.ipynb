{
 "cells": [
  {
   "cell_type": "markdown",
   "metadata": {
    "id": "w3ywzfIAnUY3"
   },
   "source": [
    "##Catboost Model"
   ]
  },
  {
   "cell_type": "code",
   "execution_count": 1,
   "metadata": {
    "colab": {
     "base_uri": "https://localhost:8080/"
    },
    "executionInfo": {
     "elapsed": 14628,
     "status": "ok",
     "timestamp": 1625819862086,
     "user": {
      "displayName": "Janet Mumo",
      "photoUrl": "https://lh3.googleusercontent.com/a-/AOh14Gg0c-PQMnopXTGwoJn8NxIfmJk7c-0eJhBsdZEekw=s64",
      "userId": "04853006977882381628"
     },
     "user_tz": 0
    },
    "id": "jbLexyD0U0jp",
    "outputId": "a200e1ea-aacf-4c4b-ba1e-69bd1124411e"
   },
   "outputs": [],
   "source": [
    "#!pip install catboost\n",
    "#!pip install lightgbm\n",
    "\n",
    "#!pip install imblearn"
   ]
  },
  {
   "cell_type": "code",
   "execution_count": 2,
   "metadata": {},
   "outputs": [
    {
     "name": "stderr",
     "output_type": "stream",
     "text": [
      "/env/lib/python3.8/site-packages/geopandas/_compat.py:106: UserWarning: The Shapely GEOS version (3.8.0-CAPI-1.13.1 ) is incompatible with the GEOS version PyGEOS was compiled with (3.9.1-CAPI-1.14.2). Conversions between both will be slow.\n",
      "  warnings.warn(\n",
      "/env/lib/python3.8/site-packages/datacube/storage/masking.py:7: DeprecationWarning: datacube.storage.masking has moved to datacube.utils.masking\n",
      "  warnings.warn(\"datacube.storage.masking has moved to datacube.utils.masking\",\n"
     ]
    }
   ],
   "source": [
    "from sklearn.ensemble import RandomForestClassifier\n",
    "# from sklearn.naive_bayes import GaussianNB\n",
    "# from sklearn.linear_model import LogisticRegression\n",
    "# from sklearn.neighbors import KNeighborsClassifier\n",
    "import os\n",
    "import sys\n",
    "import datacube\n",
    "import joblib\n",
    "import numpy as np\n",
    "import pandas as pd\n",
    "from joblib import dump\n",
    "import subprocess as sp\n",
    "import dask.array as da\n",
    "from pprint import pprint\n",
    "import matplotlib.pyplot as plt\n",
    "from odc.io.cgroups import get_cpu_quota\n",
    "from sklearn.metrics import roc_curve, auc\n",
    "from sklearn.model_selection import GridSearchCV\n",
    "from sklearn.metrics import roc_curve, auc, balanced_accuracy_score\n",
    "\n",
    "from deafrica_tools.classification import spatial_clusters, SKCV, HiddenPrints, spatial_train_test_split\n",
    "\n",
    "from IPython.display import Image\n",
    "from odc.io.cgroups import get_cpu_quota\n",
    "from sklearn import tree, model_selection\n",
    "from sklearn.metrics import accuracy_score\n",
    "from datacube.utils.cog import write_cog\n",
    "from io import StringIO\n",
    "import pydotplus\n",
    "from sklearn import tree, model_selection\n",
    "from sklearn.metrics import accuracy_score\n",
    "from datacube.utils.cog import write_cog\n",
    "\n",
    "from deafrica_tools.plotting import map_shapefile, rgb\n",
    "from deafrica_tools.classification import predict_xr, collect_training_data\n",
    "from deafrica_tools.bandindices import calculate_indices\n",
    "%matplotlib inline\n",
    "\n",
    "import datacube\n",
    "\n",
    "from deafrica_tools.datahandling import mostcommon_crs\n",
    "from deafrica_tools.spatial import xr_vectorize, xr_rasterize\n",
    "import numpy as np\n",
    "import matplotlib.pyplot as plt\n",
    "sys.path.append('../Scripts')\n",
    "from sklearn.model_selection import ShuffleSplit, GroupShuffleSplit, GroupKFold\n",
    "\n",
    "%load_ext autoreload\n",
    "%autoreload 2"
   ]
  },
  {
   "cell_type": "code",
   "execution_count": 3,
   "metadata": {
    "colab": {
     "base_uri": "https://localhost:8080/"
    },
    "executionInfo": {
     "elapsed": 6337,
     "status": "ok",
     "timestamp": 1625822879912,
     "user": {
      "displayName": "Janet Mumo",
      "photoUrl": "https://lh3.googleusercontent.com/a-/AOh14Gg0c-PQMnopXTGwoJn8NxIfmJk7c-0eJhBsdZEekw=s64",
      "userId": "04853006977882381628"
     },
     "user_tz": 0
    },
    "id": "VqnCX0fGVlNm",
    "outputId": "c9c2d187-2194-4cf4-b262-a680eeace7c2"
   },
   "outputs": [],
   "source": [
    "#Import the required packages\n",
    "import pandas as pd\n",
    "import numpy as np\n",
    "import seaborn as sns\n",
    "import matplotlib.pyplot as plt\n",
    "#-------------------------------------------------\n",
    "import lightgbm as lgbm\n",
    "import xgboost as xgb\n",
    "from xgboost import XGBClassifier\n",
    "from sklearn.ensemble import RandomForestClassifier\n",
    "from catboost import Pool, CatBoostClassifier\n",
    "from sklearn.metrics import log_loss\n",
    "\n",
    "from sklearn.model_selection import train_test_split\n",
    "#---------------------------------------------------\n",
    "from sklearn.cluster import KMeans\n",
    "# from featexp import get_univariate_plots\n",
    "from imblearn.under_sampling import ClusterCentroids\n",
    "from imblearn.under_sampling import TomekLinks\n",
    "from sklearn.decomposition import PCA"
   ]
  },
  {
   "cell_type": "code",
   "execution_count": 4,
   "metadata": {
    "colab": {
     "base_uri": "https://localhost:8080/"
    },
    "executionInfo": {
     "elapsed": 8816,
     "status": "ok",
     "timestamp": 1625822934685,
     "user": {
      "displayName": "Janet Mumo",
      "photoUrl": "https://lh3.googleusercontent.com/a-/AOh14Gg0c-PQMnopXTGwoJn8NxIfmJk7c-0eJhBsdZEekw=s64",
      "userId": "04853006977882381628"
     },
     "user_tz": 0
    },
    "id": "W8N0vBoJE52d",
    "outputId": "4bd11265-7c79-4fa9-f284-0ecf37ae1ae1"
   },
   "outputs": [],
   "source": [
    "#load the dataset\n",
    "import pathlib\n",
    "dataframe = pd.read_csv('data/Clean_kofadata.csv')\n",
    "dataframe = dataframe.drop(['lon','lat'], axis= True)"
   ]
  },
  {
   "cell_type": "code",
   "execution_count": 5,
   "metadata": {
    "colab": {
     "base_uri": "https://localhost:8080/",
     "height": 253
    },
    "executionInfo": {
     "elapsed": 14802,
     "status": "ok",
     "timestamp": 1625822979924,
     "user": {
      "displayName": "Janet Mumo",
      "photoUrl": "https://lh3.googleusercontent.com/a-/AOh14Gg0c-PQMnopXTGwoJn8NxIfmJk7c-0eJhBsdZEekw=s64",
      "userId": "04853006977882381628"
     },
     "user_tz": 0
    },
    "id": "g_-Xfec1UYxM",
    "outputId": "c19cc5e7-6d95-4915-bdb7-a909f7dfaaff"
   },
   "outputs": [
    {
     "data": {
      "text/html": [
       "<div>\n",
       "<style scoped>\n",
       "    .dataframe tbody tr th:only-of-type {\n",
       "        vertical-align: middle;\n",
       "    }\n",
       "\n",
       "    .dataframe tbody tr th {\n",
       "        vertical-align: top;\n",
       "    }\n",
       "\n",
       "    .dataframe thead th {\n",
       "        text-align: right;\n",
       "    }\n",
       "</style>\n",
       "<table border=\"1\" class=\"dataframe\">\n",
       "  <thead>\n",
       "    <tr style=\"text-align: right;\">\n",
       "      <th></th>\n",
       "      <th>B01</th>\n",
       "      <th>B02</th>\n",
       "      <th>B03</th>\n",
       "      <th>B04</th>\n",
       "      <th>B05</th>\n",
       "      <th>B06</th>\n",
       "      <th>B07</th>\n",
       "      <th>B08</th>\n",
       "      <th>Grown_crop</th>\n",
       "    </tr>\n",
       "  </thead>\n",
       "  <tbody>\n",
       "    <tr>\n",
       "      <th>0</th>\n",
       "      <td>357</td>\n",
       "      <td>346</td>\n",
       "      <td>776</td>\n",
       "      <td>776</td>\n",
       "      <td>766</td>\n",
       "      <td>2154</td>\n",
       "      <td>3261</td>\n",
       "      <td>3380</td>\n",
       "      <td>1</td>\n",
       "    </tr>\n",
       "    <tr>\n",
       "      <th>1</th>\n",
       "      <td>471</td>\n",
       "      <td>300</td>\n",
       "      <td>626</td>\n",
       "      <td>686</td>\n",
       "      <td>654</td>\n",
       "      <td>1997</td>\n",
       "      <td>3380</td>\n",
       "      <td>3345</td>\n",
       "      <td>1</td>\n",
       "    </tr>\n",
       "    <tr>\n",
       "      <th>2</th>\n",
       "      <td>402</td>\n",
       "      <td>320</td>\n",
       "      <td>829</td>\n",
       "      <td>803</td>\n",
       "      <td>700</td>\n",
       "      <td>2175</td>\n",
       "      <td>3604</td>\n",
       "      <td>3534</td>\n",
       "      <td>1</td>\n",
       "    </tr>\n",
       "    <tr>\n",
       "      <th>3</th>\n",
       "      <td>449</td>\n",
       "      <td>248</td>\n",
       "      <td>812</td>\n",
       "      <td>643</td>\n",
       "      <td>527</td>\n",
       "      <td>2921</td>\n",
       "      <td>5234</td>\n",
       "      <td>5860</td>\n",
       "      <td>1</td>\n",
       "    </tr>\n",
       "    <tr>\n",
       "      <th>4</th>\n",
       "      <td>363</td>\n",
       "      <td>253</td>\n",
       "      <td>658</td>\n",
       "      <td>644</td>\n",
       "      <td>546</td>\n",
       "      <td>2152</td>\n",
       "      <td>3479</td>\n",
       "      <td>3670</td>\n",
       "      <td>1</td>\n",
       "    </tr>\n",
       "  </tbody>\n",
       "</table>\n",
       "</div>"
      ],
      "text/plain": [
       "   B01  B02  B03  B04  B05   B06   B07   B08  Grown_crop\n",
       "0  357  346  776  776  766  2154  3261  3380           1\n",
       "1  471  300  626  686  654  1997  3380  3345           1\n",
       "2  402  320  829  803  700  2175  3604  3534           1\n",
       "3  449  248  812  643  527  2921  5234  5860           1\n",
       "4  363  253  658  644  546  2152  3479  3670           1"
      ]
     },
     "execution_count": 5,
     "metadata": {},
     "output_type": "execute_result"
    }
   ],
   "source": [
    "dataframe.head()"
   ]
  },
  {
   "cell_type": "markdown",
   "metadata": {
    "id": "gtbkQAa9nZQK"
   },
   "source": [
    "Calculating the vegetation indeces"
   ]
  },
  {
   "cell_type": "code",
   "execution_count": 6,
   "metadata": {
    "id": "vylt2umHhs_b"
   },
   "outputs": [],
   "source": [
    "#NDVI (Normalized Difference Vegetation Index) :(nir-red)/(nir+red)\n",
    "# NDVI :(B8A-B04)/(B8A+B04)\n",
    "dataframe['NDVI'] = (dataframe['B08']-dataframe['B04'])/(dataframe['B08']+dataframe['B04'])\n",
    "#linear dimensionality reduction technique \n",
    "#pca=PCA(1)\n",
    "#dataframe[\"NDVI\"]=pca.fit_transform(dataframe['NDVI'])  \n",
    "dataframe['water'] = dataframe['NDVI'].apply(lambda x :1 if x<0 else 0)\n",
    "dataframe['dense_green'] = dataframe['NDVI'].apply(lambda x :1 if x>=0.5 else 0)\n",
    "dataframe['not_green'] = dataframe['NDVI'].apply(lambda x :1 if( (x>0) & (x<0.5)) else 0)\n",
    "# df = df.drop(NDVI,1)\n",
    "\n",
    "# ARVI Atmospherice resistant vegetational Index)  (nir-2*red+blue)/(nir+2*red+blue)\n",
    "dataframe['ARVI'] = (dataframe['B08']-2*dataframe['B05']+dataframe['B02'])/(dataframe['B08']+dataframe['B05']+dataframe['B02'])\n",
    "#linear dimensionality reduction technique \n",
    "\n",
    "# SAVI (Soil adjusted Vegetation Index) :1.5*(nir-red)/(nir+red+0.5)\n",
    "# SAVI :1.5*(B8A-B04)/(B8A+B04+0.5)\n",
    "dataframe['SAVI'] = 1.5*(dataframe['B08']-dataframe['B05'])/(dataframe['B08']+dataframe['B05']+0.5)\n",
    "#linear dimensionality reduction technique \n",
    "dataframe['high_green'] = dataframe['SAVI'].apply(lambda x :1 if x<0.1 else 0)\n",
    "dataframe['low_green'] = dataframe['SAVI'].apply(lambda x :1 if x>=0.8 else 0)\n",
    "#df = df.drop(SAVI,1)\n",
    "\n",
    "#Normalized Difference RedEdge\n",
    "# NDRE :(B08-B05)/(B08+B05)\n",
    "dataframe['NDRE'] =  (dataframe['B08']-dataframe['B05'])/(dataframe['B08']+dataframe['B05'])\n",
    "\n",
    "#Red-edge chlorophyll index\n",
    "#RECI :(B08/B05)-1\n",
    "dataframe['RECI'] = ((dataframe['B08'])/(dataframe['B05']))-1\n",
    "\n",
    "# ARVI  (nir-2*red+blue)/(nir+2*red+blue)\n",
    "dataframe['ARVI'] = (dataframe['B08']-2*dataframe['B05']+dataframe['B02'])/(dataframe['B08']+dataframe['B05']+dataframe['B02'])\n",
    "\n",
    "#Enhanced vegetation Index\n",
    "#EVI :2.5*((nir-red)/(nir+6*red-7.5*blue+1))\n",
    "#EVI :2.5*((B8A-B04)/(B8A+6*B04-7.5*B02+1))\n",
    "dataframe['EVI'] = 2.5*((dataframe['B08']-dataframe['B05'])/(dataframe['B08']+6*dataframe['B05']-7.5*dataframe['B02']+1))\n",
    "\n",
    "dataframe['chlorophyll_EVI'] = dataframe['EVI'].apply(lambda x :1 if( (x>0.2) & (x<0.8)) else 0)\n",
    "\n",
    "#Structure Insensitive Pigment Index\n",
    "#SIPI : (B08-B02)/(B08-B05)\n",
    "dataframe['SIPI'] = (dataframe['B08']-dataframe['B02'])/(dataframe['B08']-dataframe['B05'])\n",
    "\n",
    "dataframe['carotenoids'] = dataframe['SIPI'].apply(lambda x :1 if x>0 else 0)\n",
    "dataframe['chlorophyll-SIPI'] = dataframe['SIPI'].apply(lambda x :1 if x<=0 else 0)  \n",
    "\n",
    "# Green Chlorophyll Index\n",
    "#GCI: (nir)-(green) -1\n",
    "dataframe['GCI'] = (dataframe['B08'])/(dataframe['B03'])-1"
   ]
  },
  {
   "cell_type": "code",
   "execution_count": 7,
   "metadata": {},
   "outputs": [
    {
     "data": {
      "text/html": [
       "<div>\n",
       "<style scoped>\n",
       "    .dataframe tbody tr th:only-of-type {\n",
       "        vertical-align: middle;\n",
       "    }\n",
       "\n",
       "    .dataframe tbody tr th {\n",
       "        vertical-align: top;\n",
       "    }\n",
       "\n",
       "    .dataframe thead th {\n",
       "        text-align: right;\n",
       "    }\n",
       "</style>\n",
       "<table border=\"1\" class=\"dataframe\">\n",
       "  <thead>\n",
       "    <tr style=\"text-align: right;\">\n",
       "      <th></th>\n",
       "      <th>B01</th>\n",
       "      <th>B02</th>\n",
       "      <th>B03</th>\n",
       "      <th>B04</th>\n",
       "      <th>B05</th>\n",
       "      <th>B06</th>\n",
       "      <th>B07</th>\n",
       "      <th>B08</th>\n",
       "      <th>Grown_crop</th>\n",
       "      <th>NDVI</th>\n",
       "      <th>...</th>\n",
       "      <th>high_green</th>\n",
       "      <th>low_green</th>\n",
       "      <th>NDRE</th>\n",
       "      <th>RECI</th>\n",
       "      <th>EVI</th>\n",
       "      <th>chlorophyll_EVI</th>\n",
       "      <th>SIPI</th>\n",
       "      <th>carotenoids</th>\n",
       "      <th>chlorophyll-SIPI</th>\n",
       "      <th>GCI</th>\n",
       "    </tr>\n",
       "  </thead>\n",
       "  <tbody>\n",
       "    <tr>\n",
       "      <th>0</th>\n",
       "      <td>357</td>\n",
       "      <td>346</td>\n",
       "      <td>776</td>\n",
       "      <td>776</td>\n",
       "      <td>766</td>\n",
       "      <td>2154</td>\n",
       "      <td>3261</td>\n",
       "      <td>3380</td>\n",
       "      <td>1</td>\n",
       "      <td>0.626564</td>\n",
       "      <td>...</td>\n",
       "      <td>0</td>\n",
       "      <td>1</td>\n",
       "      <td>0.630487</td>\n",
       "      <td>3.412533</td>\n",
       "      <td>1.214233</td>\n",
       "      <td>0</td>\n",
       "      <td>1.160673</td>\n",
       "      <td>1</td>\n",
       "      <td>0</td>\n",
       "      <td>3.355670</td>\n",
       "    </tr>\n",
       "    <tr>\n",
       "      <th>1</th>\n",
       "      <td>471</td>\n",
       "      <td>300</td>\n",
       "      <td>626</td>\n",
       "      <td>686</td>\n",
       "      <td>654</td>\n",
       "      <td>1997</td>\n",
       "      <td>3380</td>\n",
       "      <td>3345</td>\n",
       "      <td>1</td>\n",
       "      <td>0.659638</td>\n",
       "      <td>...</td>\n",
       "      <td>0</td>\n",
       "      <td>1</td>\n",
       "      <td>0.672918</td>\n",
       "      <td>4.114679</td>\n",
       "      <td>1.340139</td>\n",
       "      <td>0</td>\n",
       "      <td>1.131550</td>\n",
       "      <td>1</td>\n",
       "      <td>0</td>\n",
       "      <td>4.343450</td>\n",
       "    </tr>\n",
       "    <tr>\n",
       "      <th>2</th>\n",
       "      <td>402</td>\n",
       "      <td>320</td>\n",
       "      <td>829</td>\n",
       "      <td>803</td>\n",
       "      <td>700</td>\n",
       "      <td>2175</td>\n",
       "      <td>3604</td>\n",
       "      <td>3534</td>\n",
       "      <td>1</td>\n",
       "      <td>0.629698</td>\n",
       "      <td>...</td>\n",
       "      <td>0</td>\n",
       "      <td>1</td>\n",
       "      <td>0.669343</td>\n",
       "      <td>4.048571</td>\n",
       "      <td>1.328022</td>\n",
       "      <td>0</td>\n",
       "      <td>1.134086</td>\n",
       "      <td>1</td>\n",
       "      <td>0</td>\n",
       "      <td>3.262967</td>\n",
       "    </tr>\n",
       "    <tr>\n",
       "      <th>3</th>\n",
       "      <td>449</td>\n",
       "      <td>248</td>\n",
       "      <td>812</td>\n",
       "      <td>643</td>\n",
       "      <td>527</td>\n",
       "      <td>2921</td>\n",
       "      <td>5234</td>\n",
       "      <td>5860</td>\n",
       "      <td>1</td>\n",
       "      <td>0.802245</td>\n",
       "      <td>...</td>\n",
       "      <td>0</td>\n",
       "      <td>1</td>\n",
       "      <td>0.834977</td>\n",
       "      <td>10.119545</td>\n",
       "      <td>1.861301</td>\n",
       "      <td>0</td>\n",
       "      <td>1.052316</td>\n",
       "      <td>1</td>\n",
       "      <td>0</td>\n",
       "      <td>6.216749</td>\n",
       "    </tr>\n",
       "    <tr>\n",
       "      <th>4</th>\n",
       "      <td>363</td>\n",
       "      <td>253</td>\n",
       "      <td>658</td>\n",
       "      <td>644</td>\n",
       "      <td>546</td>\n",
       "      <td>2152</td>\n",
       "      <td>3479</td>\n",
       "      <td>3670</td>\n",
       "      <td>1</td>\n",
       "      <td>0.701437</td>\n",
       "      <td>...</td>\n",
       "      <td>0</td>\n",
       "      <td>1</td>\n",
       "      <td>0.740987</td>\n",
       "      <td>5.721612</td>\n",
       "      <td>1.546688</td>\n",
       "      <td>0</td>\n",
       "      <td>1.093790</td>\n",
       "      <td>1</td>\n",
       "      <td>0</td>\n",
       "      <td>4.577508</td>\n",
       "    </tr>\n",
       "  </tbody>\n",
       "</table>\n",
       "<p>5 rows × 25 columns</p>\n",
       "</div>"
      ],
      "text/plain": [
       "   B01  B02  B03  B04  B05   B06   B07   B08  Grown_crop      NDVI  ...  \\\n",
       "0  357  346  776  776  766  2154  3261  3380           1  0.626564  ...   \n",
       "1  471  300  626  686  654  1997  3380  3345           1  0.659638  ...   \n",
       "2  402  320  829  803  700  2175  3604  3534           1  0.629698  ...   \n",
       "3  449  248  812  643  527  2921  5234  5860           1  0.802245  ...   \n",
       "4  363  253  658  644  546  2152  3479  3670           1  0.701437  ...   \n",
       "\n",
       "   high_green  low_green      NDRE       RECI       EVI  chlorophyll_EVI  \\\n",
       "0           0          1  0.630487   3.412533  1.214233                0   \n",
       "1           0          1  0.672918   4.114679  1.340139                0   \n",
       "2           0          1  0.669343   4.048571  1.328022                0   \n",
       "3           0          1  0.834977  10.119545  1.861301                0   \n",
       "4           0          1  0.740987   5.721612  1.546688                0   \n",
       "\n",
       "       SIPI  carotenoids  chlorophyll-SIPI       GCI  \n",
       "0  1.160673            1                 0  3.355670  \n",
       "1  1.131550            1                 0  4.343450  \n",
       "2  1.134086            1                 0  3.262967  \n",
       "3  1.052316            1                 0  6.216749  \n",
       "4  1.093790            1                 0  4.577508  \n",
       "\n",
       "[5 rows x 25 columns]"
      ]
     },
     "execution_count": 7,
     "metadata": {},
     "output_type": "execute_result"
    }
   ],
   "source": [
    "dataframe.head()"
   ]
  },
  {
   "cell_type": "code",
   "execution_count": 8,
   "metadata": {},
   "outputs": [],
   "source": [
    "dataframe = dataframe[['B01', 'B02', 'B03', 'B04', 'B05', 'B06', 'B07', 'B08',\n",
    "       'NDVI', 'water', 'dense_green', 'not_green', 'ARVI', 'SAVI',\n",
    "       'high_green', 'low_green', 'NDRE', 'RECI', 'EVI', 'chlorophyll_EVI',\n",
    "       'SIPI', 'carotenoids', 'chlorophyll-SIPI', 'GCI','Grown_crop']]"
   ]
  },
  {
   "cell_type": "code",
   "execution_count": 9,
   "metadata": {},
   "outputs": [],
   "source": [
    "dataframe = dataframe.drop(['water', 'dense_green', 'not_green','high_green', 'low_green','chlorophyll_EVI',\n",
    "                            'carotenoids', 'chlorophyll-SIPI'],axis=1)"
   ]
  },
  {
   "cell_type": "code",
   "execution_count": 10,
   "metadata": {},
   "outputs": [
    {
     "data": {
      "text/html": [
       "<div>\n",
       "<style scoped>\n",
       "    .dataframe tbody tr th:only-of-type {\n",
       "        vertical-align: middle;\n",
       "    }\n",
       "\n",
       "    .dataframe tbody tr th {\n",
       "        vertical-align: top;\n",
       "    }\n",
       "\n",
       "    .dataframe thead th {\n",
       "        text-align: right;\n",
       "    }\n",
       "</style>\n",
       "<table border=\"1\" class=\"dataframe\">\n",
       "  <thead>\n",
       "    <tr style=\"text-align: right;\">\n",
       "      <th></th>\n",
       "      <th>index</th>\n",
       "      <th>B01</th>\n",
       "      <th>B02</th>\n",
       "      <th>B03</th>\n",
       "      <th>B04</th>\n",
       "      <th>B05</th>\n",
       "      <th>B06</th>\n",
       "      <th>B07</th>\n",
       "      <th>B08</th>\n",
       "      <th>NDVI</th>\n",
       "      <th>ARVI</th>\n",
       "      <th>SAVI</th>\n",
       "      <th>NDRE</th>\n",
       "      <th>RECI</th>\n",
       "      <th>EVI</th>\n",
       "      <th>SIPI</th>\n",
       "      <th>GCI</th>\n",
       "      <th>Grown_crop</th>\n",
       "    </tr>\n",
       "  </thead>\n",
       "  <tbody>\n",
       "    <tr>\n",
       "      <th>0</th>\n",
       "      <td>57006</td>\n",
       "      <td>247</td>\n",
       "      <td>95</td>\n",
       "      <td>494</td>\n",
       "      <td>267</td>\n",
       "      <td>199</td>\n",
       "      <td>1935</td>\n",
       "      <td>4113</td>\n",
       "      <td>4174</td>\n",
       "      <td>0.879757</td>\n",
       "      <td>0.866383</td>\n",
       "      <td>1.363325</td>\n",
       "      <td>0.908987</td>\n",
       "      <td>19.974874</td>\n",
       "      <td>2.134114</td>\n",
       "      <td>1.026164</td>\n",
       "      <td>7.449393</td>\n",
       "      <td>0</td>\n",
       "    </tr>\n",
       "    <tr>\n",
       "      <th>1</th>\n",
       "      <td>86889</td>\n",
       "      <td>214</td>\n",
       "      <td>75</td>\n",
       "      <td>329</td>\n",
       "      <td>172</td>\n",
       "      <td>157</td>\n",
       "      <td>1303</td>\n",
       "      <td>3390</td>\n",
       "      <td>3023</td>\n",
       "      <td>0.892332</td>\n",
       "      <td>0.855300</td>\n",
       "      <td>1.351674</td>\n",
       "      <td>0.901258</td>\n",
       "      <td>18.254777</td>\n",
       "      <td>2.105186</td>\n",
       "      <td>1.028611</td>\n",
       "      <td>8.188450</td>\n",
       "      <td>0</td>\n",
       "    </tr>\n",
       "    <tr>\n",
       "      <th>2</th>\n",
       "      <td>54605</td>\n",
       "      <td>304</td>\n",
       "      <td>191</td>\n",
       "      <td>522</td>\n",
       "      <td>353</td>\n",
       "      <td>405</td>\n",
       "      <td>1908</td>\n",
       "      <td>3832</td>\n",
       "      <td>4154</td>\n",
       "      <td>0.843355</td>\n",
       "      <td>0.744211</td>\n",
       "      <td>1.233359</td>\n",
       "      <td>0.822329</td>\n",
       "      <td>9.256790</td>\n",
       "      <td>1.819020</td>\n",
       "      <td>1.057082</td>\n",
       "      <td>6.957854</td>\n",
       "      <td>0</td>\n",
       "    </tr>\n",
       "    <tr>\n",
       "      <th>3</th>\n",
       "      <td>55920</td>\n",
       "      <td>201</td>\n",
       "      <td>66</td>\n",
       "      <td>437</td>\n",
       "      <td>235</td>\n",
       "      <td>137</td>\n",
       "      <td>1706</td>\n",
       "      <td>3593</td>\n",
       "      <td>3843</td>\n",
       "      <td>0.884747</td>\n",
       "      <td>0.898418</td>\n",
       "      <td>1.396558</td>\n",
       "      <td>0.931156</td>\n",
       "      <td>27.051095</td>\n",
       "      <td>2.221290</td>\n",
       "      <td>1.019158</td>\n",
       "      <td>7.794050</td>\n",
       "      <td>0</td>\n",
       "    </tr>\n",
       "    <tr>\n",
       "      <th>4</th>\n",
       "      <td>86829</td>\n",
       "      <td>307</td>\n",
       "      <td>169</td>\n",
       "      <td>560</td>\n",
       "      <td>525</td>\n",
       "      <td>356</td>\n",
       "      <td>2400</td>\n",
       "      <td>4987</td>\n",
       "      <td>4571</td>\n",
       "      <td>0.793956</td>\n",
       "      <td>0.790424</td>\n",
       "      <td>1.283105</td>\n",
       "      <td>0.855490</td>\n",
       "      <td>11.839888</td>\n",
       "      <td>1.936862</td>\n",
       "      <td>1.044365</td>\n",
       "      <td>7.162500</td>\n",
       "      <td>0</td>\n",
       "    </tr>\n",
       "    <tr>\n",
       "      <th>...</th>\n",
       "      <td>...</td>\n",
       "      <td>...</td>\n",
       "      <td>...</td>\n",
       "      <td>...</td>\n",
       "      <td>...</td>\n",
       "      <td>...</td>\n",
       "      <td>...</td>\n",
       "      <td>...</td>\n",
       "      <td>...</td>\n",
       "      <td>...</td>\n",
       "      <td>...</td>\n",
       "      <td>...</td>\n",
       "      <td>...</td>\n",
       "      <td>...</td>\n",
       "      <td>...</td>\n",
       "      <td>...</td>\n",
       "      <td>...</td>\n",
       "      <td>...</td>\n",
       "    </tr>\n",
       "    <tr>\n",
       "      <th>89948</th>\n",
       "      <td>78377</td>\n",
       "      <td>368</td>\n",
       "      <td>219</td>\n",
       "      <td>491</td>\n",
       "      <td>469</td>\n",
       "      <td>488</td>\n",
       "      <td>1126</td>\n",
       "      <td>1894</td>\n",
       "      <td>1834</td>\n",
       "      <td>0.592705</td>\n",
       "      <td>0.423849</td>\n",
       "      <td>0.869322</td>\n",
       "      <td>0.579673</td>\n",
       "      <td>2.758197</td>\n",
       "      <td>1.078353</td>\n",
       "      <td>1.199851</td>\n",
       "      <td>2.735234</td>\n",
       "      <td>4</td>\n",
       "    </tr>\n",
       "    <tr>\n",
       "      <th>89949</th>\n",
       "      <td>13075</td>\n",
       "      <td>353</td>\n",
       "      <td>341</td>\n",
       "      <td>684</td>\n",
       "      <td>831</td>\n",
       "      <td>759</td>\n",
       "      <td>1903</td>\n",
       "      <td>2744</td>\n",
       "      <td>2880</td>\n",
       "      <td>0.552142</td>\n",
       "      <td>0.427889</td>\n",
       "      <td>0.874159</td>\n",
       "      <td>0.582852</td>\n",
       "      <td>2.794466</td>\n",
       "      <td>1.087135</td>\n",
       "      <td>1.197077</td>\n",
       "      <td>3.210526</td>\n",
       "      <td>4</td>\n",
       "    </tr>\n",
       "    <tr>\n",
       "      <th>89950</th>\n",
       "      <td>27848</td>\n",
       "      <td>293</td>\n",
       "      <td>159</td>\n",
       "      <td>622</td>\n",
       "      <td>508</td>\n",
       "      <td>332</td>\n",
       "      <td>2514</td>\n",
       "      <td>4980</td>\n",
       "      <td>5059</td>\n",
       "      <td>0.817496</td>\n",
       "      <td>0.820541</td>\n",
       "      <td>1.315126</td>\n",
       "      <td>0.876832</td>\n",
       "      <td>14.237952</td>\n",
       "      <td>2.016810</td>\n",
       "      <td>1.036598</td>\n",
       "      <td>7.133441</td>\n",
       "      <td>4</td>\n",
       "    </tr>\n",
       "    <tr>\n",
       "      <th>89951</th>\n",
       "      <td>15573</td>\n",
       "      <td>308</td>\n",
       "      <td>228</td>\n",
       "      <td>747</td>\n",
       "      <td>532</td>\n",
       "      <td>485</td>\n",
       "      <td>2052</td>\n",
       "      <td>4312</td>\n",
       "      <td>3983</td>\n",
       "      <td>0.764341</td>\n",
       "      <td>0.690162</td>\n",
       "      <td>1.174220</td>\n",
       "      <td>0.782901</td>\n",
       "      <td>7.212371</td>\n",
       "      <td>1.686921</td>\n",
       "      <td>1.073471</td>\n",
       "      <td>4.331995</td>\n",
       "      <td>4</td>\n",
       "    </tr>\n",
       "    <tr>\n",
       "      <th>89952</th>\n",
       "      <td>31151</td>\n",
       "      <td>275</td>\n",
       "      <td>92</td>\n",
       "      <td>445</td>\n",
       "      <td>334</td>\n",
       "      <td>190</td>\n",
       "      <td>2144</td>\n",
       "      <td>4921</td>\n",
       "      <td>4860</td>\n",
       "      <td>0.871390</td>\n",
       "      <td>0.889148</td>\n",
       "      <td>1.386991</td>\n",
       "      <td>0.924752</td>\n",
       "      <td>24.578947</td>\n",
       "      <td>2.198268</td>\n",
       "      <td>1.020985</td>\n",
       "      <td>9.921348</td>\n",
       "      <td>4</td>\n",
       "    </tr>\n",
       "  </tbody>\n",
       "</table>\n",
       "<p>89953 rows × 18 columns</p>\n",
       "</div>"
      ],
      "text/plain": [
       "       index  B01  B02  B03  B04  B05   B06   B07   B08      NDVI      ARVI  \\\n",
       "0      57006  247   95  494  267  199  1935  4113  4174  0.879757  0.866383   \n",
       "1      86889  214   75  329  172  157  1303  3390  3023  0.892332  0.855300   \n",
       "2      54605  304  191  522  353  405  1908  3832  4154  0.843355  0.744211   \n",
       "3      55920  201   66  437  235  137  1706  3593  3843  0.884747  0.898418   \n",
       "4      86829  307  169  560  525  356  2400  4987  4571  0.793956  0.790424   \n",
       "...      ...  ...  ...  ...  ...  ...   ...   ...   ...       ...       ...   \n",
       "89948  78377  368  219  491  469  488  1126  1894  1834  0.592705  0.423849   \n",
       "89949  13075  353  341  684  831  759  1903  2744  2880  0.552142  0.427889   \n",
       "89950  27848  293  159  622  508  332  2514  4980  5059  0.817496  0.820541   \n",
       "89951  15573  308  228  747  532  485  2052  4312  3983  0.764341  0.690162   \n",
       "89952  31151  275   92  445  334  190  2144  4921  4860  0.871390  0.889148   \n",
       "\n",
       "           SAVI      NDRE       RECI       EVI      SIPI       GCI Grown_crop  \n",
       "0      1.363325  0.908987  19.974874  2.134114  1.026164  7.449393          0  \n",
       "1      1.351674  0.901258  18.254777  2.105186  1.028611  8.188450          0  \n",
       "2      1.233359  0.822329   9.256790  1.819020  1.057082  6.957854          0  \n",
       "3      1.396558  0.931156  27.051095  2.221290  1.019158  7.794050          0  \n",
       "4      1.283105  0.855490  11.839888  1.936862  1.044365  7.162500          0  \n",
       "...         ...       ...        ...       ...       ...       ...        ...  \n",
       "89948  0.869322  0.579673   2.758197  1.078353  1.199851  2.735234          4  \n",
       "89949  0.874159  0.582852   2.794466  1.087135  1.197077  3.210526          4  \n",
       "89950  1.315126  0.876832  14.237952  2.016810  1.036598  7.133441          4  \n",
       "89951  1.174220  0.782901   7.212371  1.686921  1.073471  4.331995          4  \n",
       "89952  1.386991  0.924752  24.578947  2.198268  1.020985  9.921348          4  \n",
       "\n",
       "[89953 rows x 18 columns]"
      ]
     },
     "execution_count": 10,
     "metadata": {},
     "output_type": "execute_result"
    }
   ],
   "source": [
    "def stratify_data(df_data, stratify_column_name, stratify_values, stratify_proportions, random_state=None):\n",
    "    \"\"\"Stratifies data according to the values and proportions passed in\n",
    "    Args:\n",
    "        df_data (DataFrame): source data\n",
    "        stratify_column_name (str): The name of the single column in the dataframe that holds the data values that will be used to stratify the data\n",
    "        stratify_values (list of str): A list of all of the potential values for stratifying e.g. \"Male, Graduate\", \"Male, Undergraduate\", \"Female, Graduate\", \"Female, Undergraduate\"\n",
    "        stratify_proportions (list of float): A list of numbers representing the desired propotions for stratifying e.g. 0.4, 0.4, 0.2, 0.2, The list values must add up to 1 and must match the number of values in stratify_values\n",
    "        random_state (int, optional): sets the random_state. Defaults to None.\n",
    "    Returns:\n",
    "        DataFrame: a new dataframe based on df_data that has the new proportions represnting the desired strategy for stratifying\n",
    "    \"\"\"\n",
    "    df_stratified = pd.DataFrame(columns = df_data.columns) # Create an empty DataFrame with column names matching df_data\n",
    "\n",
    "    pos = -1\n",
    "    for i in range(len(stratify_values)): # iterate over the stratify values (e.g. \"Male, Undergraduate\" etc.)\n",
    "        pos += 1\n",
    "        if pos == len(stratify_values) - 1: \n",
    "            ratio_len = len(df_data) - len(df_stratified) # if this is the final iteration make sure we calculate the number of values for the last set such that the return data has the same number of rows as the source data\n",
    "        else:\n",
    "            ratio_len = int(len(df_data) * stratify_proportions[i]) # Calculate the number of rows to match the desired proportio\n",
    "        df_filtered = df_data[df_data[stratify_column_name] ==stratify_values[i]] # Filter the source data based on the currently selected stratify value\n",
    "        df_temp = df_filtered.sample(replace=True, n=ratio_len, random_state=random_state) # Sample the filtered data using the calculated ratio\n",
    "        \n",
    "        df_stratified = pd.concat([df_stratified, df_temp]) # Add the sampled / stratified datasets together to produce the final result\n",
    "        \n",
    "    return df_stratified # Return the stratified, re-sampled data  \n",
    "#stratify_values = [, 'Male, Rent', 'Female, Home Mortgage', 'Female, Rent']\n",
    "stratify_values = [0,1,2,3,4]\n",
    "stratify_proportions = [0.10,0.20, 0.20, 0.25, 0.25]\n",
    "df_stratified = stratify_data(dataframe, 'Grown_crop', stratify_values, stratify_proportions, random_state=12345)\n",
    "df_stratified.reset_index()"
   ]
  },
  {
   "cell_type": "code",
   "execution_count": 11,
   "metadata": {},
   "outputs": [],
   "source": [
    "#save the dataframes as a csv file\n",
    "dataframe.to_csv(\"data/pixel_data.csv\", index = False)"
   ]
  },
  {
   "cell_type": "code",
   "execution_count": 12,
   "metadata": {},
   "outputs": [],
   "source": [
    "df_stratified.to_csv(\"data/pixel_dataS.csv\", index = False)"
   ]
  },
  {
   "cell_type": "markdown",
   "metadata": {},
   "source": [
    "## Stratified Sampling"
   ]
  },
  {
   "cell_type": "code",
   "execution_count": 13,
   "metadata": {},
   "outputs": [
    {
     "data": {
      "text/plain": [
       "pandas.core.frame.DataFrame"
      ]
     },
     "execution_count": 13,
     "metadata": {},
     "output_type": "execute_result"
    }
   ],
   "source": [
    "type(df_stratified)"
   ]
  },
  {
   "cell_type": "code",
   "execution_count": 14,
   "metadata": {},
   "outputs": [
    {
     "data": {
      "text/html": [
       "<div>\n",
       "<style scoped>\n",
       "    .dataframe tbody tr th:only-of-type {\n",
       "        vertical-align: middle;\n",
       "    }\n",
       "\n",
       "    .dataframe tbody tr th {\n",
       "        vertical-align: top;\n",
       "    }\n",
       "\n",
       "    .dataframe thead th {\n",
       "        text-align: right;\n",
       "    }\n",
       "</style>\n",
       "<table border=\"1\" class=\"dataframe\">\n",
       "  <thead>\n",
       "    <tr style=\"text-align: right;\">\n",
       "      <th></th>\n",
       "      <th>B01</th>\n",
       "      <th>B02</th>\n",
       "      <th>B03</th>\n",
       "      <th>B04</th>\n",
       "      <th>B05</th>\n",
       "      <th>B06</th>\n",
       "      <th>B07</th>\n",
       "      <th>B08</th>\n",
       "      <th>NDVI</th>\n",
       "      <th>ARVI</th>\n",
       "      <th>SAVI</th>\n",
       "      <th>NDRE</th>\n",
       "      <th>RECI</th>\n",
       "      <th>EVI</th>\n",
       "      <th>SIPI</th>\n",
       "      <th>GCI</th>\n",
       "      <th>Grown_crop</th>\n",
       "    </tr>\n",
       "  </thead>\n",
       "  <tbody>\n",
       "    <tr>\n",
       "      <th>57006</th>\n",
       "      <td>247</td>\n",
       "      <td>95</td>\n",
       "      <td>494</td>\n",
       "      <td>267</td>\n",
       "      <td>199</td>\n",
       "      <td>1935</td>\n",
       "      <td>4113</td>\n",
       "      <td>4174</td>\n",
       "      <td>0.879757</td>\n",
       "      <td>0.866383</td>\n",
       "      <td>1.363325</td>\n",
       "      <td>0.908987</td>\n",
       "      <td>19.974874</td>\n",
       "      <td>2.134114</td>\n",
       "      <td>1.026164</td>\n",
       "      <td>7.449393</td>\n",
       "      <td>0</td>\n",
       "    </tr>\n",
       "    <tr>\n",
       "      <th>86889</th>\n",
       "      <td>214</td>\n",
       "      <td>75</td>\n",
       "      <td>329</td>\n",
       "      <td>172</td>\n",
       "      <td>157</td>\n",
       "      <td>1303</td>\n",
       "      <td>3390</td>\n",
       "      <td>3023</td>\n",
       "      <td>0.892332</td>\n",
       "      <td>0.855300</td>\n",
       "      <td>1.351674</td>\n",
       "      <td>0.901258</td>\n",
       "      <td>18.254777</td>\n",
       "      <td>2.105186</td>\n",
       "      <td>1.028611</td>\n",
       "      <td>8.188450</td>\n",
       "      <td>0</td>\n",
       "    </tr>\n",
       "    <tr>\n",
       "      <th>54605</th>\n",
       "      <td>304</td>\n",
       "      <td>191</td>\n",
       "      <td>522</td>\n",
       "      <td>353</td>\n",
       "      <td>405</td>\n",
       "      <td>1908</td>\n",
       "      <td>3832</td>\n",
       "      <td>4154</td>\n",
       "      <td>0.843355</td>\n",
       "      <td>0.744211</td>\n",
       "      <td>1.233359</td>\n",
       "      <td>0.822329</td>\n",
       "      <td>9.256790</td>\n",
       "      <td>1.819020</td>\n",
       "      <td>1.057082</td>\n",
       "      <td>6.957854</td>\n",
       "      <td>0</td>\n",
       "    </tr>\n",
       "    <tr>\n",
       "      <th>55920</th>\n",
       "      <td>201</td>\n",
       "      <td>66</td>\n",
       "      <td>437</td>\n",
       "      <td>235</td>\n",
       "      <td>137</td>\n",
       "      <td>1706</td>\n",
       "      <td>3593</td>\n",
       "      <td>3843</td>\n",
       "      <td>0.884747</td>\n",
       "      <td>0.898418</td>\n",
       "      <td>1.396558</td>\n",
       "      <td>0.931156</td>\n",
       "      <td>27.051095</td>\n",
       "      <td>2.221290</td>\n",
       "      <td>1.019158</td>\n",
       "      <td>7.794050</td>\n",
       "      <td>0</td>\n",
       "    </tr>\n",
       "    <tr>\n",
       "      <th>86829</th>\n",
       "      <td>307</td>\n",
       "      <td>169</td>\n",
       "      <td>560</td>\n",
       "      <td>525</td>\n",
       "      <td>356</td>\n",
       "      <td>2400</td>\n",
       "      <td>4987</td>\n",
       "      <td>4571</td>\n",
       "      <td>0.793956</td>\n",
       "      <td>0.790424</td>\n",
       "      <td>1.283105</td>\n",
       "      <td>0.855490</td>\n",
       "      <td>11.839888</td>\n",
       "      <td>1.936862</td>\n",
       "      <td>1.044365</td>\n",
       "      <td>7.162500</td>\n",
       "      <td>0</td>\n",
       "    </tr>\n",
       "    <tr>\n",
       "      <th>...</th>\n",
       "      <td>...</td>\n",
       "      <td>...</td>\n",
       "      <td>...</td>\n",
       "      <td>...</td>\n",
       "      <td>...</td>\n",
       "      <td>...</td>\n",
       "      <td>...</td>\n",
       "      <td>...</td>\n",
       "      <td>...</td>\n",
       "      <td>...</td>\n",
       "      <td>...</td>\n",
       "      <td>...</td>\n",
       "      <td>...</td>\n",
       "      <td>...</td>\n",
       "      <td>...</td>\n",
       "      <td>...</td>\n",
       "      <td>...</td>\n",
       "    </tr>\n",
       "    <tr>\n",
       "      <th>78377</th>\n",
       "      <td>368</td>\n",
       "      <td>219</td>\n",
       "      <td>491</td>\n",
       "      <td>469</td>\n",
       "      <td>488</td>\n",
       "      <td>1126</td>\n",
       "      <td>1894</td>\n",
       "      <td>1834</td>\n",
       "      <td>0.592705</td>\n",
       "      <td>0.423849</td>\n",
       "      <td>0.869322</td>\n",
       "      <td>0.579673</td>\n",
       "      <td>2.758197</td>\n",
       "      <td>1.078353</td>\n",
       "      <td>1.199851</td>\n",
       "      <td>2.735234</td>\n",
       "      <td>4</td>\n",
       "    </tr>\n",
       "    <tr>\n",
       "      <th>13075</th>\n",
       "      <td>353</td>\n",
       "      <td>341</td>\n",
       "      <td>684</td>\n",
       "      <td>831</td>\n",
       "      <td>759</td>\n",
       "      <td>1903</td>\n",
       "      <td>2744</td>\n",
       "      <td>2880</td>\n",
       "      <td>0.552142</td>\n",
       "      <td>0.427889</td>\n",
       "      <td>0.874159</td>\n",
       "      <td>0.582852</td>\n",
       "      <td>2.794466</td>\n",
       "      <td>1.087135</td>\n",
       "      <td>1.197077</td>\n",
       "      <td>3.210526</td>\n",
       "      <td>4</td>\n",
       "    </tr>\n",
       "    <tr>\n",
       "      <th>27848</th>\n",
       "      <td>293</td>\n",
       "      <td>159</td>\n",
       "      <td>622</td>\n",
       "      <td>508</td>\n",
       "      <td>332</td>\n",
       "      <td>2514</td>\n",
       "      <td>4980</td>\n",
       "      <td>5059</td>\n",
       "      <td>0.817496</td>\n",
       "      <td>0.820541</td>\n",
       "      <td>1.315126</td>\n",
       "      <td>0.876832</td>\n",
       "      <td>14.237952</td>\n",
       "      <td>2.016810</td>\n",
       "      <td>1.036598</td>\n",
       "      <td>7.133441</td>\n",
       "      <td>4</td>\n",
       "    </tr>\n",
       "    <tr>\n",
       "      <th>15573</th>\n",
       "      <td>308</td>\n",
       "      <td>228</td>\n",
       "      <td>747</td>\n",
       "      <td>532</td>\n",
       "      <td>485</td>\n",
       "      <td>2052</td>\n",
       "      <td>4312</td>\n",
       "      <td>3983</td>\n",
       "      <td>0.764341</td>\n",
       "      <td>0.690162</td>\n",
       "      <td>1.174220</td>\n",
       "      <td>0.782901</td>\n",
       "      <td>7.212371</td>\n",
       "      <td>1.686921</td>\n",
       "      <td>1.073471</td>\n",
       "      <td>4.331995</td>\n",
       "      <td>4</td>\n",
       "    </tr>\n",
       "    <tr>\n",
       "      <th>31151</th>\n",
       "      <td>275</td>\n",
       "      <td>92</td>\n",
       "      <td>445</td>\n",
       "      <td>334</td>\n",
       "      <td>190</td>\n",
       "      <td>2144</td>\n",
       "      <td>4921</td>\n",
       "      <td>4860</td>\n",
       "      <td>0.871390</td>\n",
       "      <td>0.889148</td>\n",
       "      <td>1.386991</td>\n",
       "      <td>0.924752</td>\n",
       "      <td>24.578947</td>\n",
       "      <td>2.198268</td>\n",
       "      <td>1.020985</td>\n",
       "      <td>9.921348</td>\n",
       "      <td>4</td>\n",
       "    </tr>\n",
       "  </tbody>\n",
       "</table>\n",
       "<p>89953 rows × 17 columns</p>\n",
       "</div>"
      ],
      "text/plain": [
       "       B01  B02  B03  B04  B05   B06   B07   B08      NDVI      ARVI  \\\n",
       "57006  247   95  494  267  199  1935  4113  4174  0.879757  0.866383   \n",
       "86889  214   75  329  172  157  1303  3390  3023  0.892332  0.855300   \n",
       "54605  304  191  522  353  405  1908  3832  4154  0.843355  0.744211   \n",
       "55920  201   66  437  235  137  1706  3593  3843  0.884747  0.898418   \n",
       "86829  307  169  560  525  356  2400  4987  4571  0.793956  0.790424   \n",
       "...    ...  ...  ...  ...  ...   ...   ...   ...       ...       ...   \n",
       "78377  368  219  491  469  488  1126  1894  1834  0.592705  0.423849   \n",
       "13075  353  341  684  831  759  1903  2744  2880  0.552142  0.427889   \n",
       "27848  293  159  622  508  332  2514  4980  5059  0.817496  0.820541   \n",
       "15573  308  228  747  532  485  2052  4312  3983  0.764341  0.690162   \n",
       "31151  275   92  445  334  190  2144  4921  4860  0.871390  0.889148   \n",
       "\n",
       "           SAVI      NDRE       RECI       EVI      SIPI       GCI  Grown_crop  \n",
       "57006  1.363325  0.908987  19.974874  2.134114  1.026164  7.449393           0  \n",
       "86889  1.351674  0.901258  18.254777  2.105186  1.028611  8.188450           0  \n",
       "54605  1.233359  0.822329   9.256790  1.819020  1.057082  6.957854           0  \n",
       "55920  1.396558  0.931156  27.051095  2.221290  1.019158  7.794050           0  \n",
       "86829  1.283105  0.855490  11.839888  1.936862  1.044365  7.162500           0  \n",
       "...         ...       ...        ...       ...       ...       ...         ...  \n",
       "78377  0.869322  0.579673   2.758197  1.078353  1.199851  2.735234           4  \n",
       "13075  0.874159  0.582852   2.794466  1.087135  1.197077  3.210526           4  \n",
       "27848  1.315126  0.876832  14.237952  2.016810  1.036598  7.133441           4  \n",
       "15573  1.174220  0.782901   7.212371  1.686921  1.073471  4.331995           4  \n",
       "31151  1.386991  0.924752  24.578947  2.198268  1.020985  9.921348           4  \n",
       "\n",
       "[89953 rows x 17 columns]"
      ]
     },
     "execution_count": 14,
     "metadata": {},
     "output_type": "execute_result"
    }
   ],
   "source": [
    "df_stratified.replace(to_replace = np.nan, value =0)"
   ]
  },
  {
   "cell_type": "code",
   "execution_count": 15,
   "metadata": {},
   "outputs": [],
   "source": [
    "data =pd.read_csv('data/pixel_data.csv')"
   ]
  },
  {
   "cell_type": "code",
   "execution_count": 16,
   "metadata": {},
   "outputs": [
    {
     "name": "stdout",
     "output_type": "stream",
     "text": [
      "57569 train examples\n",
      "14393 validation examples\n",
      "17991 test examples\n"
     ]
    }
   ],
   "source": [
    "# Split into train and test sets\n",
    "train, test = train_test_split(dataframe, test_size=0.2,shuffle=True)\n",
    "train, val = train_test_split(train, test_size=0.2,shuffle=True)\n",
    "\n",
    "X_train, y_train = train.iloc[:,0:16], train.Grown_crop\n",
    "X_val, y_val = val.iloc[:,0:16], val.Grown_crop\n",
    "X_test, y_test = test.iloc[:,0:16], test.Grown_crop\n",
    "\n",
    "print(len(train), 'train examples')\n",
    "print(len(val), 'validation examples')\n",
    "print(len(test), 'test examples')"
   ]
  },
  {
   "cell_type": "code",
   "execution_count": 17,
   "metadata": {},
   "outputs": [
    {
     "data": {
      "text/html": [
       "<div>\n",
       "<style scoped>\n",
       "    .dataframe tbody tr th:only-of-type {\n",
       "        vertical-align: middle;\n",
       "    }\n",
       "\n",
       "    .dataframe tbody tr th {\n",
       "        vertical-align: top;\n",
       "    }\n",
       "\n",
       "    .dataframe thead th {\n",
       "        text-align: right;\n",
       "    }\n",
       "</style>\n",
       "<table border=\"1\" class=\"dataframe\">\n",
       "  <thead>\n",
       "    <tr style=\"text-align: right;\">\n",
       "      <th></th>\n",
       "      <th>B01</th>\n",
       "      <th>B02</th>\n",
       "      <th>B03</th>\n",
       "      <th>B04</th>\n",
       "      <th>B05</th>\n",
       "      <th>B06</th>\n",
       "      <th>B07</th>\n",
       "      <th>B08</th>\n",
       "      <th>NDVI</th>\n",
       "      <th>ARVI</th>\n",
       "      <th>SAVI</th>\n",
       "      <th>NDRE</th>\n",
       "      <th>RECI</th>\n",
       "      <th>EVI</th>\n",
       "      <th>SIPI</th>\n",
       "      <th>GCI</th>\n",
       "    </tr>\n",
       "  </thead>\n",
       "  <tbody>\n",
       "    <tr>\n",
       "      <th>70165</th>\n",
       "      <td>325</td>\n",
       "      <td>206</td>\n",
       "      <td>621</td>\n",
       "      <td>454</td>\n",
       "      <td>440</td>\n",
       "      <td>1847</td>\n",
       "      <td>3609</td>\n",
       "      <td>3372</td>\n",
       "      <td>0.762676</td>\n",
       "      <td>0.671478</td>\n",
       "      <td>1.153574</td>\n",
       "      <td>0.769150</td>\n",
       "      <td>6.663636</td>\n",
       "      <td>1.640555</td>\n",
       "      <td>1.079809</td>\n",
       "      <td>4.429952</td>\n",
       "    </tr>\n",
       "    <tr>\n",
       "      <th>54370</th>\n",
       "      <td>409</td>\n",
       "      <td>282</td>\n",
       "      <td>837</td>\n",
       "      <td>743</td>\n",
       "      <td>605</td>\n",
       "      <td>2270</td>\n",
       "      <td>3873</td>\n",
       "      <td>3866</td>\n",
       "      <td>0.677587</td>\n",
       "      <td>0.618136</td>\n",
       "      <td>1.093928</td>\n",
       "      <td>0.729367</td>\n",
       "      <td>5.390083</td>\n",
       "      <td>1.514771</td>\n",
       "      <td>1.099049</td>\n",
       "      <td>3.618877</td>\n",
       "    </tr>\n",
       "    <tr>\n",
       "      <th>6842</th>\n",
       "      <td>387</td>\n",
       "      <td>162</td>\n",
       "      <td>591</td>\n",
       "      <td>441</td>\n",
       "      <td>339</td>\n",
       "      <td>2308</td>\n",
       "      <td>4615</td>\n",
       "      <td>4661</td>\n",
       "      <td>0.827127</td>\n",
       "      <td>0.802983</td>\n",
       "      <td>1.296470</td>\n",
       "      <td>0.864400</td>\n",
       "      <td>12.749263</td>\n",
       "      <td>1.971356</td>\n",
       "      <td>1.040953</td>\n",
       "      <td>6.886633</td>\n",
       "    </tr>\n",
       "    <tr>\n",
       "      <th>46377</th>\n",
       "      <td>388</td>\n",
       "      <td>210</td>\n",
       "      <td>640</td>\n",
       "      <td>458</td>\n",
       "      <td>447</td>\n",
       "      <td>1867</td>\n",
       "      <td>3609</td>\n",
       "      <td>3893</td>\n",
       "      <td>0.789474</td>\n",
       "      <td>0.705275</td>\n",
       "      <td>1.190877</td>\n",
       "      <td>0.794009</td>\n",
       "      <td>7.709172</td>\n",
       "      <td>1.722655</td>\n",
       "      <td>1.068775</td>\n",
       "      <td>5.082813</td>\n",
       "    </tr>\n",
       "    <tr>\n",
       "      <th>22987</th>\n",
       "      <td>213</td>\n",
       "      <td>128</td>\n",
       "      <td>654</td>\n",
       "      <td>512</td>\n",
       "      <td>267</td>\n",
       "      <td>2152</td>\n",
       "      <td>4222</td>\n",
       "      <td>4799</td>\n",
       "      <td>0.807193</td>\n",
       "      <td>0.845784</td>\n",
       "      <td>1.341755</td>\n",
       "      <td>0.894591</td>\n",
       "      <td>16.973783</td>\n",
       "      <td>2.081955</td>\n",
       "      <td>1.030671</td>\n",
       "      <td>6.337920</td>\n",
       "    </tr>\n",
       "  </tbody>\n",
       "</table>\n",
       "</div>"
      ],
      "text/plain": [
       "       B01  B02  B03  B04  B05   B06   B07   B08      NDVI      ARVI  \\\n",
       "70165  325  206  621  454  440  1847  3609  3372  0.762676  0.671478   \n",
       "54370  409  282  837  743  605  2270  3873  3866  0.677587  0.618136   \n",
       "6842   387  162  591  441  339  2308  4615  4661  0.827127  0.802983   \n",
       "46377  388  210  640  458  447  1867  3609  3893  0.789474  0.705275   \n",
       "22987  213  128  654  512  267  2152  4222  4799  0.807193  0.845784   \n",
       "\n",
       "           SAVI      NDRE       RECI       EVI      SIPI       GCI  \n",
       "70165  1.153574  0.769150   6.663636  1.640555  1.079809  4.429952  \n",
       "54370  1.093928  0.729367   5.390083  1.514771  1.099049  3.618877  \n",
       "6842   1.296470  0.864400  12.749263  1.971356  1.040953  6.886633  \n",
       "46377  1.190877  0.794009   7.709172  1.722655  1.068775  5.082813  \n",
       "22987  1.341755  0.894591  16.973783  2.081955  1.030671  6.337920  "
      ]
     },
     "execution_count": 17,
     "metadata": {},
     "output_type": "execute_result"
    }
   ],
   "source": [
    "X_train.head()"
   ]
  },
  {
   "cell_type": "code",
   "execution_count": 18,
   "metadata": {},
   "outputs": [
    {
     "data": {
      "text/plain": [
       "array([1, 0, 3, 4, 2])"
      ]
     },
     "execution_count": 18,
     "metadata": {},
     "output_type": "execute_result"
    }
   ],
   "source": [
    "y_test.unique()"
   ]
  },
  {
   "cell_type": "code",
   "execution_count": 19,
   "metadata": {},
   "outputs": [
    {
     "data": {
      "text/plain": [
       "Index(['B01', 'B02', 'B03', 'B04', 'B05', 'B06', 'B07', 'B08', 'NDVI', 'ARVI',\n",
       "       'SAVI', 'NDRE', 'RECI', 'EVI', 'SIPI', 'GCI'],\n",
       "      dtype='object')"
      ]
     },
     "execution_count": 19,
     "metadata": {},
     "output_type": "execute_result"
    }
   ],
   "source": [
    "X_train.columns"
   ]
  },
  {
   "cell_type": "markdown",
   "metadata": {
    "id": "uZCCR6cdUm0Z"
   },
   "source": [
    "Model :"
   ]
  },
  {
   "cell_type": "code",
   "execution_count": 20,
   "metadata": {
    "colab": {
     "base_uri": "https://localhost:8080/"
    },
    "executionInfo": {
     "elapsed": 1357677,
     "status": "ok",
     "timestamp": 1625828815457,
     "user": {
      "displayName": "Janet Mumo",
      "photoUrl": "https://lh3.googleusercontent.com/a-/AOh14Gg0c-PQMnopXTGwoJn8NxIfmJk7c-0eJhBsdZEekw=s64",
      "userId": "04853006977882381628"
     },
     "user_tz": 0
    },
    "id": "9my2RbnShs7-",
    "outputId": "cf5cfa54-4869-4e5a-ab08-b3e502895ba8"
   },
   "outputs": [
    {
     "data": {
      "application/vnd.jupyter.widget-view+json": {
       "model_id": "f59e8a4da4534379855609f0f328777e",
       "version_major": 2,
       "version_minor": 0
      },
      "text/plain": [
       "MetricVisualizer(layout=Layout(align_self='stretch', height='500px'))"
      ]
     },
     "metadata": {},
     "output_type": "display_data"
    },
    {
     "name": "stdout",
     "output_type": "stream",
     "text": [
      "0:\tlearn: 1.6080244\ttest: 1.6080334\tbest: 1.6080334 (0)\ttotal: 402ms\tremaining: 39.8s\n",
      "1:\tlearn: 1.6066372\ttest: 1.6066602\tbest: 1.6066602 (1)\ttotal: 747ms\tremaining: 36.6s\n",
      "2:\tlearn: 1.6052474\ttest: 1.6052797\tbest: 1.6052797 (2)\ttotal: 1.12s\tremaining: 36.1s\n",
      "3:\tlearn: 1.6038558\ttest: 1.6038957\tbest: 1.6038957 (3)\ttotal: 1.48s\tremaining: 35.5s\n",
      "4:\tlearn: 1.6024620\ttest: 1.6025083\tbest: 1.6025083 (4)\ttotal: 1.83s\tremaining: 34.8s\n",
      "5:\tlearn: 1.6011000\ttest: 1.6011603\tbest: 1.6011603 (5)\ttotal: 2.17s\tremaining: 34s\n",
      "6:\tlearn: 1.5997191\ttest: 1.5997903\tbest: 1.5997903 (6)\ttotal: 2.51s\tremaining: 33.4s\n",
      "7:\tlearn: 1.5983468\ttest: 1.5984258\tbest: 1.5984258 (7)\ttotal: 2.87s\tremaining: 33s\n",
      "8:\tlearn: 1.5969774\ttest: 1.5970622\tbest: 1.5970622 (8)\ttotal: 3.2s\tremaining: 32.4s\n",
      "9:\tlearn: 1.5956148\ttest: 1.5957075\tbest: 1.5957075 (9)\ttotal: 3.56s\tremaining: 32.1s\n",
      "10:\tlearn: 1.5942572\ttest: 1.5943625\tbest: 1.5943625 (10)\ttotal: 3.9s\tremaining: 31.5s\n",
      "11:\tlearn: 1.5929049\ttest: 1.5930167\tbest: 1.5930167 (11)\ttotal: 4.24s\tremaining: 31.1s\n",
      "12:\tlearn: 1.5915490\ttest: 1.5916695\tbest: 1.5916695 (12)\ttotal: 4.57s\tremaining: 30.6s\n",
      "13:\tlearn: 1.5902001\ttest: 1.5903292\tbest: 1.5903292 (13)\ttotal: 4.91s\tremaining: 30.1s\n",
      "14:\tlearn: 1.5888525\ttest: 1.5889889\tbest: 1.5889889 (14)\ttotal: 5.25s\tremaining: 29.8s\n",
      "15:\tlearn: 1.5875128\ttest: 1.5876597\tbest: 1.5876597 (15)\ttotal: 5.59s\tremaining: 29.3s\n",
      "16:\tlearn: 1.5861994\ttest: 1.5863571\tbest: 1.5863571 (16)\ttotal: 5.94s\tremaining: 29s\n",
      "17:\tlearn: 1.5848796\ttest: 1.5850490\tbest: 1.5850490 (17)\ttotal: 6.3s\tremaining: 28.7s\n",
      "18:\tlearn: 1.5835655\ttest: 1.5837437\tbest: 1.5837437 (18)\ttotal: 6.65s\tremaining: 28.3s\n",
      "19:\tlearn: 1.5822506\ttest: 1.5824368\tbest: 1.5824368 (19)\ttotal: 6.98s\tremaining: 27.9s\n",
      "20:\tlearn: 1.5809513\ttest: 1.5811495\tbest: 1.5811495 (20)\ttotal: 7.33s\tremaining: 27.6s\n",
      "21:\tlearn: 1.5796387\ttest: 1.5798423\tbest: 1.5798423 (21)\ttotal: 7.68s\tremaining: 27.2s\n",
      "22:\tlearn: 1.5783307\ttest: 1.5785413\tbest: 1.5785413 (22)\ttotal: 8.02s\tremaining: 26.8s\n",
      "23:\tlearn: 1.5770296\ttest: 1.5772458\tbest: 1.5772458 (23)\ttotal: 8.36s\tremaining: 26.5s\n",
      "24:\tlearn: 1.5757262\ttest: 1.5759487\tbest: 1.5759487 (24)\ttotal: 8.69s\tremaining: 26.1s\n",
      "25:\tlearn: 1.5744485\ttest: 1.5746810\tbest: 1.5746810 (25)\ttotal: 9.05s\tremaining: 25.8s\n",
      "26:\tlearn: 1.5731719\ttest: 1.5734187\tbest: 1.5734187 (26)\ttotal: 9.42s\tremaining: 25.5s\n",
      "27:\tlearn: 1.5718880\ttest: 1.5721469\tbest: 1.5721469 (27)\ttotal: 9.77s\tremaining: 25.1s\n",
      "28:\tlearn: 1.5706150\ttest: 1.5708809\tbest: 1.5708809 (28)\ttotal: 10.1s\tremaining: 24.7s\n",
      "29:\tlearn: 1.5693494\ttest: 1.5696261\tbest: 1.5696261 (29)\ttotal: 10.5s\tremaining: 24.4s\n",
      "30:\tlearn: 1.5680726\ttest: 1.5683538\tbest: 1.5683538 (30)\ttotal: 10.8s\tremaining: 24s\n",
      "31:\tlearn: 1.5668050\ttest: 1.5670974\tbest: 1.5670974 (31)\ttotal: 11.2s\tremaining: 23.7s\n",
      "32:\tlearn: 1.5655358\ttest: 1.5658354\tbest: 1.5658354 (32)\ttotal: 11.5s\tremaining: 23.4s\n",
      "33:\tlearn: 1.5642881\ttest: 1.5645972\tbest: 1.5645972 (33)\ttotal: 11.9s\tremaining: 23s\n",
      "34:\tlearn: 1.5630356\ttest: 1.5633538\tbest: 1.5633538 (34)\ttotal: 12.2s\tremaining: 22.6s\n",
      "35:\tlearn: 1.5617833\ttest: 1.5621096\tbest: 1.5621096 (35)\ttotal: 12.5s\tremaining: 22.3s\n",
      "36:\tlearn: 1.5605374\ttest: 1.5608725\tbest: 1.5608725 (36)\ttotal: 12.9s\tremaining: 21.9s\n",
      "37:\tlearn: 1.5593078\ttest: 1.5596530\tbest: 1.5596530 (37)\ttotal: 13.2s\tremaining: 21.6s\n",
      "38:\tlearn: 1.5580799\ttest: 1.5584353\tbest: 1.5584353 (38)\ttotal: 13.6s\tremaining: 21.2s\n",
      "39:\tlearn: 1.5568567\ttest: 1.5572219\tbest: 1.5572219 (39)\ttotal: 14s\tremaining: 20.9s\n",
      "40:\tlearn: 1.5556326\ttest: 1.5560093\tbest: 1.5560093 (40)\ttotal: 14.3s\tremaining: 20.6s\n",
      "41:\tlearn: 1.5544050\ttest: 1.5547896\tbest: 1.5547896 (41)\ttotal: 14.7s\tremaining: 20.3s\n",
      "42:\tlearn: 1.5531839\ttest: 1.5535768\tbest: 1.5535768 (42)\ttotal: 15s\tremaining: 19.9s\n",
      "43:\tlearn: 1.5519608\ttest: 1.5523601\tbest: 1.5523601 (43)\ttotal: 15.3s\tremaining: 19.5s\n",
      "44:\tlearn: 1.5507393\ttest: 1.5511446\tbest: 1.5511446 (44)\ttotal: 15.7s\tremaining: 19.2s\n",
      "45:\tlearn: 1.5495302\ttest: 1.5499456\tbest: 1.5499456 (45)\ttotal: 16.1s\tremaining: 18.9s\n",
      "46:\tlearn: 1.5483372\ttest: 1.5487634\tbest: 1.5487634 (46)\ttotal: 16.4s\tremaining: 18.5s\n",
      "47:\tlearn: 1.5471293\ttest: 1.5475623\tbest: 1.5475623 (47)\ttotal: 16.7s\tremaining: 18.1s\n",
      "48:\tlearn: 1.5459281\ttest: 1.5463701\tbest: 1.5463701 (48)\ttotal: 17.1s\tremaining: 17.8s\n",
      "49:\tlearn: 1.5447420\ttest: 1.5451979\tbest: 1.5451979 (49)\ttotal: 17.4s\tremaining: 17.4s\n",
      "50:\tlearn: 1.5435555\ttest: 1.5440209\tbest: 1.5440209 (50)\ttotal: 17.8s\tremaining: 17.1s\n",
      "51:\tlearn: 1.5423781\ttest: 1.5428538\tbest: 1.5428538 (51)\ttotal: 18.1s\tremaining: 16.7s\n",
      "52:\tlearn: 1.5411886\ttest: 1.5416706\tbest: 1.5416706 (52)\ttotal: 18.5s\tremaining: 16.4s\n",
      "53:\tlearn: 1.5399997\ttest: 1.5404871\tbest: 1.5404871 (53)\ttotal: 18.8s\tremaining: 16s\n",
      "54:\tlearn: 1.5388215\ttest: 1.5393171\tbest: 1.5393171 (54)\ttotal: 19.2s\tremaining: 15.7s\n",
      "55:\tlearn: 1.5376518\ttest: 1.5381573\tbest: 1.5381573 (55)\ttotal: 19.5s\tremaining: 15.3s\n",
      "56:\tlearn: 1.5365007\ttest: 1.5370171\tbest: 1.5370171 (56)\ttotal: 19.9s\tremaining: 15s\n",
      "57:\tlearn: 1.5353397\ttest: 1.5358624\tbest: 1.5358624 (57)\ttotal: 20.2s\tremaining: 14.6s\n",
      "58:\tlearn: 1.5341819\ttest: 1.5347120\tbest: 1.5347120 (58)\ttotal: 20.5s\tremaining: 14.3s\n",
      "59:\tlearn: 1.5330253\ttest: 1.5335645\tbest: 1.5335645 (59)\ttotal: 20.9s\tremaining: 13.9s\n",
      "60:\tlearn: 1.5318683\ttest: 1.5324156\tbest: 1.5324156 (60)\ttotal: 21.2s\tremaining: 13.6s\n",
      "61:\tlearn: 1.5307227\ttest: 1.5312779\tbest: 1.5312779 (61)\ttotal: 21.6s\tremaining: 13.2s\n",
      "62:\tlearn: 1.5295797\ttest: 1.5301428\tbest: 1.5301428 (62)\ttotal: 22s\tremaining: 12.9s\n",
      "63:\tlearn: 1.5284392\ttest: 1.5290115\tbest: 1.5290115 (63)\ttotal: 22.3s\tremaining: 12.5s\n",
      "64:\tlearn: 1.5273103\ttest: 1.5278905\tbest: 1.5278905 (64)\ttotal: 22.6s\tremaining: 12.2s\n",
      "65:\tlearn: 1.5261729\ttest: 1.5267599\tbest: 1.5267599 (65)\ttotal: 23s\tremaining: 11.8s\n",
      "66:\tlearn: 1.5250364\ttest: 1.5256312\tbest: 1.5256312 (66)\ttotal: 23.3s\tremaining: 11.5s\n",
      "67:\tlearn: 1.5239019\ttest: 1.5245019\tbest: 1.5245019 (67)\ttotal: 23.7s\tremaining: 11.2s\n",
      "68:\tlearn: 1.5227757\ttest: 1.5233847\tbest: 1.5233847 (68)\ttotal: 24.1s\tremaining: 10.8s\n",
      "69:\tlearn: 1.5216534\ttest: 1.5222663\tbest: 1.5222663 (69)\ttotal: 24.4s\tremaining: 10.5s\n",
      "70:\tlearn: 1.5205399\ttest: 1.5211619\tbest: 1.5211619 (70)\ttotal: 24.8s\tremaining: 10.1s\n",
      "71:\tlearn: 1.5194245\ttest: 1.5200563\tbest: 1.5200563 (71)\ttotal: 25.2s\tremaining: 9.78s\n",
      "72:\tlearn: 1.5183132\ttest: 1.5189533\tbest: 1.5189533 (72)\ttotal: 25.5s\tremaining: 9.44s\n",
      "73:\tlearn: 1.5172044\ttest: 1.5178556\tbest: 1.5178556 (73)\ttotal: 25.9s\tremaining: 9.1s\n",
      "74:\tlearn: 1.5161047\ttest: 1.5167679\tbest: 1.5167679 (74)\ttotal: 26.3s\tremaining: 8.75s\n",
      "75:\tlearn: 1.5150096\ttest: 1.5156824\tbest: 1.5156824 (75)\ttotal: 26.6s\tremaining: 8.39s\n",
      "76:\tlearn: 1.5139043\ttest: 1.5145858\tbest: 1.5145858 (76)\ttotal: 26.9s\tremaining: 8.05s\n",
      "77:\tlearn: 1.5128113\ttest: 1.5134978\tbest: 1.5134978 (77)\ttotal: 27.3s\tremaining: 7.69s\n",
      "78:\tlearn: 1.5117278\ttest: 1.5124244\tbest: 1.5124244 (78)\ttotal: 27.6s\tremaining: 7.34s\n",
      "79:\tlearn: 1.5106339\ttest: 1.5113372\tbest: 1.5113372 (79)\ttotal: 28s\tremaining: 6.99s\n",
      "80:\tlearn: 1.5095502\ttest: 1.5102612\tbest: 1.5102612 (80)\ttotal: 28.3s\tremaining: 6.64s\n",
      "81:\tlearn: 1.5084625\ttest: 1.5091803\tbest: 1.5091803 (81)\ttotal: 28.6s\tremaining: 6.28s\n",
      "82:\tlearn: 1.5073924\ttest: 1.5081203\tbest: 1.5081203 (82)\ttotal: 29s\tremaining: 5.93s\n",
      "83:\tlearn: 1.5063227\ttest: 1.5070567\tbest: 1.5070567 (83)\ttotal: 29.3s\tremaining: 5.59s\n",
      "84:\tlearn: 1.5052492\ttest: 1.5059886\tbest: 1.5059886 (84)\ttotal: 29.7s\tremaining: 5.24s\n",
      "85:\tlearn: 1.5041801\ttest: 1.5049262\tbest: 1.5049262 (85)\ttotal: 30s\tremaining: 4.89s\n",
      "86:\tlearn: 1.5031151\ttest: 1.5038709\tbest: 1.5038709 (86)\ttotal: 30.4s\tremaining: 4.54s\n",
      "87:\tlearn: 1.5020541\ttest: 1.5028166\tbest: 1.5028166 (87)\ttotal: 30.7s\tremaining: 4.18s\n",
      "88:\tlearn: 1.5010008\ttest: 1.5017726\tbest: 1.5017726 (88)\ttotal: 31.1s\tremaining: 3.84s\n",
      "89:\tlearn: 1.4999480\ttest: 1.5007260\tbest: 1.5007260 (89)\ttotal: 31.4s\tremaining: 3.49s\n",
      "90:\tlearn: 1.4988884\ttest: 1.4996730\tbest: 1.4996730 (90)\ttotal: 31.7s\tremaining: 3.14s\n",
      "91:\tlearn: 1.4978389\ttest: 1.4986306\tbest: 1.4986306 (91)\ttotal: 32.1s\tremaining: 2.79s\n",
      "92:\tlearn: 1.4967953\ttest: 1.4975939\tbest: 1.4975939 (92)\ttotal: 32.4s\tremaining: 2.44s\n",
      "93:\tlearn: 1.4957512\ttest: 1.4965569\tbest: 1.4965569 (93)\ttotal: 32.8s\tremaining: 2.09s\n",
      "94:\tlearn: 1.4947096\ttest: 1.4955239\tbest: 1.4955239 (94)\ttotal: 33.1s\tremaining: 1.74s\n",
      "95:\tlearn: 1.4936672\ttest: 1.4944880\tbest: 1.4944880 (95)\ttotal: 33.4s\tremaining: 1.39s\n",
      "96:\tlearn: 1.4926315\ttest: 1.4934590\tbest: 1.4934590 (96)\ttotal: 33.8s\tremaining: 1.04s\n",
      "97:\tlearn: 1.4915966\ttest: 1.4924292\tbest: 1.4924292 (97)\ttotal: 34.1s\tremaining: 697ms\n",
      "98:\tlearn: 1.4905704\ttest: 1.4914092\tbest: 1.4914092 (98)\ttotal: 34.5s\tremaining: 348ms\n",
      "99:\tlearn: 1.4895451\ttest: 1.4903885\tbest: 1.4903885 (99)\ttotal: 34.8s\tremaining: 0us\n",
      "\n",
      "bestTest = 1.490388511\n",
      "bestIteration = 99\n",
      "\n",
      "Field score: 1.3663112826245487\n"
     ]
    },
    {
     "data": {
      "text/html": [
       "<div>\n",
       "<style scoped>\n",
       "    .dataframe tbody tr th:only-of-type {\n",
       "        vertical-align: middle;\n",
       "    }\n",
       "\n",
       "    .dataframe tbody tr th {\n",
       "        vertical-align: top;\n",
       "    }\n",
       "\n",
       "    .dataframe thead th {\n",
       "        text-align: right;\n",
       "    }\n",
       "</style>\n",
       "<table border=\"1\" class=\"dataframe\">\n",
       "  <thead>\n",
       "    <tr style=\"text-align: right;\">\n",
       "      <th></th>\n",
       "      <th>True_crops</th>\n",
       "      <th>Crop_ID_1</th>\n",
       "      <th>Crop_ID_2</th>\n",
       "      <th>Crop_ID_3</th>\n",
       "      <th>Crop_ID_4</th>\n",
       "      <th>Crop_ID_5</th>\n",
       "    </tr>\n",
       "  </thead>\n",
       "  <tbody>\n",
       "    <tr>\n",
       "      <th>0</th>\n",
       "      <td>1</td>\n",
       "      <td>0.196133</td>\n",
       "      <td>0.244351</td>\n",
       "      <td>0.186408</td>\n",
       "      <td>0.189762</td>\n",
       "      <td>0.183346</td>\n",
       "    </tr>\n",
       "    <tr>\n",
       "      <th>1</th>\n",
       "      <td>0</td>\n",
       "      <td>0.196482</td>\n",
       "      <td>0.242872</td>\n",
       "      <td>0.187288</td>\n",
       "      <td>0.189937</td>\n",
       "      <td>0.183421</td>\n",
       "    </tr>\n",
       "    <tr>\n",
       "      <th>2</th>\n",
       "      <td>1</td>\n",
       "      <td>0.196819</td>\n",
       "      <td>0.243046</td>\n",
       "      <td>0.186448</td>\n",
       "      <td>0.190538</td>\n",
       "      <td>0.183149</td>\n",
       "    </tr>\n",
       "    <tr>\n",
       "      <th>3</th>\n",
       "      <td>1</td>\n",
       "      <td>0.195580</td>\n",
       "      <td>0.244102</td>\n",
       "      <td>0.186364</td>\n",
       "      <td>0.190284</td>\n",
       "      <td>0.183670</td>\n",
       "    </tr>\n",
       "    <tr>\n",
       "      <th>4</th>\n",
       "      <td>1</td>\n",
       "      <td>0.195542</td>\n",
       "      <td>0.245525</td>\n",
       "      <td>0.186561</td>\n",
       "      <td>0.189460</td>\n",
       "      <td>0.182912</td>\n",
       "    </tr>\n",
       "  </tbody>\n",
       "</table>\n",
       "</div>"
      ],
      "text/plain": [
       "   True_crops  Crop_ID_1  Crop_ID_2  Crop_ID_3  Crop_ID_4  Crop_ID_5\n",
       "0           1   0.196133   0.244351   0.186408   0.189762   0.183346\n",
       "1           0   0.196482   0.242872   0.187288   0.189937   0.183421\n",
       "2           1   0.196819   0.243046   0.186448   0.190538   0.183149\n",
       "3           1   0.195580   0.244102   0.186364   0.190284   0.183670\n",
       "4           1   0.195542   0.245525   0.186561   0.189460   0.182912"
      ]
     },
     "execution_count": 20,
     "metadata": {},
     "output_type": "execute_result"
    }
   ],
   "source": [
    "model =  CatBoostClassifier(\n",
    "    iterations=100,\n",
    "    learning_rate=0.001,\n",
    "    random_strength=0.1,\n",
    "    depth=10,\n",
    "    loss_function='MultiClass'\n",
    ")\n",
    "\n",
    "model.fit(X_train,\n",
    "          y_train,\n",
    "          cat_features=None,\n",
    "          eval_set=(X_val, y_val),\n",
    "          plot=True\n",
    "         )\n",
    "\n",
    "train_score = model.score(X_train, y_train) # train (learn) score\n",
    "\n",
    "val_score = model.score(X_val, y_val) # val (test) score\n",
    "test_score = model.score(X_test, y_test) # val (test) score\n",
    "\n",
    "\n",
    "# Get predicted probabilities\n",
    "preds = model.predict_proba(X_val.fillna(0))\n",
    "\n",
    "# Add to val_grouped dataframe as columns\n",
    "for i in range(5):\n",
    "      val[str(i+1)] = preds[:,i]\n",
    "\n",
    "# Get 'true' vals as columns in val\n",
    "for c in range(1, 6):\n",
    "      val['true'+str(c)] = (val['Grown_crop'] == c).astype(int)\n",
    "\n",
    "pred_cols = [str(i) for i in range(1, 6)]\n",
    "true_cols = ['true'+str(i) for i in range(1, 6)]\n",
    "val[['Grown_crop']+true_cols+pred_cols].head()\n",
    "\n",
    "# Already grouped, but just to double check:\n",
    "print('Field score:', log_loss(val[true_cols], val[pred_cols]))\n",
    "\n",
    "preds = model.predict_proba(X_test)\n",
    "\n",
    "prob_df = pd.DataFrame({\n",
    "    'True_crops':test['Grown_crop'].values\n",
    "})\n",
    "for c in range(1, 6):\n",
    "    prob_df['Crop_ID_'+str(c)] = preds[:,c-1]\n",
    "prob_df.head()"
   ]
  },
  {
   "cell_type": "code",
   "execution_count": 21,
   "metadata": {
    "id": "Tu68HRRylNn6"
   },
   "outputs": [
    {
     "data": {
      "text/plain": [
       "0.6693011864024041"
      ]
     },
     "execution_count": 21,
     "metadata": {},
     "output_type": "execute_result"
    }
   ],
   "source": [
    "train_score"
   ]
  },
  {
   "cell_type": "code",
   "execution_count": 22,
   "metadata": {},
   "outputs": [
    {
     "data": {
      "text/plain": [
       "0.667546724101994"
      ]
     },
     "execution_count": 22,
     "metadata": {},
     "output_type": "execute_result"
    }
   ],
   "source": [
    "val_score"
   ]
  },
  {
   "cell_type": "code",
   "execution_count": 23,
   "metadata": {},
   "outputs": [
    {
     "data": {
      "text/plain": [
       "0.6643321660830416"
      ]
     },
     "execution_count": 23,
     "metadata": {},
     "output_type": "execute_result"
    }
   ],
   "source": [
    "test_score"
   ]
  },
  {
   "cell_type": "code",
   "execution_count": 24,
   "metadata": {},
   "outputs": [
    {
     "name": "stdout",
     "output_type": "stream",
     "text": [
      "0.002466605291042054\n",
      "[[ 9034     1     0     0     0]\n",
      " [    0 38482     5    42     2]\n",
      " [    0    36  3157     3     5]\n",
      " [    0    45     1  5464     0]\n",
      " [    0     1     1     0  1290]]\n",
      "              precision    recall  f1-score   support\n",
      "\n",
      "           0       1.00      1.00      1.00      9035\n",
      "           1       1.00      1.00      1.00     38531\n",
      "           2       1.00      0.99      0.99      3201\n",
      "           3       0.99      0.99      0.99      5510\n",
      "           4       0.99      1.00      1.00      1292\n",
      "\n",
      "    accuracy                           1.00     57569\n",
      "   macro avg       1.00      0.99      1.00     57569\n",
      "weighted avg       1.00      1.00      1.00     57569\n",
      "\n",
      "Accuracy: 0.997533394708958\n"
     ]
    }
   ],
   "source": [
    "#Reandom forest\n",
    "\n",
    "# Fit and score a baseline RandomForestClassifier\n",
    "forest1 = RandomForestClassifier(n_estimators=500,criterion = 'entropy', random_state = 2)\n",
    "forest1.fit(X_train, y_train)\n",
    "\n",
    "train_pred = forest1.predict(X_train)\n",
    "\n",
    "#print_metrics(train_labels, train_pred)\n",
    "from sklearn import metrics\n",
    "from sklearn.metrics import classification_report, confusion_matrix \n",
    "import numpy as np\n",
    "print(np.mean(train_pred != y_train))\n",
    "print(confusion_matrix(y_train, train_pred))  \n",
    "print(classification_report(y_train, train_pred)) \n",
    "print(\"Accuracy:\", metrics.accuracy_score(y_train, train_pred))"
   ]
  },
  {
   "cell_type": "code",
   "execution_count": 25,
   "metadata": {},
   "outputs": [
    {
     "data": {
      "text/plain": [
       "array([1, 0, 3, 4, 2])"
      ]
     },
     "execution_count": 25,
     "metadata": {},
     "output_type": "execute_result"
    }
   ],
   "source": [
    "y_test.unique()"
   ]
  },
  {
   "cell_type": "code",
   "execution_count": 26,
   "metadata": {},
   "outputs": [
    {
     "name": "stdout",
     "output_type": "stream",
     "text": [
      "0.15695129576877648\n",
      "[[1420  855    0    0    0]\n",
      " [   6 9570    3   26    3]\n",
      " [   3  364  407    3    6]\n",
      " [   1  792    3  640    0]\n",
      " [   1  192    1    0   97]]\n",
      "              precision    recall  f1-score   support\n",
      "\n",
      "           0       0.99      0.62      0.77      2275\n",
      "           1       0.81      1.00      0.90      9608\n",
      "           2       0.98      0.52      0.68       783\n",
      "           3       0.96      0.45      0.61      1436\n",
      "           4       0.92      0.33      0.49       291\n",
      "\n",
      "    accuracy                           0.84     14393\n",
      "   macro avg       0.93      0.58      0.69     14393\n",
      "weighted avg       0.87      0.84      0.83     14393\n",
      "\n",
      "Accuracy: 0.8430487042312235\n"
     ]
    }
   ],
   "source": [
    "# Validate\n",
    "val_pred = forest1.predict(X_val)\n",
    "\n",
    "print(np.mean(val_pred != y_val))\n",
    "print(confusion_matrix(y_val, val_pred))  \n",
    "print(classification_report(y_val, val_pred)) \n",
    "print(\"Accuracy:\", metrics.accuracy_score(y_val, val_pred))"
   ]
  },
  {
   "cell_type": "code",
   "execution_count": 27,
   "metadata": {},
   "outputs": [
    {
     "name": "stdout",
     "output_type": "stream",
     "text": [
      "0.15680062253348898\n",
      "[[ 1787  1060     0     0     0]\n",
      " [   19 11902     6    25     0]\n",
      " [    1   444   569     2     6]\n",
      " [    2   987     1   778     0]\n",
      " [    0   265     3     0   134]]\n",
      "              precision    recall  f1-score   support\n",
      "\n",
      "           0       0.99      0.63      0.77      2847\n",
      "           1       0.81      1.00      0.89     11952\n",
      "           2       0.98      0.56      0.71      1022\n",
      "           3       0.97      0.44      0.60      1768\n",
      "           4       0.96      0.33      0.49       402\n",
      "\n",
      "    accuracy                           0.84     17991\n",
      "   macro avg       0.94      0.59      0.69     17991\n",
      "weighted avg       0.87      0.84      0.83     17991\n",
      "\n",
      "Accuracy: 0.8431993774665111\n"
     ]
    }
   ],
   "source": [
    "# Validate\n",
    "test_pred = forest1.predict(X_test)\n",
    "\n",
    "print(np.mean(test_pred != y_test))\n",
    "print(confusion_matrix(y_test, test_pred))  \n",
    "print(classification_report(y_test, test_pred)) \n",
    "print(\"Accuracy:\", metrics.accuracy_score(y_test, test_pred))"
   ]
  },
  {
   "cell_type": "code",
   "execution_count": 28,
   "metadata": {},
   "outputs": [],
   "source": [
    "def roc_it(y_true, y_pred, model_name, figsize=(12,10)):\n",
    "    '''Plot ROC with a separate curve for each class.\n",
    "    \n",
    "        Keyword arguments:\n",
    "    y_true: ground-truth labels\n",
    "    y_pred: predicted labels\n",
    "    model_name: name to print in the plot title\n",
    "    \n",
    "    Dependencies:\n",
    "    pandas aliased as pd\n",
    "    sklearn.metrics.roc_curve\n",
    "    sklearn.metrics.auc\n",
    "    matplotlib.pyplot aliased as plt\n",
    "    '''\n",
    "    y_true_dum = pd.get_dummies(y_true.astype(int))\n",
    "    y_pred_dum = pd.get_dummies(y_pred)\n",
    "    n_classes = np.unique(y_pred.astype(int))#y_true.unique()\n",
    "    \n",
    "    fprs = []\n",
    "    tprs = []\n",
    "    aucs = []\n",
    "\n",
    "    for i in range(0,len(n_classes)):\n",
    "        fpr, tpr, _ = roc_curve(y_true_dum.loc[:,i], y_pred_dum.loc[:,i])\n",
    "        fprs.append(fpr)\n",
    "        tprs.append(tpr)\n",
    "        aucs.append(round(auc(fpr, tpr),2))\n",
    "        \n",
    "    plt.figure(figsize=(12,10))\n",
    "    for i in range(len(n_classes)):\n",
    "        plt.plot(fprs[i], tprs[i], label='Class: {}, AUC: {}'.format(i+1, \n",
    "                                                                     aucs[i]))\n",
    "    plt.plot([0.0,1.0], [0.0,1.0], linestyle='--')\n",
    "    plt.title('ROC curves by class for {}'.format(model_name))\n",
    "    plt.xlabel('False Positive Rate')\n",
    "    plt.ylabel('True Positive Rate')\n",
    "    plt.legend();\n"
   ]
  },
  {
   "cell_type": "code",
   "execution_count": 29,
   "metadata": {},
   "outputs": [],
   "source": [
    "# Define a function to visualize a confusion matrix\n",
    "def pretty_confusion(y_true, y_pred, model_name):\n",
    "    '''Display normalized confusion matrix with color scale.\n",
    "    \n",
    "    Note that this function works specifically for data from the \n",
    "    Forest Cover Types dataset. \n",
    "    \n",
    "    Keyword arguments:\n",
    "    y_true: ground-truth labels\n",
    "    y_pred: predicted labels\n",
    "    model_name: name to print in the plot title\n",
    "    \n",
    "    Dependencies:\n",
    "    numpy aliased as np\n",
    "    sklearn.metrics.confusion_matrix\n",
    "    matplotlib.pyplot aliased as plt\n",
    "    seaborn aliased as sns\n",
    "    '''\n",
    "    \n",
    "    # Calculate the confusion matrix\n",
    "    matrix = confusion_matrix(y_true, y_pred)\n",
    "    matrix = matrix.astype('float') / matrix.sum(axis=1)[:, np.newaxis]\n",
    "    \n",
    "    # Build the plot\n",
    "    plt.figure(figsize=(16,7))\n",
    "    sns.set(font_scale=1.4)\n",
    "    sns.heatmap(matrix, annot=True, annot_kws={'size':10},\n",
    "                cmap=plt.cm.Greens, linewidths=0.2)\n",
    "    \n",
    "    # Add labels to the plot\n",
    "    class_names = ['millet, soybeans', 'soybeans, sorghum', 'rice, sorghum',\n",
    "       'groundnut, sorghum', 'maize, sorghum']\n",
    "    tick_marks = np.arange(len(class_names))\n",
    "    tick_marks2 = tick_marks + 0.5\n",
    "    plt.xticks(tick_marks, class_names, rotation=25)\n",
    "    plt.yticks(tick_marks2, class_names, rotation=0)\n",
    "    plt.xlabel('Predicted label')\n",
    "    plt.ylabel('True label')\n",
    "    plt.title('Confusion Matrix for {}'.format(model_name)) \n",
    "    plt.tight_layout()\n",
    "    \n",
    "    \n",
    "# Define a function to save a confusion matrix visualization    \n",
    "def save_conf_matrix(y_true, y_pred, model_name):\n",
    "    '''Save normalized confusion matrix with color scale as .png file.\n",
    "    \n",
    "    Note that in Jupyter Notebook, the plot will also be displayed\n",
    "    automatically on calling this function. This function saves .png files\n",
    "    with 300 dpi and 0.5-in. padding.\n",
    "    \n",
    "    Keyword arguments:\n",
    "    y_true: ground-truth labels\n",
    "    y_pred: predicted labels\n",
    "    model_name: name to print in the plot title\n",
    "    \n",
    "    Dependencies:\n",
    "    sklearn.metrics.confusion_matrix\n",
    "    matplotlib.pyplot aliased as plt\n",
    "    seaborn aliased as sns\n",
    "    '''\n",
    "    fig = pretty_confusion(y_true, y_pred, model_name)\n",
    "    filename = '_'.join(model_name.split()) + '_confmatrix.png'\n",
    "    plt.savefig(filename, pad_inches=0.5, dpi=300)"
   ]
  },
  {
   "cell_type": "code",
   "execution_count": 30,
   "metadata": {},
   "outputs": [
    {
     "data": {
      "image/png": "[encoded data removed]",
      "text/plain": [
       "<Figure size 864x720 with 1 Axes>"
      ]
     },
     "metadata": {
      "needs_background": "light"
     },
     "output_type": "display_data"
    }
   ],
   "source": [
    "# Plot ROC curve for each class\n",
    "roc_it(y_test, test_pred,'Random Forest')\n",
    "plt.savefig('Results/Roc_rf_test.png')"
   ]
  },
  {
   "cell_type": "code",
   "execution_count": 31,
   "metadata": {},
   "outputs": [
    {
     "data": {
      "image/png": "[encoded data removed]",
      "text/plain": [
       "<Figure size 1152x504 with 2 Axes>"
      ]
     },
     "metadata": {
      "needs_background": "light"
     },
     "output_type": "display_data"
    }
   ],
   "source": [
    "#View confusion matrix for Random Forest 1\n",
    "save_conf_matrix(y_test, test_pred, 'Random Forest')"
   ]
  },
  {
   "cell_type": "code",
   "execution_count": 32,
   "metadata": {},
   "outputs": [],
   "source": [
    "rf = RandomForestClassifier(n_estimators=500, random_state=12345)\n",
    "\n",
    "rf.fit(X_train, y_train)\n",
    "\n",
    "preds = rf.predict_proba(X_val)"
   ]
  },
  {
   "cell_type": "code",
   "execution_count": 33,
   "metadata": {},
   "outputs": [
    {
     "data": {
      "text/plain": [
       "0.8429792260126451"
      ]
     },
     "execution_count": 33,
     "metadata": {},
     "output_type": "execute_result"
    }
   ],
   "source": [
    "rf_preds =  rf.predict(X_val)\n",
    "\n",
    "accuracy_score(y_val, rf_preds)"
   ]
  },
  {
   "cell_type": "code",
   "execution_count": 34,
   "metadata": {},
   "outputs": [
    {
     "name": "stdout",
     "output_type": "stream",
     "text": [
      "        * class     0 = 76.6 | 62.5 | 98.9 |     2275\n",
      "        * class     1 = 89.5 | 99.6 | 81.3 |     9608\n",
      "        * class     2 = 68.0 | 52.0 | 98.3 |      783\n",
      "        * class     3 = 60.8 | 44.6 | 95.5 |     1436\n",
      "        * class     4 = 48.9 | 33.3 | 91.5 |      291\n"
     ]
    }
   ],
   "source": [
    "unique_lbls = np.unique(y_val)\n",
    "\n",
    "f1_scores = metrics.f1_score(y_val, rf_preds, labels=unique_lbls, average=None)\n",
    "recall = metrics.recall_score(y_val, rf_preds, labels=unique_lbls, average=None)\n",
    "precision = metrics.precision_score(y_val, rf_preds, labels=unique_lbls, average=None)\n",
    "    \n",
    "for idx, class_id in enumerate(unique_lbls):\n",
    "    print(f'        * class {class_id:5d} = {f1_scores[idx]*100:2.1f} | {recall[idx]*100:2.1f} | {precision[idx]*100:2.1f} | {np.count_nonzero(y_val==class_id):8d}')"
   ]
  },
  {
   "cell_type": "code",
   "execution_count": 35,
   "metadata": {},
   "outputs": [
    {
     "name": "stdout",
     "output_type": "stream",
     "text": [
      "[0.06876101 0.06050402 0.06555637 0.06649531 0.06049617 0.06766798\n",
      " 0.0686234  0.06202718 0.06668233 0.05745198 0.05780029 0.05700593\n",
      " 0.0570229  0.05854406 0.05843421 0.06692686]\n",
      "\n",
      " ['B01' 'B02' 'B03' 'B04' 'B05' 'B06' 'B07' 'B08' 'NDVI' 'ARVI' 'SAVI'\n",
      " 'NDRE' 'RECI' 'EVI' 'SIPI' 'GCI']\n"
     ]
    }
   ],
   "source": [
    "from sklearn import metrics\n",
    "from sklearn.ensemble import ExtraTreesClassifier\n",
    "\n",
    "#define and fit a ExtraTreeClassifier to the data\n",
    "model = ExtraTreesClassifier()\n",
    "model.fit(X_train,y_train)\n",
    "\n",
    "#display the feature importance\n",
    "print(model.feature_importances_)\n",
    "print('\\n',X_train.columns.values)"
   ]
  },
  {
   "cell_type": "code",
   "execution_count": 36,
   "metadata": {},
   "outputs": [
    {
     "data": {
      "image/png": "[encoded data removed]",
      "text/plain": [
       "<Figure size 432x288 with 1 Axes>"
      ]
     },
     "metadata": {},
     "output_type": "display_data"
    }
   ],
   "source": [
    "#bar plot of feature importance\n",
    "values = model.feature_importances_\n",
    "pos = np.arange(16) + 0.04\n",
    "plt.barh(pos,values,align = 'center')\n",
    "plt.title('Feature importance plot')\n",
    "plt.xlabel('feature importance ')\n",
    "plt.ylabel('features')\n",
    "plt.yticks(np.arange(16),('B01', 'B02', 'B03', 'B04' ,'B05', 'B06', 'B07', 'B08', 'NDVI', 'ARVI', 'SAVI',\n",
    " 'NDRE' ,'RECI' ,'EVI', 'SIPI', 'GCI'))\n",
    "plt.grid(True)"
   ]
  },
  {
   "cell_type": "raw",
   "metadata": {},
   "source": [
    "#updating features: combining best features from both RFE and feature importance\n",
    "#features = features[['education.num','marital.status','relationship','race','age','fnlwgt']]\n",
    "\n",
    "#here we have consider best features from both RFE and feature importance results\n",
    "\n",
    "#spliting data into train and test data\n",
    "#X_train,X_test,y_train,y_test = train_test_split(features,target,random_state = 12)\n",
    "\n",
    "from sklearn.neighbors import KNeighborsClassifier\n",
    "\n",
    "k_values = np.arange(1,31)\n",
    "scores = []\n",
    "\n",
    "for i in k_values:\n",
    "    clf = KNeighborsClassifier(n_neighbors=i)\n",
    "    clf.fit(X_train,y_train)\n",
    "    y_predict = clf.predict(X_test)\n",
    "    scores.append(metrics.accuracy_score(y_test,y_predict))\n",
    "\n",
    "print(\"Accuracy for {} is {}\".format(np.argmax(scores),max(scores)))\n",
    "\n",
    "plt.plot(np.arange(1,31),scores)\n",
    "plt.title('Varition of accuracy with K value,with best features from RFE and feature importance')\n",
    "plt.xlabel('K values')\n",
    "plt.ylabel('Accuracy')"
   ]
  },
  {
   "cell_type": "code",
   "execution_count": 37,
   "metadata": {},
   "outputs": [],
   "source": [
    "from sklearn.neighbors import KNeighborsClassifier\n",
    "from sklearn.linear_model import LogisticRegression\n",
    "from sklearn import model_selection\n",
    "from sklearn.model_selection import GroupShuffleSplit, StratifiedKFold, cross_val_score, train_test_split, GridSearchCV\n",
    "from sklearn import linear_model, svm, naive_bayes, neighbors, ensemble\n",
    "from sklearn.metrics import precision_score, recall_score, precision_recall_curve,f1_score, fbeta_score, auc, plot_roc_curve\n",
    "from sklearn.pipeline import Pipeline\n",
    "from sklearn.ensemble import RandomForestClassifier\n",
    "from sklearn.metrics import confusion_matrix"
   ]
  },
  {
   "cell_type": "code",
   "execution_count": 38,
   "metadata": {},
   "outputs": [],
   "source": [
    "from sklearn.ensemble import RandomForestClassifier\n",
    "from sklearn.metrics import log_loss\n",
    "from sklearn.utils import shuffle"
   ]
  },
  {
   "cell_type": "code",
   "execution_count": 39,
   "metadata": {},
   "outputs": [],
   "source": [
    "knn = KNeighborsClassifier(n_neighbors=7)\n",
    "\n",
    "\n",
    "knn.fit(X_train, y_train)\n",
    "\n",
    "preds_knn = knn.predict_proba(X_val)"
   ]
  },
  {
   "cell_type": "code",
   "execution_count": 40,
   "metadata": {},
   "outputs": [
    {
     "data": {
      "text/plain": [
       "array([[0.        , 0.57142857, 0.        , 0.42857143, 0.        ],\n",
       "       [0.        , 1.        , 0.        , 0.        , 0.        ],\n",
       "       [0.42857143, 0.28571429, 0.        , 0.28571429, 0.        ],\n",
       "       ...,\n",
       "       [0.28571429, 0.71428571, 0.        , 0.        , 0.        ],\n",
       "       [0.        , 0.42857143, 0.        , 0.57142857, 0.        ],\n",
       "       [0.        , 1.        , 0.        , 0.        , 0.        ]])"
      ]
     },
     "execution_count": 40,
     "metadata": {},
     "output_type": "execute_result"
    }
   ],
   "source": [
    "preds_knn"
   ]
  },
  {
   "cell_type": "code",
   "execution_count": 41,
   "metadata": {},
   "outputs": [
    {
     "data": {
      "text/plain": [
       "0.6767873271729313"
      ]
     },
     "execution_count": 41,
     "metadata": {},
     "output_type": "execute_result"
    }
   ],
   "source": [
    "knn_preds =  knn.predict(X_val)\n",
    "\n",
    "accuracy_score(y_val, knn_preds)"
   ]
  },
  {
   "cell_type": "code",
   "execution_count": 42,
   "metadata": {},
   "outputs": [
    {
     "name": "stdout",
     "output_type": "stream",
     "text": [
      "        * class     0 = 41.0 | 36.3 | 47.2 |     2275\n",
      "        * class     1 = 80.0 | 89.0 | 72.6 |     9608\n",
      "        * class     2 = 27.6 | 19.5 | 46.9 |      783\n",
      "        * class     3 = 21.3 | 14.4 | 40.9 |     1436\n",
      "        * class     4 = 0.6 | 0.3 | 4.0 |      291\n"
     ]
    }
   ],
   "source": [
    "unique_lbls = np.unique(y_val)\n",
    "\n",
    "f1_scores = metrics.f1_score(y_val, knn_preds, labels=unique_lbls, average=None)\n",
    "recall = metrics.recall_score(y_val, knn_preds, labels=unique_lbls, average=None)\n",
    "precision = metrics.precision_score(y_val, knn_preds, labels=unique_lbls, average=None)\n",
    "#print(classification_report(y_val, knn_preds)) \n",
    "for idx, class_id in enumerate(unique_lbls):\n",
    "    print(f'        * class {class_id:5d} = {f1_scores[idx]*100:2.1f} | {recall[idx]*100:2.1f} | {precision[idx]*100:2.1f} | {np.count_nonzero(y_val==class_id):8d}')"
   ]
  },
  {
   "cell_type": "code",
   "execution_count": 43,
   "metadata": {},
   "outputs": [],
   "source": [
    "import xgboost as xgb\n",
    "\n",
    "dtrain = xgb.DMatrix(X_train, label=y_train)\n",
    "dtest = xgb.DMatrix(X_test, label=y_test)\n",
    "dval = xgb.DMatrix(X_val, label=y_val)"
   ]
  },
  {
   "cell_type": "code",
   "execution_count": 44,
   "metadata": {},
   "outputs": [],
   "source": [
    "param = {\n",
    "    'max_depth': 6,  # the maximum depth of each tree\n",
    "    'eta': 0.20,  # the training step for each iteration\n",
    "    'silent': 1,  # logging mode - quiet\n",
    "    'n_jobs':4,\n",
    "    #'learning_rate': 0.001,\n",
    "    'n_estimators': 100,\n",
    "    #'gamma': 0.1,\n",
    "    #'min_child_weight':7,\n",
    "    #'subsample': 0.7,\n",
    "    #'colsample_by_level':0.4,\n",
    "    #'colsample_by_tree':0.7,\n",
    "    #'reg_alpha':np.log(1),\n",
    "    'objective': 'multi:softprob',  # error evaluation for multiclass training\n",
    "    'num_class': 5}  # the number of classes that exist in this datset\n",
    "num_round = 550  # the number of training iterations"
   ]
  },
  {
   "cell_type": "code",
   "execution_count": 45,
   "metadata": {},
   "outputs": [
    {
     "name": "stdout",
     "output_type": "stream",
     "text": [
      "[04:46:53] WARNING: ../src/learner.cc:573: \n",
      "Parameters: { \"n_estimators\", \"silent\" } might not be used.\n",
      "\n",
      "  This may not be accurate due to some parameters are only used in language bindings but\n",
      "  passed down to XGBoost core.  Or some parameters are not used but slip through this\n",
      "  verification. Please open an issue if you find above cases.\n",
      "\n",
      "\n",
      "[04:46:54] WARNING: ../src/learner.cc:1095: Starting in XGBoost 1.3.0, the default evaluation metric used with the objective 'multi:softprob' was changed from 'merror' to 'mlogloss'. Explicitly set eval_metric if you'd like to restore the old behavior.\n"
     ]
    }
   ],
   "source": [
    "bst = xgb.train(param, dtrain, num_round)"
   ]
  },
  {
   "cell_type": "code",
   "execution_count": 46,
   "metadata": {},
   "outputs": [
    {
     "name": "stdout",
     "output_type": "stream",
     "text": [
      "0.2194430548607637\n",
      "[[ 1196  1651     0     0     0]\n",
      " [   55 11845    12    39     1]\n",
      " [    3   574   438     1     6]\n",
      " [    9  1305     1   453     0]\n",
      " [    1   290     0     0   111]]\n",
      "              precision    recall  f1-score   support\n",
      "\n",
      "           0       0.95      0.42      0.58      2847\n",
      "           1       0.76      0.99      0.86     11952\n",
      "           2       0.97      0.43      0.59      1022\n",
      "           3       0.92      0.26      0.40      1768\n",
      "           4       0.94      0.28      0.43       402\n",
      "\n",
      "    accuracy                           0.78     17991\n",
      "   macro avg       0.91      0.47      0.57     17991\n",
      "weighted avg       0.82      0.78      0.74     17991\n",
      "\n",
      "Accuracy: 0.7805569451392362\n"
     ]
    }
   ],
   "source": [
    "preds = bst.predict(dtest)\n",
    "best_preds = np.asarray([np.argmax(line) for line in preds])\n",
    "print(np.mean(best_preds != y_test))\n",
    "print(confusion_matrix(y_test, best_preds))  \n",
    "print(classification_report(y_test, best_preds)) \n",
    "print(\"Accuracy:\", metrics.accuracy_score(y_test, best_preds))"
   ]
  },
  {
   "cell_type": "code",
   "execution_count": 47,
   "metadata": {},
   "outputs": [
    {
     "name": "stdout",
     "output_type": "stream",
     "text": [
      "        * class     0 = 58.2 | 42.0 | 94.6 |     2275\n",
      "        * class     1 = 85.8 | 99.1 | 75.6 |     9608\n",
      "        * class     2 = 59.5 | 42.9 | 97.1 |      783\n",
      "        * class     3 = 40.1 | 25.6 | 91.9 |     1436\n",
      "        * class     4 = 42.7 | 27.6 | 94.1 |      291\n"
     ]
    }
   ],
   "source": [
    "unique_lbls = np.unique(y_test)\n",
    "\n",
    "f1_scores = metrics.f1_score(y_test, best_preds, labels=unique_lbls, average=None)\n",
    "recall = metrics.recall_score(y_test, best_preds, labels=unique_lbls, average=None)\n",
    "precision = metrics.precision_score(y_test, best_preds, labels=unique_lbls, average=None)\n",
    "    \n",
    "for idx, class_id in enumerate(unique_lbls):\n",
    "    print(f'        * class {class_id:5d} = {f1_scores[idx]*100:2.1f} | {recall[idx]*100:2.1f} | {precision[idx]*100:2.1f} | {np.count_nonzero(y_val==class_id):8d}')"
   ]
  },
  {
   "cell_type": "code",
   "execution_count": 48,
   "metadata": {},
   "outputs": [
    {
     "data": {
      "image/png": "[encoded data removed]",
      "text/plain": [
       "<Figure size 864x720 with 1 Axes>"
      ]
     },
     "metadata": {},
     "output_type": "display_data"
    }
   ],
   "source": [
    "# Plot ROC curve for each class\n",
    "roc_it(y_test, best_preds,'XGBoost')\n",
    "plt.savefig('Results/Roc_XGB_test.png')"
   ]
  },
  {
   "cell_type": "code",
   "execution_count": 49,
   "metadata": {},
   "outputs": [
    {
     "data": {
      "image/png": "[encoded data removed]",
      "text/plain": [
       "<Figure size 1152x504 with 2 Axes>"
      ]
     },
     "metadata": {},
     "output_type": "display_data"
    }
   ],
   "source": [
    "# View confusion matrix for Random Forest 1\n",
    "save_conf_matrix(y_test, best_preds, 'XGBoost')"
   ]
  },
  {
   "cell_type": "code",
   "execution_count": 50,
   "metadata": {},
   "outputs": [],
   "source": [
    "## Support vector machine\n",
    "import numpy as np\n",
    "from sklearn.pipeline import make_pipeline\n",
    "from sklearn.preprocessing import StandardScaler\n",
    "from sklearn import svm\n",
    "from sklearn.svm import SVC\n",
    "parameters = {'kernel':('linear', 'rbf'), 'C':[1, 10]}\n",
    "svc = svm.SVC()\n",
    "#clf = GridSearchCV(svc, parameters)\n",
    "clf = make_pipeline(StandardScaler(), SVC(C=1,gamma=1))\n",
    "\n"
   ]
  },
  {
   "cell_type": "code",
   "execution_count": 51,
   "metadata": {},
   "outputs": [
    {
     "name": "stdout",
     "output_type": "stream",
     "text": [
      "0.3067275790790182\n",
      "[[  903  8132     0     0     0]\n",
      " [   17 38511     2     1     0]\n",
      " [   10  2926   265     0     0]\n",
      " [   11  5291     1   207     0]\n",
      " [    2  1264     1     0    25]]\n",
      "              precision    recall  f1-score   support\n",
      "\n",
      "           0       0.96      0.10      0.18      9035\n",
      "           1       0.69      1.00      0.81     38531\n",
      "           2       0.99      0.08      0.15      3201\n",
      "           3       1.00      0.04      0.07      5510\n",
      "           4       1.00      0.02      0.04      1292\n",
      "\n",
      "    accuracy                           0.69     57569\n",
      "   macro avg       0.92      0.25      0.25     57569\n",
      "weighted avg       0.78      0.69      0.59     57569\n",
      "\n",
      "Accuracy: 0.6932724209209817\n"
     ]
    }
   ],
   "source": [
    "# View metrics for training data\n",
    "clf.fit(X_train, y_train)\n",
    "y_pred = clf.predict(X_train)\n",
    "print(np.mean(y_pred != y_train))\n",
    "print(confusion_matrix(y_train, y_pred))  \n",
    "print(classification_report(y_train, y_pred)) \n",
    "print(\"Accuracy:\", metrics.accuracy_score(y_train, y_pred))"
   ]
  },
  {
   "cell_type": "code",
   "execution_count": 52,
   "metadata": {},
   "outputs": [
    {
     "name": "stdout",
     "output_type": "stream",
     "text": [
      "0.32099383024845757\n",
      "[[  204  2643     0     0     0]\n",
      " [   22 11929     1     0     0]\n",
      " [    2   974    46     0     0]\n",
      " [    3  1730     0    35     0]\n",
      " [    0   399     1     0     2]]\n",
      "              precision    recall  f1-score   support\n",
      "\n",
      "           0       0.88      0.07      0.13      2847\n",
      "           1       0.67      1.00      0.81     11952\n",
      "           2       0.96      0.05      0.09      1022\n",
      "           3       1.00      0.02      0.04      1768\n",
      "           4       1.00      0.00      0.01       402\n",
      "\n",
      "    accuracy                           0.68     17991\n",
      "   macro avg       0.90      0.23      0.21     17991\n",
      "weighted avg       0.76      0.68      0.56     17991\n",
      "\n",
      "Accuracy: 0.6790061697515425\n"
     ]
    }
   ],
   "source": [
    "# View metrics for training data\n",
    "clf.fit(X_train, y_train)\n",
    "y_pred = clf.predict(X_test)\n",
    "print(np.mean(y_pred != y_test))\n",
    "print(confusion_matrix(y_test, y_pred))  \n",
    "print(classification_report(y_test, y_pred)) \n",
    "print(\"Accuracy:\", metrics.accuracy_score(y_test, y_pred))"
   ]
  },
  {
   "cell_type": "code",
   "execution_count": 53,
   "metadata": {},
   "outputs": [
    {
     "name": "stdout",
     "output_type": "stream",
     "text": [
      "Requirement already satisfied: scikit-multilearn in /env/lib/python3.8/site-packages (0.2.0)\n"
     ]
    }
   ],
   "source": [
    "!pip install scikit-multilearn"
   ]
  },
  {
   "cell_type": "raw",
   "metadata": {},
   "source": [
    "# Adopted algorithm\n",
    "from skmultilearn.adapt import MLkNN\n",
    "from scipy.sparse import csr_matrix, lil_matrix\n",
    "classifier_new = MLkNN(k=5)\n",
    "# Note that this classifier can throw up errors when handling sparse matrices.\n",
    "x_train = lil_matrix(X_train).toarray()\n",
    "y_train = lil_matrix(y_train).toarray()\n",
    "x_test = lil_matrix(X_test).toarray()\n",
    "# train\n",
    "classifier_new.fit(x_train, y_train)\n",
    "# predict\n",
    "predictions_new = classifier_new.predict(x_test)\n",
    "# accuracy\n",
    "print(\"Accuracy = \",accuracy_score(y_test,predictions_new))\n",
    "print(\"\\n\")"
   ]
  },
  {
   "cell_type": "code",
   "execution_count": 54,
   "metadata": {},
   "outputs": [],
   "source": [
    "from sklearn.neighbors import KNeighborsClassifier\n",
    "from sklearn.linear_model import LogisticRegression\n",
    "from sklearn import model_selection\n",
    "from sklearn.model_selection import GroupShuffleSplit, StratifiedKFold, cross_val_score, train_test_split, GridSearchCV\n",
    "from sklearn import linear_model, svm, naive_bayes, neighbors, ensemble\n",
    "from sklearn.metrics import precision_score, recall_score, precision_recall_curve,f1_score, fbeta_score, auc, plot_roc_curve\n",
    "from sklearn.pipeline import Pipeline\n",
    "from sklearn.ensemble import RandomForestClassifier\n",
    "from sklearn.metrics import confusion_matrix\n",
    "\n",
    "\n",
    "import tensorflow\n",
    "import keras\n",
    "from keras.models import Sequential\n",
    "from keras.layers import Dense, Activation, Conv1D, MaxPooling1D, Flatten\n",
    "\n",
    "import pandas\n",
    "from keras.models import Sequential\n",
    "from keras.layers import Dense\n",
    "from keras.wrappers.scikit_learn import KerasClassifier\n",
    "from keras.utils import np_utils\n",
    "from sklearn.model_selection import cross_val_score\n",
    "from sklearn.model_selection import KFold\n",
    "from sklearn.preprocessing import LabelEncoder\n",
    "from sklearn.pipeline import Pipeline\n",
    "\n",
    "from sklearn.model_selection import train_test_split"
   ]
  },
  {
   "cell_type": "code",
   "execution_count": 55,
   "metadata": {},
   "outputs": [
    {
     "name": "stdout",
     "output_type": "stream",
     "text": [
      "57569 train examples\n",
      "14393 validation examples\n",
      "17991 test examples\n"
     ]
    }
   ],
   "source": [
    "# Split into train and test sets\n",
    "train, test = train_test_split(dataframe, test_size=0.2)\n",
    "train, val = train_test_split(train, test_size=0.2)\n",
    "\n",
    "X_train, y_train = train.iloc[:,0:24], train.Grown_crop\n",
    "X_val, y_val = val.iloc[:,0:24], val.Grown_crop\n",
    "X_test, y_test = test.iloc[:,0:24], test.Grown_crop\n",
    "\n",
    "print(len(train), 'train examples')\n",
    "print(len(val), 'validation examples')\n",
    "print(len(test), 'test examples')"
   ]
  },
  {
   "cell_type": "code",
   "execution_count": 56,
   "metadata": {},
   "outputs": [],
   "source": [
    "# encode class values as integers\n",
    "encoder = LabelEncoder()\n",
    "encoder.fit(y_train)\n",
    "encoded_Y = encoder.transform(y_train)\n",
    "# convert integers to dummy variables (i.e. one hot encoded)\n",
    "y_train= np_utils.to_categorical(encoded_Y)#tf.keras.utils.to_categorical(encoded_Y,num_classes=4) #np_utils.to_categorical(encoded_Y)\n",
    "\n",
    "# encode class values as integers\n",
    "encoder = LabelEncoder()\n",
    "encoder.fit(y_val)\n",
    "encoded_Y = encoder.transform(y_val)\n",
    "# convert integers to dummy variables (i.e. one hot encoded)\n",
    "y_val= np_utils.to_categorical(encoded_Y)#tf.keras.utils.to_categorical(encoded_Y,num_classes=4) #np_utils.to_categorical(encoded_Y)\n",
    "\n",
    "# encode class values as integers\n",
    "encoder = LabelEncoder()\n",
    "encoder.fit(y_test)\n",
    "encoded_Y = encoder.transform(y_test)\n",
    "# convert integers to dummy variables (i.e. one hot encoded)\n",
    "y_test= np_utils.to_categorical(encoded_Y)#tf.keras.utils.to_categorical(encoded_Y,num_classes=4) #np_utils.to_categorical(encoded_Y)"
   ]
  },
  {
   "cell_type": "code",
   "execution_count": 65,
   "metadata": {},
   "outputs": [
    {
     "name": "stdout",
     "output_type": "stream",
     "text": [
      "Model: \"sequential_4\"\n",
      "_________________________________________________________________\n",
      "Layer (type)                 Output Shape              Param #   \n",
      "=================================================================\n",
      "dense_12 (Dense)             (None, 500)               9000      \n",
      "_________________________________________________________________\n",
      "dropout_4 (Dropout)          (None, 500)               0         \n",
      "_________________________________________________________________\n",
      "dense_13 (Dense)             (None, 500)               250500    \n",
      "_________________________________________________________________\n",
      "dropout_5 (Dropout)          (None, 500)               0         \n",
      "_________________________________________________________________\n",
      "dense_14 (Dense)             (None, 500)               250500    \n",
      "_________________________________________________________________\n",
      "dense_15 (Dense)             (None, 5)                 2505      \n",
      "=================================================================\n",
      "Total params: 512,505\n",
      "Trainable params: 512,505\n",
      "Non-trainable params: 0\n",
      "_________________________________________________________________\n"
     ]
    }
   ],
   "source": [
    "import numpy\n",
    "import pandas\n",
    "import tensorflow\n",
    "from keras.models import Sequential\n",
    "from keras.layers import Dense\n",
    "from keras.wrappers.scikit_learn import KerasClassifier\n",
    "from keras.utils import np_utils\n",
    "from sklearn.model_selection import cross_val_score\n",
    "from sklearn.model_selection import KFold\n",
    "from sklearn.preprocessing import LabelEncoder\n",
    "from sklearn.pipeline import Pipeline\n",
    "from keras import regularizers\n",
    "from keras import initializers\n",
    "\n",
    "from keras.layers import Dense, Dropout, Activation\n",
    "from tensorflow.keras.optimizers import SGD\n",
    "\n",
    "# fix random seed for reproducibility\n",
    "seed = 7\n",
    "numpy.random.seed(seed)\n",
    "\n",
    "\n",
    "\n",
    "model = Sequential()\n",
    "model.add(Dense(500, input_shape=(17, ), activation='relu',kernel_regularizer=regularizers.l2(1e-5),kernel_initializer=keras.initializers.glorot_normal(seed=seed),bias_initializer='zeros'))\n",
    "model.add(Dropout(0.5))\n",
    "model.add(Dense(500,activation='softmax'))\n",
    "model.add(Dropout(0.5))\n",
    "model.add(Dense(500,activation='softmax'))\n",
    "model.add(Dense(5, activation='softmax'))\n",
    "model.summary()\n",
    "\n",
    "\n",
    "#model.add(Dropout(0.5))\n",
    "#model.add(Dense(8, activation='softmax'))\n",
    "#model.summary()\n",
    "\n",
    "# Compile model\n",
    "#model.compile(loss='categorical_crossentropy', optimizer='adam', metrics=['accuracy'])\n"
   ]
  },
  {
   "cell_type": "code",
   "execution_count": 66,
   "metadata": {},
   "outputs": [
    {
     "name": "stdout",
     "output_type": "stream",
     "text": [
      "Train: 0.667, Test: 0.668\n"
     ]
    },
    {
     "data": {
      "image/png": "[encoded data removed]",
      "text/plain": [
       "<Figure size 432x288 with 1 Axes>"
      ]
     },
     "metadata": {},
     "output_type": "display_data"
    },
    {
     "data": {
      "image/png": "[encoded data removed]",
      "text/plain": [
       "<Figure size 432x288 with 1 Axes>"
      ]
     },
     "metadata": {},
     "output_type": "display_data"
    }
   ],
   "source": [
    "from matplotlib import pyplot\n",
    "# define and fit model on a training dataset\n",
    "def fit_model(X_train, y_train, X_test, y_test):\n",
    "# define model\n",
    "    model = Sequential()\n",
    "    model.add(Dense(16, input_shape=(17, ), activation='relu',kernel_regularizer=regularizers.l2(1e-5),kernel_initializer='he_uniform',bias_initializer='zeros'))\n",
    "    model.add(Dropout(0.5))\n",
    "    model.add(Dense(32,activation='relu'))\n",
    "    model.add(Dropout(0.5))\n",
    "    model.add(Dense(32,activation='relu'))\n",
    "    model.add(Dense(5, activation='softmax'))\n",
    "    # compile model\n",
    "    model.compile(loss='categorical_crossentropy', optimizer='adam', metrics=['accuracy'])\n",
    "    # fit model\n",
    "    history = model.fit(X_train, y_train, validation_data=(X_test, y_test), epochs=100, verbose=0)\n",
    "    return model, history\n",
    "\n",
    "# summarize the performance of the fit model\n",
    "def summarize_model(model, history, X_train, y_train, X_test, y_test):\n",
    "    # evaluate the model\n",
    "    _, train_acc = model.evaluate(X_train, y_train, verbose=0)\n",
    "    _, test_acc = model.evaluate(X_test, y_test, verbose=0)\n",
    "    print('Train: %.3f, Test: %.3f' % (train_acc, test_acc))\n",
    "    # plot loss during training\n",
    "    pyplot.subplot(211)\n",
    "    pyplot.title('Loss')\n",
    "    pyplot.plot(history.history['loss'], label='train')\n",
    "    pyplot.plot(history.history['val_loss'], label='test')\n",
    "    pyplot.legend()\n",
    "    plt.show()\n",
    "    # plot accuracy during training\n",
    "    pyplot.subplot(212)\n",
    "    pyplot.title('Accuracy')\n",
    "    pyplot.plot(history.history['accuracy'], label='train')\n",
    "    pyplot.plot(history.history['val_accuracy'], label='test')\n",
    "    pyplot.legend()\n",
    "    pyplot.show()\n",
    "model, history = fit_model(X_train, y_train, X_test, y_test)\n",
    "# evaluate model behavior\n",
    "summarize_model(model, history, X_train, y_train, X_test, y_test)\n",
    "# save model to file\n",
    "#model.save('model.h5')"
   ]
  },
  {
   "cell_type": "code",
   "execution_count": 67,
   "metadata": {},
   "outputs": [
    {
     "name": "stdout",
     "output_type": "stream",
     "text": [
      "(None, 17, 1)\n",
      "(None, 13, 128)\n",
      "(None, 6, 128)\n",
      "(None, 2, 256)\n",
      "(None, 1, 256)\n",
      "(None, 256)\n",
      "(None, 64)\n",
      "(None, 5)\n"
     ]
    },
    {
     "name": "stderr",
     "output_type": "stream",
     "text": [
      "/env/lib/python3.8/site-packages/keras/optimizer_v2/optimizer_v2.py:355: UserWarning: The `lr` argument is deprecated, use `learning_rate` instead.\n",
      "  warnings.warn(\n"
     ]
    }
   ],
   "source": [
    "n_classes = 5\n",
    "\n",
    "model = Sequential()\n",
    "model.add(Conv1D(kernel_size = 5, strides=1,filters = 128, activation='relu',input_shape=(17,1)))\n",
    "                    \n",
    "print(model.input_shape)\n",
    "print(model.output_shape)\n",
    "\n",
    "model.add(MaxPooling1D(pool_size = (2), strides=(2)))\n",
    "print(model.output_shape)\n",
    "\n",
    "model.add(Conv1D (kernel_size = 5, strides=1, filters = 256, activation='relu'))\n",
    "print(model.output_shape)\n",
    "\n",
    "model.add(MaxPooling1D(pool_size = (2), strides=(2)))\n",
    "print(model.output_shape)\n",
    "\n",
    "#.add(Conv1D (kernel_size = 5, strides=1, filters = 128, activation='relu'))\n",
    "#print(model.output_shape)\n",
    "\n",
    "#model.add(MaxPooling1D(pool_size = (2), strides=(2)))\n",
    "#print(model.output_shape)\n",
    "\n",
    "model.add(Flatten())\n",
    "\n",
    "print(model.output_shape)\n",
    "\n",
    "model.add(Dense (64, activation='relu'))\n",
    "print(model.output_shape)\n",
    "\n",
    "model.add(Dense(n_classes, activation = 'softmax'))#,activity_regularizer=keras.regularizers.l2()))\n",
    "print(model.output_shape)\n",
    "\n",
    "#model.compile( loss='categorical_crossentropy', optimizer=keras.optimizers.Adam(lr=0.01), metrics=[keras.metrics.categorical_accuracy])\n",
    "model.compile(loss='categorical_crossentropy', optimizer=tensorflow.keras.optimizers.Adam(lr=0.001),metrics=['accuracy'])"
   ]
  },
  {
   "cell_type": "code",
   "execution_count": 68,
   "metadata": {},
   "outputs": [],
   "source": [
    "X1 = np.expand_dims(X_train, axis=2)\n",
    "X2 = np.expand_dims(X_test, axis=2)"
   ]
  },
  {
   "cell_type": "code",
   "execution_count": 69,
   "metadata": {},
   "outputs": [
    {
     "name": "stdout",
     "output_type": "stream",
     "text": [
      "Epoch 1/35\n",
      "576/576 [==============================] - 25s 43ms/step - loss: 10.6944 - accuracy: 0.5147 - val_loss: 1.1319 - val_accuracy: 0.6682\n",
      "Epoch 2/35\n",
      "576/576 [==============================] - 25s 43ms/step - loss: 1.1025 - accuracy: 0.6665 - val_loss: 1.0453 - val_accuracy: 0.6683\n",
      "Epoch 3/35\n",
      "576/576 [==============================] - 25s 43ms/step - loss: 1.1096 - accuracy: 0.6635 - val_loss: 1.1206 - val_accuracy: 0.6683\n",
      "Epoch 4/35\n",
      "576/576 [==============================] - 25s 43ms/step - loss: 1.1037 - accuracy: 0.6645 - val_loss: 1.0611 - val_accuracy: 0.6682\n",
      "Epoch 5/35\n",
      "576/576 [==============================] - 25s 43ms/step - loss: 1.0989 - accuracy: 0.6659 - val_loss: 1.1496 - val_accuracy: 0.6682\n",
      "Epoch 6/35\n",
      "576/576 [==============================] - 25s 43ms/step - loss: 1.1089 - accuracy: 0.6634 - val_loss: 1.0460 - val_accuracy: 0.6682\n",
      "Epoch 7/35\n",
      "576/576 [==============================] - 25s 43ms/step - loss: 1.0704 - accuracy: 0.6670 - val_loss: 1.0355 - val_accuracy: 0.6682\n",
      "Epoch 8/35\n",
      "576/576 [==============================] - 24s 43ms/step - loss: 1.0700 - accuracy: 0.6672 - val_loss: 1.0806 - val_accuracy: 0.6682\n",
      "Epoch 9/35\n",
      "576/576 [==============================] - 25s 43ms/step - loss: 1.0591 - accuracy: 0.6673 - val_loss: 1.0339 - val_accuracy: 0.6682\n",
      "Epoch 10/35\n",
      "576/576 [==============================] - 24s 42ms/step - loss: 1.0537 - accuracy: 0.6673 - val_loss: 1.0444 - val_accuracy: 0.6682\n",
      "Epoch 11/35\n",
      "576/576 [==============================] - 25s 43ms/step - loss: 1.1213 - accuracy: 0.6625 - val_loss: 1.0526 - val_accuracy: 0.6682\n",
      "Epoch 12/35\n",
      "576/576 [==============================] - 25s 43ms/step - loss: 1.0462 - accuracy: 0.6673 - val_loss: 1.0336 - val_accuracy: 0.6682\n",
      "Epoch 13/35\n",
      "576/576 [==============================] - 24s 42ms/step - loss: 1.0452 - accuracy: 0.6673 - val_loss: 1.0378 - val_accuracy: 0.6682\n",
      "Epoch 14/35\n",
      "576/576 [==============================] - 25s 43ms/step - loss: 1.0428 - accuracy: 0.6673 - val_loss: 1.0341 - val_accuracy: 0.6682\n",
      "Epoch 15/35\n",
      "576/576 [==============================] - 24s 42ms/step - loss: 1.0410 - accuracy: 0.6673 - val_loss: 1.0321 - val_accuracy: 0.6682\n",
      "Epoch 16/35\n",
      "576/576 [==============================] - 25s 43ms/step - loss: 1.0400 - accuracy: 0.6673 - val_loss: 1.0318 - val_accuracy: 0.6682\n",
      "Epoch 17/35\n",
      "576/576 [==============================] - 25s 43ms/step - loss: 1.0396 - accuracy: 0.6673 - val_loss: 1.0348 - val_accuracy: 0.6682\n",
      "Epoch 18/35\n",
      "576/576 [==============================] - 24s 42ms/step - loss: 1.0376 - accuracy: 0.6673 - val_loss: 1.0305 - val_accuracy: 0.6682\n",
      "Epoch 19/35\n",
      "576/576 [==============================] - 24s 43ms/step - loss: 1.0372 - accuracy: 0.6673 - val_loss: 1.0365 - val_accuracy: 0.6682\n",
      "Epoch 20/35\n",
      "576/576 [==============================] - 24s 42ms/step - loss: 1.0374 - accuracy: 0.6673 - val_loss: 1.0297 - val_accuracy: 0.6682\n",
      "Epoch 21/35\n",
      "576/576 [==============================] - 25s 43ms/step - loss: 1.0361 - accuracy: 0.6672 - val_loss: 1.0285 - val_accuracy: 0.6682\n",
      "Epoch 22/35\n",
      "576/576 [==============================] - 25s 43ms/step - loss: 1.0363 - accuracy: 0.6672 - val_loss: 1.0301 - val_accuracy: 0.6682\n",
      "Epoch 23/35\n",
      "576/576 [==============================] - 25s 43ms/step - loss: 1.0355 - accuracy: 0.6673 - val_loss: 1.0284 - val_accuracy: 0.6682\n",
      "Epoch 24/35\n",
      "576/576 [==============================] - 25s 43ms/step - loss: 1.0353 - accuracy: 0.6673 - val_loss: 1.0295 - val_accuracy: 0.6682\n",
      "Epoch 25/35\n",
      "576/576 [==============================] - 25s 43ms/step - loss: 1.0355 - accuracy: 0.6673 - val_loss: 1.0280 - val_accuracy: 0.6682\n",
      "Epoch 26/35\n",
      "576/576 [==============================] - 25s 43ms/step - loss: 1.0356 - accuracy: 0.6672 - val_loss: 1.0288 - val_accuracy: 0.6682\n",
      "Epoch 27/35\n",
      "576/576 [==============================] - 25s 43ms/step - loss: 1.0349 - accuracy: 0.6672 - val_loss: 1.0287 - val_accuracy: 0.6682\n",
      "Epoch 28/35\n",
      "576/576 [==============================] - 25s 43ms/step - loss: 1.0345 - accuracy: 0.6673 - val_loss: 1.0281 - val_accuracy: 0.6682\n",
      "Epoch 29/35\n",
      "576/576 [==============================] - 25s 43ms/step - loss: 1.0345 - accuracy: 0.6672 - val_loss: 1.0283 - val_accuracy: 0.6682\n",
      "Epoch 30/35\n",
      "576/576 [==============================] - 24s 43ms/step - loss: 1.0344 - accuracy: 0.6673 - val_loss: 1.0286 - val_accuracy: 0.6683\n",
      "Epoch 31/35\n",
      "576/576 [==============================] - 25s 43ms/step - loss: 1.0344 - accuracy: 0.6672 - val_loss: 1.0284 - val_accuracy: 0.6682\n",
      "Epoch 32/35\n",
      "576/576 [==============================] - 25s 43ms/step - loss: 1.0342 - accuracy: 0.6673 - val_loss: 1.0287 - val_accuracy: 0.6683\n",
      "Epoch 33/35\n",
      "576/576 [==============================] - 25s 43ms/step - loss: 1.0339 - accuracy: 0.6673 - val_loss: 1.0279 - val_accuracy: 0.6683\n",
      "Epoch 34/35\n",
      "576/576 [==============================] - 25s 43ms/step - loss: 1.0425 - accuracy: 0.6672 - val_loss: 1.0395 - val_accuracy: 0.6682\n",
      "Epoch 35/35\n",
      "576/576 [==============================] - 24s 42ms/step - loss: 1.0366 - accuracy: 0.6673 - val_loss: 1.0278 - val_accuracy: 0.6682\n",
      "1800/1800 [==============================] - 2s 1ms/step - loss: 1.0278 - accuracy: 0.6682\n"
     ]
    },
    {
     "data": {
      "image/png": "[encoded data removed]",
      "text/plain": [
       "<Figure size 432x288 with 1 Axes>"
      ]
     },
     "metadata": {},
     "output_type": "display_data"
    },
    {
     "data": {
      "image/png": "[encoded data removed]",
      "text/plain": [
       "<Figure size 432x288 with 1 Axes>"
      ]
     },
     "metadata": {},
     "output_type": "display_data"
    },
    {
     "data": {
      "text/plain": [
       "<Figure size 432x288 with 0 Axes>"
      ]
     },
     "metadata": {},
     "output_type": "display_data"
    }
   ],
   "source": [
    "#model.fit(X1, y_train, epochs=50, batch_size=100)\n",
    "history= model.fit(X1, y_train,\n",
    "          epochs=35,\n",
    "          batch_size=100,\n",
    "          validation_data=(X2, y_test)\n",
    "         )\n",
    "score = model.evaluate(X2, y_test, batch_size=10)\n",
    "#print(\"\\n%s: %.2f%%\" % (model.metrics_names[1], score[1]*100))\n",
    "plt.plot(history.history['accuracy'])\n",
    "plt.plot(history.history['val_accuracy'])\n",
    "plt.title('model accuracy')\n",
    "plt.ylabel('accuracy')\n",
    "plt.xlabel('epoch')\n",
    "plt.legend(['train', 'val'], loc='upper left')\n",
    "plt.show()\n",
    "# summarize history for loss\n",
    "plt.plot(history.history['loss'])\n",
    "plt.plot(history.history['val_loss'])\n",
    "plt.title('model loss')\n",
    "plt.ylabel('loss')\n",
    "plt.xlabel('epoch')\n",
    "plt.legend(['train', 'test'], loc='upper left')\n",
    "plt.show()\n",
    "\n",
    "plt.savefig('cov1d')"
   ]
  },
  {
   "cell_type": "code",
   "execution_count": null,
   "metadata": {},
   "outputs": [],
   "source": []
  },
  {
   "cell_type": "code",
   "execution_count": null,
   "metadata": {},
   "outputs": [],
   "source": []
  }
 ],
 "metadata": {
  "colab": {
   "collapsed_sections": [],
   "name": "Catboost.ipynb",
   "provenance": []
  },
  "kernelspec": {
   "display_name": "Python 3 (ipykernel)",
   "language": "python",
   "name": "python3"
  },
  "language_info": {
   "codemirror_mode": {
    "name": "ipython",
    "version": 3
   },
   "file_extension": ".py",
   "mimetype": "text/x-python",
   "name": "python",
   "nbconvert_exporter": "python",
   "pygments_lexer": "ipython3",
   "version": "3.9.7"
  }
 },
 "nbformat": 4,
 "nbformat_minor": 4
}
