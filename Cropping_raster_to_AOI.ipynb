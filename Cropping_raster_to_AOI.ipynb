{
 "cells": [
  {
   "cell_type": "markdown",
   "id": "b2e1ba48",
   "metadata": {},
   "source": [
    "## Import Libraries"
   ]
  },
  {
   "cell_type": "code",
   "execution_count": 1,
   "id": "ca585530-faf8-4720-84bf-2efd18b99aa5",
   "metadata": {},
   "outputs": [],
   "source": [
    "import sys\n",
    "from glob import glob\n",
    "from osgeo import ogr, gdal\n",
    "from osgeo import gdalconst\n",
    "import subprocess\n",
    "\n",
    "import pandas as pd\n",
    "\n",
    "import matplotlib.pyplot as plt\n",
    "from matplotlib.patches import Patch\n",
    "from matplotlib.colors import ListedColormap, BoundaryNorm\n",
    "import numpy as np\n",
    "\n",
    "import seaborn as sns\n",
    "\n",
    "import json\n",
    "\n",
    "import geopandas as gpd\n",
    "import pycrs\n",
    "import fiona\n",
    "from fiona.crs import from_epsg\n",
    "from shapely.geometry import box\n",
    "from shapely.geometry import Point\n",
    "import shapely.geometry as geoms\n",
    "from shapely.geometry import Polygon\n",
    "\n",
    "import rasterio as rio\n",
    "from rasterio.plot import show\n",
    "import rasterio.warp\n",
    "import rasterio.shutil\n",
    "from rasterio.warp import calculate_default_transform, reproject, Resampling\n",
    "from rasterio.plot import plotting_extent\n",
    "from rasterio.plot import show_hist\n",
    "from rasterio.mask import mask\n",
    "from rasterio.merge import merge\n",
    "from rasterio import Affine, MemoryFile\n",
    "from rasterio.enums import Resampling\n",
    "from rasterio import plot\n",
    "\n",
    "import rasterstats as rs\n",
    "import georasters as gr\n",
    "from rastertodataframe import raster_to_dataframe\n",
    "\n",
    "import earthpy.spatial as es\n",
    "import earthpy.plot as ep\n",
    "import earthpy as et\n",
    "\n",
    "from sklearn.model_selection import train_test_split \n",
    "from sklearn.linear_model import LinearRegression\n",
    "from sklearn import metrics\n",
    "from sklearn.model_selection import cross_val_score\n",
    "from sklearn.model_selection import KFold\n",
    "from sklearn.model_selection import cross_val_predict\n",
    "from sklearn.model_selection import cross_validate\n",
    "\n",
    "%matplotlib inline\n",
    "#setting consistent plotting settings\n",
    "sns.set_style(\"white\")\n",
    "sns.set(font_scale=1.5)\n",
    "pd.set_option('display.max_rows',100)"
   ]
  },
  {
   "cell_type": "markdown",
   "id": "1d1498cd",
   "metadata": {},
   "source": [
    "## Libraries versions"
   ]
  },
  {
   "cell_type": "code",
   "execution_count": 2,
   "id": "a86ac3a6-13d9-458f-ae32-07b25fa94637",
   "metadata": {},
   "outputs": [
    {
     "name": "stdout",
     "output_type": "stream",
     "text": [
      "Python 3.7.11 (default, Jul 27 2021, 09:42:29) [MSC v.1916 64 bit (AMD64)]\n",
      "geopandas 0.9.0\n",
      "osgeo 3.3.2\n",
      "rasterio 1.2.9\n"
     ]
    }
   ],
   "source": [
    "print(f\"Python {sys.version}\")\n",
    "print(f\"geopandas {gpd.__version__}\")\n",
    "print(f\"osgeo {gdal.__version__}\")\n",
    "print(f\"rasterio {rasterio.__version__}\")"
   ]
  },
  {
   "cell_type": "markdown",
   "id": "bb074d9d",
   "metadata": {},
   "source": [
    "## Extract pixel values from the tif"
   ]
  },
  {
   "cell_type": "code",
   "execution_count": 3,
   "id": "76699dfa",
   "metadata": {},
   "outputs": [],
   "source": [
    "def extract_values(arr):\n",
    "    df = pd.DataFrame(arr.reshape(-1,4), columns={'B1','B2','B3','B4'})\n",
    "    drop_index = df.query(\"B1 == 0 and B2 == 0 and B3 == 0 and B4 == 0\").index\n",
    "    df.drop(df.index[[drop_index]], inplace = True)\n",
    "    df.reset_index(drop = True,inplace = True)\n",
    "    #df = pd.to_numeric(df, downcast='float')\n",
    "    return df\n"
   ]
  },
  {
   "cell_type": "markdown",
   "id": "90ee49a3",
   "metadata": {},
   "source": [
    "## Vegetation indices functions"
   ]
  },
  {
   "cell_type": "markdown",
   "id": "8c9560f3",
   "metadata": {},
   "source": [
    "Generate veg indices\n",
    "\n",
    "- B1 = RED\n",
    "- B2 = GREEN\n",
    "- B3 = BLUE\n",
    "- B4 = NIR\n"
   ]
  },
  {
   "cell_type": "code",
   "execution_count": 4,
   "id": "9f370a9a",
   "metadata": {},
   "outputs": [],
   "source": [
    "def ndvi(b4,b1):\n",
    "    b4 = b4.astype(int);b1 = b1.astype(int)\n",
    "    return (b4 - b1) / (b4 + b1)\n",
    "\n",
    "def gndvi(b4,b2):\n",
    "    b4 = b4.astype(int);b2 = b2.astype(int)\n",
    "    return (b4 - b2) / (b4 + b2)\n",
    "\n",
    "def gci(b4,b2):\n",
    "    b4 = b4.astype(int);b2 = b2.astype(int)\n",
    "    return b4 / (b2 -1)\n",
    "\n",
    "def sipi(b4,b3,b1):\n",
    "    b4 = b4.astype(int);b3 = b3.astype(int);b1 = b1.astype(int)\n",
    "    return (b4 - b3) / (b4 - b1)\n",
    "\n",
    "def arvi(b4,b1,b3):\n",
    "    b4 = b4.astype(int);b3 = b3.astype(int);b1 = b1.astype(int)\n",
    "    return (b4 - 2*b1 + b3) / (b4 + 2*b1 + b3)\n",
    "\n",
    "def savi(b4,b1,l=1):\n",
    "    b4 = b4.astype(int);b1 = b1.astype(int)\n",
    "    return ((b4 - b1) / (b4 + b1+1))*(1+l)\n",
    "\n",
    "def evi(b4,b3,b1,c1 = 0.5,c2 = 0.5,l = 1):\n",
    "    b4 = b4.astype(int);b3 = b3.astype(int);b1 = b1.astype(int)\n",
    "    return ((b4 - b1) / (b4 + (c1*b1) - (c2*b3) + l))*2.5\n"
   ]
  },
  {
   "cell_type": "code",
   "execution_count": 5,
   "id": "c34a88ec",
   "metadata": {},
   "outputs": [],
   "source": [
    "def veg_indices(df,date):\n",
    "    df['ndvi'] = ndvi(df.B4,df.B1)\n",
    "    df['gndvi'] = gndvi(df.B4,df.B2)\n",
    "    df['gci'] = gci(df.B4,df.B2)\n",
    "   # df['sipi'] = sipi(df.B4,df.B3,df.B1)\n",
    "    df['arvi'] = arvi(df.B4,df.B3,df.B1)\n",
    "    df['savi'] = savi(df.B4,df.B2)\n",
    "    df['evi'] = evi(df.B4,df.B3,df.B1)\n",
    "    df.columns = np.array(df.columns) + \"_\" + str(date)\n",
    "    return df\n",
    "#veg_indices(res,\"20150508\")\n"
   ]
  },
  {
   "cell_type": "markdown",
   "id": "8372062d",
   "metadata": {},
   "source": [
    "## Extracting each plots pixel values from the tiffs"
   ]
  },
  {
   "cell_type": "markdown",
   "id": "21db1aed",
   "metadata": {},
   "source": [
    "- Clip the plot to the tiff\n",
    "- Mask it out\n",
    "- Extract band values\n",
    "- Append vegetation indices\n",
    "- Sample aggregated sections of the plot\n",
    "- Save the dataframe as CSV\n"
   ]
  },
  {
   "cell_type": "code",
   "execution_count": 89,
   "id": "d86dae51",
   "metadata": {},
   "outputs": [
    {
     "data": {
      "text/plain": [
       "1    1369\n",
       "0     320\n",
       "3     156\n",
       "2      87\n",
       "4      70\n",
       "Name: Grown_crop, dtype: int64"
      ]
     },
     "execution_count": 89,
     "metadata": {},
     "output_type": "execute_result"
    }
   ],
   "source": [
    "shapein.Grown_crop.value_counts()"
   ]
  },
  {
   "cell_type": "code",
   "execution_count": 108,
   "id": "a1c1789d",
   "metadata": {},
   "outputs": [],
   "source": [
    "def extract_plot_info(poly,tiff,date = \"20150508\"):\n",
    "    try:\n",
    "        out_img, out_transform = mask(dataset=tiff, shapes= [poly['geometry']], crop=True)\n",
    "    except:\n",
    "        return []\n",
    "    else:\n",
    "        tiff_meta.update({\"driver\": \"GTiff\",\n",
    "                 \"height\": out_img.shape[1],\n",
    "                 \"width\": out_img.shape[2],\n",
    "                 \"transform\": out_transform,\n",
    "                 \"crs\": crs}\n",
    "                         )\n",
    "        df = veg_indices(extract_values(out_img),date)\n",
    "    \n",
    "        return df\n",
    "        \n",
    "      "
   ]
  },
  {
   "cell_type": "markdown",
   "id": "a36c7d63",
   "metadata": {},
   "source": [
    "## Import and Export extracted plot information"
   ]
  },
  {
   "cell_type": "code",
   "execution_count": 110,
   "id": "e547160e",
   "metadata": {},
   "outputs": [],
   "source": [
    "# shapein is the shapefile GT\n",
    "shapein = \"E:\\JANET\\DG_pansharpen_images\\kofa_redu\\kofa_redu.shp\"\n",
    "shapein= gpd.GeoDataFrame.from_file(shapein)\n",
    "\n",
    "#The labels to append\n",
    "labels = list(shapein.Grown_crop)\n",
    "# Load the tiff\n",
    "tif = \"../worldview3_tile_01_20150508.tif\"\n",
    "tif=rio.open(tif)\n",
    "# Copy the metadata\n",
    "tiff_meta = tif.meta.copy()\n",
    "crs = tif.crs\n",
    "#print(tiff_meta)\n",
    "# convert  shapefile to  geojson format to  get the geometry features\n",
    "plots = json.loads(shapein.to_json())['features']\n",
    "\n",
    "#Example  \n",
    "dates = [\"20150508\"]\n",
    "for j in range(len(dates)):\n",
    "    for i in range(len(plots)):\n",
    "        df = extract_plot_info(poly = plots[i],tiff = tif,date = dates[j])\n",
    "        if(len(df) > 0):\n",
    "            df.fillna(0,inplace = True)\n",
    "            df.insert(1,'Grown_crop', labels[i])\n",
    "\n",
    "            if df.Grown_crop.unique() == 0:\n",
    "                drop_last_rows = df.shape[0] - df.shape[0]//100 * 100\n",
    "                df.drop(df.tail(drop_last_rows).index,inplace = True)\n",
    "                df['group'] = np.repeat([\"a_\"+str(x) for x in range(100)], df.shape[0]//100, axis=0)\n",
    "                df= df.groupby(\"group\", as_index = False,sort = False).mean()\n",
    "            elif df.Grown_crop.unique() == 1:\n",
    "                drop_last_rows = df.shape[0] - df.shape[0]//24 * 24\n",
    "                df.drop(df.tail(drop_last_rows).index,inplace = True)\n",
    "                df['group'] = np.repeat([\"a_\"+str(x) for x in range(24)], df.shape[0]//24, axis=0)\n",
    "                df= df.groupby(\"group\", as_index = False,sort = False).mean()\n",
    "            elif df.Grown_crop.unique() == 2:\n",
    "                drop_last_rows = df.shape[0] - df.shape[0]//360 * 360\n",
    "                df.drop(df.tail(drop_last_rows).index,inplace = True)\n",
    "                df['group'] = np.repeat([\"a_\"+str(x) for x in range(360)], df.shape[0]//360, axis=0)\n",
    "                df= df.groupby(\"group\", as_index = False,sort = False).mean()\n",
    "            elif df.Grown_crop.unique() == 3:\n",
    "                drop_last_rows = df.shape[0] - df.shape[0]//200 * 200\n",
    "                df.drop(df.tail(drop_last_rows).index,inplace = True)\n",
    "                df['group'] = np.repeat([\"a_\"+str(x) for x in range(200)], df.shape[0]//200, axis=0)\n",
    "                df= df.groupby(\"group\", as_index = False,sort = False).mean()\n",
    "            else:\n",
    "                drop_last_rows = df.shape[0] - df.shape[0]//480 * 480\n",
    "                df.drop(df.tail(drop_last_rows).index,inplace = True)\n",
    "                df['group'] = np.repeat([\"a_\"+str(x) for x in range(480)], df.shape[0]//480, axis=0)\n",
    "                df= df.groupby(\"group\", as_index = False,sort = False).mean()\n",
    "           # res =pd.DataFrame(res)\n",
    "            #res.insert(1,'Grown_crop', labels[i])\n",
    "            df.to_csv(\"E:/JANET/DG_pansharpen_images/May08_data/\"+\"plot_\"+str(i)+'_'+df.columns[1][3:]+\".csv\", index = False)\n",
    "        else:\n",
    "            pass\n",
    "        "
   ]
  },
  {
   "cell_type": "code",
   "execution_count": 12,
   "id": "198dff15",
   "metadata": {},
   "outputs": [
    {
     "data": {
      "text/plain": [
       "'20150508'"
      ]
     },
     "execution_count": 12,
     "metadata": {},
     "output_type": "execute_result"
    }
   ],
   "source": [
    "df.columns[1][3:]"
   ]
  },
  {
   "cell_type": "markdown",
   "id": "153cda57",
   "metadata": {},
   "source": [
    "## Merging the dataframes per plot"
   ]
  },
  {
   "cell_type": "markdown",
   "id": "a15f22ee",
   "metadata": {},
   "source": [
    "### some Plots skipped in date 20150925\n",
    "\n",
    "We average from the previous and after date\n",
    "\n",
    "Plots: 280,1160,1637,1781,1912 for September "
   ]
  },
  {
   "cell_type": "code",
   "execution_count": 123,
   "id": "2689d6f5",
   "metadata": {},
   "outputs": [],
   "source": [
    "plot_280_20150912 = pd.read_csv(r\"E:\\JANET\\DG_pansharpen_images\\Sep12_data\\plot_280_20150912.csv\")"
   ]
  },
  {
   "cell_type": "code",
   "execution_count": 124,
   "id": "2d82be75",
   "metadata": {},
   "outputs": [],
   "source": [
    "plot_280_20151121 = pd.read_csv(r\"E:\\JANET\\DG_pansharpen_images\\Nov21_data\\plot_280_20151121.csv\")"
   ]
  },
  {
   "cell_type": "code",
   "execution_count": 125,
   "id": "68806faa",
   "metadata": {},
   "outputs": [],
   "source": [
    "plot_280_20150925 = pd.DataFrame()\n",
    "plot_280_20150925['group']=plot_280_20151121.group  \n",
    "plot_280_20150925['Grown_crop'] = plot_280_20151121.Grown_crop\n",
    "plot_280_20150925['B4_20150925'] = (plot_280_20150912.B4_20150912 + plot_280_20151121.B4_20151121)/2\n",
    "plot_280_20150925['B2_20150925'] = (plot_280_20150912.B2_20150912 + plot_280_20151121.B2_20151121)/2\n",
    "plot_280_20150925['B1_20150925'] = (plot_280_20150912.B1_20150912 + plot_280_20151121.B1_20151121)/2\n",
    "plot_280_20150925['B3_20150925'] = (plot_280_20150912.B3_20150912 + plot_280_20151121.B3_20151121)/2\n",
    "plot_280_20150925['ndvi_20150925'] = (plot_280_20150912.ndvi_20150912 + plot_280_20151121.ndvi_20151121)/2\n",
    "plot_280_20150925['gndvi_20150925'] = (plot_280_20150912.gndvi_20150912 + plot_280_20151121.gndvi_20151121)/2\n",
    "plot_280_20150925['gci_20150925'] = (plot_280_20150912.gci_20150912 + plot_280_20151121.gci_20151121)/2\n",
    "plot_280_20150925['arvi_20150925'] = (plot_280_20150912.arvi_20150912 + plot_280_20151121.arvi_20151121)/2\n",
    "plot_280_20150925['savi_20150925'] = (plot_280_20150912.savi_20150912 + plot_280_20151121.savi_20151121)/2\n",
    "plot_280_20150925['evi_20150925'] = (plot_280_20150912.evi_20150912 + plot_280_20151121.evi_20151121)/2\n",
    " \n",
    "    \n",
    "plot_280_20150925.to_csv(\"E:/JANET/DG_pansharpen_images/Sept25_data/plot_280_20150925.csv\", index = False)"
   ]
  },
  {
   "cell_type": "markdown",
   "id": "af3dc288",
   "metadata": {},
   "source": [
    "## Merge plots data to a CSV"
   ]
  },
  {
   "cell_type": "code",
   "execution_count": 2,
   "id": "b42f0ea3",
   "metadata": {},
   "outputs": [],
   "source": [
    "import datetime\n",
    "#the obeserved dates in the dataset\n",
    "dates_raw = [\n",
    "datetime.datetime(2015, 5, 8, 0, 0),\n",
    "datetime.datetime(2015, 5, 22, 0, 0),\n",
    "datetime.datetime(2015, 6, 3, 0, 0),\n",
    "datetime.datetime(2015, 6, 29, 0, 0),\n",
    "datetime.datetime(2015, 7, 24, 0, 0),\n",
    "datetime.datetime(2015, 9, 12, 0, 0),\n",
    "datetime.datetime(2015, 9, 25, 0, 0),\n",
    "datetime.datetime(2015, 11, 21, 0, 0)\n",
    "]\n",
    "\n",
    "dates = []\n",
    "\n",
    "for i in range(8):\n",
    "    dt = \"\".join(str(dates_raw[i].date()).split(\"-\"))\n",
    "    dates.append(dt)"
   ]
  },
  {
   "cell_type": "markdown",
   "id": "a2cc8d73",
   "metadata": {},
   "source": [
    "### For the first date include the plot ID."
   ]
  },
  {
   "cell_type": "code",
   "execution_count": 3,
   "id": "1f69919e",
   "metadata": {},
   "outputs": [],
   "source": [
    "## This reads all plot files for each date\n",
    "data_20150508 = []\n",
    "for t in range(2002):\n",
    "    file_name = pd.read_csv(f\"E:\\JANET\\DG_pansharpen_images\\Plots_data\\Individual_plots_data\\plot_{t}_20150508.csv\")\n",
    "    # Include the plot id\n",
    "    file_name['ID'] = t\n",
    "    data_20150508.append(file_name)\n",
    "        #return data\n",
    "data_20150508 = pd.concat(data_20150508  , ignore_index=False, sort=True)\n",
    "data_20150508.to_csv(\"E:\\JANET\\DG_pansharpen_images\\Plots_data\\Combined_plots_data\\Data_20150508\"+\".csv\")"
   ]
  },
  {
   "cell_type": "code",
   "execution_count": null,
   "id": "45831575",
   "metadata": {},
   "outputs": [],
   "source": [
    "## This reads all plot files for the remaining dates and exclude the plot id\n",
    "data_20150522 = []\n",
    "for t in range(2002):\n",
    "    file_name = pd.read_csv(f\"E:\\JANET\\DG_pansharpen_images\\Plots_data\\Individual_plots_data\\plot_{t}_20150522.csv\")\n",
    "    file_name['ID'] = t\n",
    "    data_20150522.append(file_name)\n",
    "        #return data\n",
    "data_20150522 = pd.concat(data_20150522  , ignore_index=False, sort=True)\n",
    "data_20150522.to_csv(\"E:\\JANET\\DG_pansharpen_images\\Plots_data\\Combined_plots_data\\Data_20150522\"+\".csv\")"
   ]
  },
  {
   "cell_type": "code",
   "execution_count": 8,
   "id": "fb4ddf84",
   "metadata": {},
   "outputs": [
    {
     "data": {
      "text/plain": [
       "(160976, 13)"
      ]
     },
     "execution_count": 8,
     "metadata": {},
     "output_type": "execute_result"
    }
   ],
   "source": [
    "data_20150508.shape"
   ]
  },
  {
   "cell_type": "code",
   "execution_count": 9,
   "id": "c2d7bc83",
   "metadata": {},
   "outputs": [],
   "source": [
    "### Combine all dataframes for all months.\n",
    "Combined_data= []\n",
    "for date in dates:\n",
    "    file_name = pd.read_csv(f\"E:\\JANET\\DG_pansharpen_images\\Plots_data\\Combined_plots_data\\Data_{date}.csv\") \n",
    "    Combined_data.append(file_name)\n",
    "        #return data\n",
    "Combined_data = pd.concat(Combined_data, ignore_index=False, sort=True,axis =1)\n",
    "Combined_data.to_csv(\"E:\\JANET\\DG_pansharpen_images\\PLots_data\\Combined_plots_data\\Combined_data\"+\".csv\")"
   ]
  },
  {
   "cell_type": "code",
   "execution_count": null,
   "id": "37793a9f",
   "metadata": {},
   "outputs": [],
   "source": []
  }
 ],
 "metadata": {
  "kernelspec": {
   "display_name": "Python 3",
   "language": "python",
   "name": "python3"
  },
  "language_info": {
   "codemirror_mode": {
    "name": "ipython",
    "version": 3
   },
   "file_extension": ".py",
   "mimetype": "text/x-python",
   "name": "python",
   "nbconvert_exporter": "python",
   "pygments_lexer": "ipython3",
   "version": "3.7.11"
  }
 },
 "nbformat": 4,
 "nbformat_minor": 5
}
