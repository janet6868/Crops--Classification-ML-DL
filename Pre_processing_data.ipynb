{
 "cells": [
  {
   "cell_type": "markdown",
   "metadata": {},
   "source": [
    "# Extracting training data from the ODC\n",
    "\n"
   ]
  },
  {
   "cell_type": "markdown",
   "metadata": {},
   "source": [
    "## Background\n",
    "\n",
    "**Training data** is the most important part of any supervised machine learning workflow. The quality of the training data has a greater impact on the classification than the algorithm used. Large and accurate training data sets are preferable: increasing the training sample size results in increased classification accuracy ([Maxell et al 2018](https://www.tandfonline.com/doi/full/10.1080/01431161.2018.1433343)).  A review of training data methods in the context of Earth Observation is available [here](https://www.mdpi.com/2072-4292/12/6/1034) \n",
    "\n",
    "When creating training labels, be sure to capture the **spectral variability** of the class, and to use imagery from the time period you want to classify (rather than relying on basemap composites). Another common problem with training data is **class imbalance**. This can occur when one of your classes is relatively rare and therefore the rare class will comprise a smaller proportion of the training set. When imbalanced data is used, it is common that the final classification will under-predict less abundant classes relative to their true proportion.\n",
    "\n",
    "There are many platforms to use for gathering training labels, the best one to use depends on your application. GIS platforms are great for collection training data as they are highly flexible and mature platforms; [Geo-Wiki](https://www.geo-wiki.org/) and [Collect Earth Online](https://collect.earth/home) are two open-source websites that may also be useful depending on the reference data strategy employed. Alternatively, there are many pre-existing training datasets on the web that may be useful, e.g. [Radiant Earth](https://www.radiant.earth/) manages a growing number of reference datasets for use by anyone.\n"
   ]
  },
  {
   "cell_type": "markdown",
   "metadata": {},
   "source": [
    "## Description\n",
    "This notebook will extract training data (feature layers) from the `open-data-cube` using geometries within a geojson. The default example will use the crop/non-crop labels within the `'data/jeca.geojson'` file. \n",
    "\n"
   ]
  },
  {
   "cell_type": "markdown",
   "metadata": {},
   "source": [
    "## Getting started\n",
    "\n",
    "To run this analysis, run all the cells in the notebook, starting with the \"Load packages\" cell. "
   ]
  },
  {
   "cell_type": "markdown",
   "metadata": {},
   "source": [
    "### Load packages\n"
   ]
  },
  {
   "cell_type": "code",
   "execution_count": 2,
   "metadata": {},
   "outputs": [
    {
     "name": "stderr",
     "output_type": "stream",
     "text": [
      "/env/lib/python3.8/site-packages/geopandas/_compat.py:106: UserWarning: The Shapely GEOS version (3.8.0-CAPI-1.13.1 ) is incompatible with the GEOS version PyGEOS was compiled with (3.9.1-CAPI-1.14.2). Conversions between both will be slow.\n",
      "  warnings.warn(\n"
     ]
    }
   ],
   "source": [
    "%matplotlib inline\n",
    "\n",
    "import os\n",
    "import shapely\n",
    "import botocore\n",
    "import datacube\n",
    "import numpy as np\n",
    "import xarray as xr\n",
    "import subprocess as sp\n",
    "import geopandas as gpd\n",
    "from odc.io.cgroups import get_cpu_quota\n",
    "from datacube.utils.geometry import assign_crs\n",
    "\n",
    "from deafrica_tools.plotting import map_shapefile\n",
    "from deafrica_tools.bandindices import calculate_indices\n",
    "from deafrica_tools.classification import collect_training_data\n",
    "\n",
    "import warnings\n",
    "warnings.filterwarnings(\"ignore\")"
   ]
  },
  {
   "cell_type": "code",
   "execution_count": 1,
   "metadata": {},
   "outputs": [],
   "source": [
    "#pip install Shapely==1.2b6"
   ]
  },
  {
   "cell_type": "code",
   "execution_count": 3,
   "metadata": {},
   "outputs": [],
   "source": [
    "#pip install -U \"aiobotocore[awscli,boto3]==1.3.3\""
   ]
  },
  {
   "cell_type": "markdown",
   "metadata": {},
   "source": [
    "## Analysis parameters\n",
    "\n",
    "* `path`: The path to the input vector file from which we will extract training data. A default geojson is provided.\n",
    "* `field`: This is the name of column in your shapefile attribute table that contains the class labels. **The class labels must be integers**\n"
   ]
  },
  {
   "cell_type": "code",
   "execution_count": 3,
   "metadata": {},
   "outputs": [],
   "source": [
    "#kofa = gpd.read_file('data/Kofa_reduced/Kofa_reduced.shp')\n",
    "#print(type(kofa))\n",
    "#kofa\n",
    "kofa = gpd.read_file('../kofa_data/1564_ICRISAT-Kofa_aoi.shp')"
   ]
  },
  {
   "cell_type": "code",
   "execution_count": 5,
   "metadata": {},
   "outputs": [
    {
     "data": {
      "text/plain": [
       "Index(['FID', 'geometry'], dtype='object')"
      ]
     },
     "execution_count": 5,
     "metadata": {},
     "output_type": "execute_result"
    }
   ],
   "source": [
    "kofa.columns"
   ]
  },
  {
   "cell_type": "code",
   "execution_count": 15,
   "metadata": {},
   "outputs": [],
   "source": [
    "import numpy as np\n",
    "from osgeo import gdal, gdal_array\n",
    "import pandas as pd\n",
    "import operator\n",
    "import gc\n",
    "import os\n",
    "\n",
    "roi_ds = gdal.Open('../kofa_data/2015_sept/15SEP12100551-P2AS_R1C1-054205021180_01_P0011sub.tif', gdal.GA_ReadOnly)\n",
    "\n",
    "#train_ds = gdal.Open('D:/neurafarms/downloaded_sat_images/rose_mlready/0306.tiff', gdal.GA_ReadOnly)\n",
    "\n",
    "roi = roi_ds.GetRasterBand(1).ReadAsArray()\n",
    "\n",
    "# How many pixels are in each class?\n",
    "classes = np.unique(roi)\n",
    "\n",
    "\n",
    "# Iterate over all class labels in the ROI image, printing out some information\n",
    "#for c in classes:\n",
    "  #  print('Class {c} contains {n} pixels'.format(c=c,\n",
    "#n=(roi == c).sum()))"
   ]
  },
  {
   "cell_type": "code",
   "execution_count": 14,
   "metadata": {},
   "outputs": [
    {
     "name": "stdout",
     "output_type": "stream",
     "text": [
      "Top 6 classes and pixel counts \n",
      " [(406, 44218), (409, 44283), (408, 44310), (407, 44324), (405, 44430), (65536, 49665)]\n"
     ]
    }
   ],
   "source": [
    "dict = {}\n",
    "for c in classes:\n",
    "    dict[c] = (roi == c).sum()\n",
    "sorted_x = sorted(dict.items(), key=operator.itemgetter(1))\n",
    "print(\"Top 6 classes and pixel counts \\n\",sorted_x[-6:])"
   ]
  },
  {
   "cell_type": "code",
   "execution_count": 7,
   "metadata": {},
   "outputs": [
    {
     "data": {
      "text/plain": [
       "array([[65536, 65536, 65536, ..., 65536, 65536, 65536],\n",
       "       [65536, 65536, 65536, ..., 65536, 65536, 65536],\n",
       "       [65536, 65536, 65536, ..., 65536, 65536, 65536],\n",
       "       ...,\n",
       "       [65536, 65536, 65536, ..., 65536, 65536, 65536],\n",
       "       [65536, 65536, 65536, ..., 65536, 65536, 65536],\n",
       "       [65536, 65536, 65536, ..., 65536, 65536, 65536]], dtype=uint32)"
      ]
     },
     "execution_count": 7,
     "metadata": {},
     "output_type": "execute_result"
    }
   ],
   "source": [
    "roi"
   ]
  },
  {
   "cell_type": "raw",
   "metadata": {},
   "source": [
    "import matplotlib.pyplot as plt\n",
    "fig, ax = plt.subplots(figsize=(8,8))\n",
    "kofa.plot(ax=ax)"
   ]
  },
  {
   "cell_type": "markdown",
   "metadata": {},
   "source": [
    "### Find the number of CPUs"
   ]
  },
  {
   "cell_type": "code",
   "execution_count": 6,
   "metadata": {},
   "outputs": [
    {
     "name": "stdout",
     "output_type": "stream",
     "text": [
      "ncpus = 4\n"
     ]
    }
   ],
   "source": [
    "\n",
    "ncpus=round(get_cpu_quota())\n",
    "print('ncpus = '+str(ncpus))"
   ]
  },
  {
   "cell_type": "code",
   "execution_count": 8,
   "metadata": {},
   "outputs": [
    {
     "data": {
      "application/vnd.jupyter.widget-view+json": {
       "model_id": "7afddef9c83f4c5097b8a7076fd99af7",
       "version_major": 2,
       "version_minor": 0
      },
      "text/plain": [
       "Label(value='')"
      ]
     },
     "metadata": {},
     "output_type": "display_data"
    },
    {
     "data": {
      "application/vnd.jupyter.widget-view+json": {
       "model_id": "690b6fd2806b429bac02ac58f1ad580d",
       "version_major": 2,
       "version_minor": 0
      },
      "text/plain": [
       "Map(center=[11.55539992970925, 8.26788000000002], controls=(ZoomControl(options=['position', 'zoom_in_text', '…"
      ]
     },
     "metadata": {},
     "output_type": "display_data"
    }
   ],
   "source": [
    "# Plot training data in an interactive map\n",
    "import matplotlib.pyplot as plt\n",
    "field ='FID'\n",
    "map_shapefile(kofa, attribute=field)\n",
    "#plt.savefig('kofa.png')"
   ]
  },
  {
   "cell_type": "markdown",
   "metadata": {},
   "source": [
    "## Preview input data\n",
    "\n",
    "We can load and preview our input data shapefile using `geopandas`. The shapefile should contain a column with class labels (e.g. 'class'). These labels will be used to train our model. \n",
    "\n",
    "> Remember, the class labels **must** be represented by `integers`.\n"
   ]
  },
  {
   "cell_type": "markdown",
   "metadata": {},
   "source": [
    "## For data extracted directly from the geojson"
   ]
  },
  {
   "cell_type": "raw",
   "metadata": {},
   "source": [
    "# Load input data shapefile\n",
    "input_data = gpd.read_file(path)"
   ]
  },
  {
   "cell_type": "code",
   "execution_count": 28,
   "metadata": {},
   "outputs": [],
   "source": [
    "#Reducing some columns though for this analysis only.\n",
    "input_data = input_data.drop(['Object_ID', 'SupObject_ID', 'State_Object', 'Agent', 'Date_created',\n",
    "       'Location_name', 'Access_mode', 'Loan_type', 'Document',\n",
    "       'Occupation_duration', 'Lon_lat', 'Circumference', 'Azimuth_of',\n",
    "       'Position2', 'Land_cover', 'Crop_group', 'Crop_class', 'Sub_class',\n",
    "       'Other_crop', 'Farm_area', 'Tillage', 'Residues', 'Grain_vs_fodder',\n",
    "       'Water_source', 'Pure/Mixed_crop', 'FlagGeom', 'Area_ha',],axis=1)"
   ]
  },
  {
   "cell_type": "code",
   "execution_count": 35,
   "metadata": {},
   "outputs": [],
   "source": [
    "input_data = input_data[['Grown_crops','geometry']]\n"
   ]
  },
  {
   "cell_type": "code",
   "execution_count": 36,
   "metadata": {},
   "outputs": [
    {
     "data": {
      "text/html": [
       "<div>\n",
       "<style scoped>\n",
       "    .dataframe tbody tr th:only-of-type {\n",
       "        vertical-align: middle;\n",
       "    }\n",
       "\n",
       "    .dataframe tbody tr th {\n",
       "        vertical-align: top;\n",
       "    }\n",
       "\n",
       "    .dataframe thead th {\n",
       "        text-align: right;\n",
       "    }\n",
       "</style>\n",
       "<table border=\"1\" class=\"dataframe\">\n",
       "  <thead>\n",
       "    <tr style=\"text-align: right;\">\n",
       "      <th></th>\n",
       "      <th>Grown_crops</th>\n",
       "      <th>geometry</th>\n",
       "    </tr>\n",
       "  </thead>\n",
       "  <tbody>\n",
       "    <tr>\n",
       "      <th>0</th>\n",
       "      <td>0</td>\n",
       "      <td>MULTIPOLYGON (((8.25969 11.55618, 8.26104 11.5...</td>\n",
       "    </tr>\n",
       "    <tr>\n",
       "      <th>2</th>\n",
       "      <td>0</td>\n",
       "      <td>MULTIPOLYGON (((8.25797 11.55537, 8.25812 11.5...</td>\n",
       "    </tr>\n",
       "    <tr>\n",
       "      <th>3</th>\n",
       "      <td>0</td>\n",
       "      <td>MULTIPOLYGON (((8.25751 11.55499, 8.25773 11.5...</td>\n",
       "    </tr>\n",
       "    <tr>\n",
       "      <th>6</th>\n",
       "      <td>0</td>\n",
       "      <td>MULTIPOLYGON (((8.25865 11.55405, 8.25850 11.5...</td>\n",
       "    </tr>\n",
       "    <tr>\n",
       "      <th>8</th>\n",
       "      <td>0</td>\n",
       "      <td>MULTIPOLYGON (((8.26029 11.55414, 8.26002 11.5...</td>\n",
       "    </tr>\n",
       "  </tbody>\n",
       "</table>\n",
       "</div>"
      ],
      "text/plain": [
       "   Grown_crops                                           geometry\n",
       "0            0  MULTIPOLYGON (((8.25969 11.55618, 8.26104 11.5...\n",
       "2            0  MULTIPOLYGON (((8.25797 11.55537, 8.25812 11.5...\n",
       "3            0  MULTIPOLYGON (((8.25751 11.55499, 8.25773 11.5...\n",
       "6            0  MULTIPOLYGON (((8.25865 11.55405, 8.25850 11.5...\n",
       "8            0  MULTIPOLYGON (((8.26029 11.55414, 8.26002 11.5..."
      ]
     },
     "execution_count": 36,
     "metadata": {},
     "output_type": "execute_result"
    }
   ],
   "source": [
    "input_data.head()"
   ]
  },
  {
   "cell_type": "code",
   "execution_count": 34,
   "metadata": {},
   "outputs": [],
   "source": [
    "#save the Geojson of the selinpuected crops\n",
    "input_data.to_file('data/kofa_reduced.geojson',driver='GeoJSON')\n",
    "\n",
    "#save the shapefile, cpg of the selected crops\n",
    "input_data.to_file('data/Kofa_reduced.geojson')"
   ]
  },
  {
   "cell_type": "code",
   "execution_count": 20,
   "metadata": {},
   "outputs": [],
   "source": [
    "#read data from the tiles from the world view images\n",
    "import pandas as pd\n",
    "data = pd.read_csv('data/kofa_edited.csv')\n",
    "#data.head()"
   ]
  },
  {
   "cell_type": "markdown",
   "metadata": {},
   "source": [
    "## Matching the GT data with the Imagery data"
   ]
  },
  {
   "cell_type": "code",
   "execution_count": 5,
   "metadata": {},
   "outputs": [],
   "source": [
    "kofa = gpd.read_file('data/Kofa_reduced/Kofa_reduced.shp')\n",
    "#print(type(kofa))"
   ]
  },
  {
   "cell_type": "code",
   "execution_count": 6,
   "metadata": {},
   "outputs": [
    {
     "data": {
      "text/html": [
       "<div>\n",
       "<style scoped>\n",
       "    .dataframe tbody tr th:only-of-type {\n",
       "        vertical-align: middle;\n",
       "    }\n",
       "\n",
       "    .dataframe tbody tr th {\n",
       "        vertical-align: top;\n",
       "    }\n",
       "\n",
       "    .dataframe thead th {\n",
       "        text-align: right;\n",
       "    }\n",
       "</style>\n",
       "<table border=\"1\" class=\"dataframe\">\n",
       "  <thead>\n",
       "    <tr style=\"text-align: right;\">\n",
       "      <th></th>\n",
       "      <th>Grown_crop</th>\n",
       "      <th>geometry</th>\n",
       "    </tr>\n",
       "  </thead>\n",
       "  <tbody>\n",
       "    <tr>\n",
       "      <th>0</th>\n",
       "      <td>0</td>\n",
       "      <td>POLYGON ((8.25969 11.55618, 8.26104 11.55557, ...</td>\n",
       "    </tr>\n",
       "    <tr>\n",
       "      <th>1</th>\n",
       "      <td>0</td>\n",
       "      <td>POLYGON ((8.25797 11.55537, 8.25812 11.55494, ...</td>\n",
       "    </tr>\n",
       "    <tr>\n",
       "      <th>2</th>\n",
       "      <td>0</td>\n",
       "      <td>POLYGON ((8.25751 11.55499, 8.25773 11.55511, ...</td>\n",
       "    </tr>\n",
       "    <tr>\n",
       "      <th>3</th>\n",
       "      <td>0</td>\n",
       "      <td>POLYGON ((8.25865 11.55405, 8.25850 11.55493, ...</td>\n",
       "    </tr>\n",
       "    <tr>\n",
       "      <th>4</th>\n",
       "      <td>0</td>\n",
       "      <td>POLYGON ((8.26029 11.55414, 8.26002 11.55456, ...</td>\n",
       "    </tr>\n",
       "  </tbody>\n",
       "</table>\n",
       "</div>"
      ],
      "text/plain": [
       "   Grown_crop                                           geometry\n",
       "0           0  POLYGON ((8.25969 11.55618, 8.26104 11.55557, ...\n",
       "1           0  POLYGON ((8.25797 11.55537, 8.25812 11.55494, ...\n",
       "2           0  POLYGON ((8.25751 11.55499, 8.25773 11.55511, ...\n",
       "3           0  POLYGON ((8.25865 11.55405, 8.25850 11.55493, ...\n",
       "4           0  POLYGON ((8.26029 11.55414, 8.26002 11.55456, ..."
      ]
     },
     "execution_count": 6,
     "metadata": {},
     "output_type": "execute_result"
    }
   ],
   "source": [
    "kofa.head()"
   ]
  },
  {
   "cell_type": "markdown",
   "metadata": {},
   "source": [
    "## select plots"
   ]
  },
  {
   "cell_type": "code",
   "execution_count": 7,
   "metadata": {},
   "outputs": [
    {
     "data": {
      "text/plain": [
       "[21, 250, 258, 266, 510, 783, 1742, 1743]"
      ]
     },
     "execution_count": 7,
     "metadata": {},
     "output_type": "execute_result"
    }
   ],
   "source": [
    "#Determine the plots which are multipolygons\n",
    "multip = []\n",
    "for i in range(len(kofa)):\n",
    "    if kofa.geometry[i].geom_type == 'MultiPolygon':\n",
    "        multip.append(i)\n",
    "multip"
   ]
  },
  {
   "cell_type": "code",
   "execution_count": 8,
   "metadata": {},
   "outputs": [
    {
     "data": {
      "text/plain": [
       "1    1369\n",
       "0     320\n",
       "3     156\n",
       "2      87\n",
       "4      70\n",
       "Name: Grown_crop, dtype: int64"
      ]
     },
     "execution_count": 8,
     "metadata": {},
     "output_type": "execute_result"
    }
   ],
   "source": [
    "kofa.Grown_crop.value_counts()"
   ]
  },
  {
   "cell_type": "code",
   "execution_count": 12,
   "metadata": {},
   "outputs": [
    {
     "data": {
      "text/plain": [
       "(array([ 320.,    0., 1369.,    0.,    0.,   87.,    0.,  156.,    0.,\n",
       "          70.]),\n",
       " array([0. , 0.4, 0.8, 1.2, 1.6, 2. , 2.4, 2.8, 3.2, 3.6, 4. ]),\n",
       " <BarContainer object of 10 artists>)"
      ]
     },
     "execution_count": 12,
     "metadata": {},
     "output_type": "execute_result"
    },
    {
     "data": {
      "image/png": "[encoded data removed]",
      "text/plain": [
       "<Figure size 432x288 with 1 Axes>"
      ]
     },
     "metadata": {
      "needs_background": "light"
     },
     "output_type": "display_data"
    }
   ],
   "source": [
    "import matplotlib.pyplot as plt\n",
    "counts, bins = np.histogram(kofa.Grown_crop)\n",
    "plt.hist(bins[:-1], bins, weights=counts,le)"
   ]
  },
  {
   "cell_type": "markdown",
   "metadata": {},
   "source": [
    "## Solving Classes Imbalance"
   ]
  },
  {
   "cell_type": "code",
   "execution_count": 9,
   "metadata": {},
   "outputs": [],
   "source": [
    "import pandas as pd\n",
    "#create more coordinates within the plots \n",
    "def det(a, b):\n",
    "    return a[0] * b[1] - a[1] * b[0]\n",
    "\n",
    "def polygon_gridding(plot_id = 10,n =20):\n",
    "    ticks = []\n",
    "\n",
    "    polygon = list(zip(list(kofa.geometry[plot_id].exterior.xy[0]),list(kofa.geometry[plot_id].exterior.xy[1])))\n",
    "    #n  number of parts on each side of the grid\n",
    "\n",
    "    # we first find ticks on each side of the polygon\n",
    "    for j in range(len(polygon)):  # because we are talking about 4-gons\n",
    "        temp_ticks = []\n",
    "        for i in range(n-1):\n",
    "            t = (i+1)*(1/n)\n",
    "            Ex = polygon[j][0] * (1-t) + polygon[(j+1) % 4][0] * t\n",
    "            Ey = polygon[j][1] * (1-t) + polygon[(j+1) % 4][1] * t\n",
    "            temp_ticks.append((Ex, Ey))\n",
    "        if j < 2:\n",
    "            ticks.append(temp_ticks)\n",
    "        else: # because you are moving backward in this part\n",
    "            temp_ticks.reverse()\n",
    "            ticks.append(temp_ticks)\n",
    "\n",
    "    # then we find lines of the grid\n",
    "    h_lines = []\n",
    "    v_lines = []\n",
    "    for i in range(n-1):\n",
    "        h_lines.append((ticks[0][i], ticks[2][i]))\n",
    "        v_lines.append((ticks[1][i], ticks[3][i]))\n",
    "\n",
    "    # then we find the intersection of grid lines\n",
    "    l_list_x = []\n",
    "    l_list_y = []\n",
    "    for i in range(len(h_lines)):\n",
    "        for j in range(len(v_lines)):\n",
    "            line1 = h_lines[i]\n",
    "            line2 = v_lines[j]\n",
    "            xdiff = (line1[0][0] - line1[1][0], line2[0][0] - line2[1][0])\n",
    "            ydiff = (line1[0][1] - line1[1][1], line2[0][1] - line2[1][1])\n",
    "            div = det(xdiff, ydiff)\n",
    "            if div == 0:\n",
    "                raise Exception('lines do not intersect')\n",
    "\n",
    "            d = (det(*line1), det(*line2))\n",
    "            x = det(d, xdiff) / div\n",
    "            y = det(d, ydiff) / div\n",
    "            l_list_x.append(x)\n",
    "            l_list_y.append(y)\n",
    "    return l_list_x,l_list_y\n",
    "       \n",
    "        \n"
   ]
  },
  {
   "cell_type": "markdown",
   "metadata": {},
   "source": [
    "ERROR  ----DROP THIS MULTIPOLYGONS (ROWS)\n",
    "[21, 250, 258, 266, 510, 783, 1742, 1743]\n"
   ]
  },
  {
   "cell_type": "code",
   "execution_count": 10,
   "metadata": {},
   "outputs": [
    {
     "data": {
      "text/plain": [
       "(1676954, 3)"
      ]
     },
     "execution_count": 10,
     "metadata": {},
     "output_type": "execute_result"
    }
   ],
   "source": [
    "#Take the polygons and exclude multipolygons\n",
    "valid_polygons = list(set(list(range(len(kofa)))) - set([21, 250, 258, 266, 510, 783, 1742, 1743]))\n",
    "\n",
    "#Map the extracted coordinates with the respective grown crops and create a dataframe\n",
    "df1 = pd.DataFrame()\n",
    "for i in valid_polygons:\n",
    "    result = polygon_gridding(plot_id = i,n =30)\n",
    "    df = pd.DataFrame()\n",
    "    df['lon'] = result[0]\n",
    "    df['lat'] = result[1]\n",
    "    df['Grown_crop'] = kofa.Grown_crop[i]\n",
    "    df1 = df1.append(df)\n",
    "df1.shape"
   ]
  },
  {
   "cell_type": "code",
   "execution_count": 11,
   "metadata": {},
   "outputs": [
    {
     "data": {
      "text/plain": [
       "8.286911381767199"
      ]
     },
     "execution_count": 11,
     "metadata": {},
     "output_type": "execute_result"
    }
   ],
   "source": [
    " df['lon'][0]"
   ]
  },
  {
   "cell_type": "code",
   "execution_count": 93,
   "metadata": {},
   "outputs": [],
   "source": [
    "#save the dataframes as a csv file\n",
    "df1.to_csv(\"data/More_GT_data.csv\", index = False)"
   ]
  },
  {
   "cell_type": "code",
   "execution_count": 94,
   "metadata": {},
   "outputs": [
    {
     "data": {
      "text/plain": [
       "1    1146283\n",
       "0     268279\n",
       "3     131196\n",
       "2      72326\n",
       "4      58870\n",
       "Name: Grown_crop, dtype: int64"
      ]
     },
     "execution_count": 94,
     "metadata": {},
     "output_type": "execute_result"
    }
   ],
   "source": [
    "df1.Grown_crop.value_counts()"
   ]
  },
  {
   "cell_type": "code",
   "execution_count": 95,
   "metadata": {},
   "outputs": [
    {
     "data": {
      "text/plain": [
       "(array([ 268279.,       0., 1146283.,       0.,       0.,   72326.,\n",
       "              0.,  131196.,       0.,   58870.]),\n",
       " array([0. , 0.4, 0.8, 1.2, 1.6, 2. , 2.4, 2.8, 3.2, 3.6, 4. ]),\n",
       " <BarContainer object of 10 artists>)"
      ]
     },
     "execution_count": 95,
     "metadata": {},
     "output_type": "execute_result"
    },
    {
     "data": {
      "image/png": "[encoded data removed]",
      "text/plain": [
       "<Figure size 432x288 with 1 Axes>"
      ]
     },
     "metadata": {
      "needs_background": "light"
     },
     "output_type": "display_data"
    }
   ],
   "source": [
    "import matplotlib.pyplot as plt\n",
    "counts, bins = np.histogram(df1.Grown_crop)\n",
    "plt.hist(bins[:-1], bins, weights=counts)\n",
    "plt,"
   ]
  },
  {
   "cell_type": "code",
   "execution_count": 96,
   "metadata": {},
   "outputs": [],
   "source": [
    "#for worldview images\n",
    "data = pd.read_csv('data/full_data.csv')"
   ]
  },
  {
   "cell_type": "code",
   "execution_count": 12,
   "metadata": {},
   "outputs": [],
   "source": [
    "#for landsat images\n",
    "data = pd.read_csv('data/landsat_data.csv')"
   ]
  },
  {
   "cell_type": "code",
   "execution_count": 13,
   "metadata": {},
   "outputs": [
    {
     "data": {
      "text/html": [
       "<div>\n",
       "<style scoped>\n",
       "    .dataframe tbody tr th:only-of-type {\n",
       "        vertical-align: middle;\n",
       "    }\n",
       "\n",
       "    .dataframe tbody tr th {\n",
       "        vertical-align: top;\n",
       "    }\n",
       "\n",
       "    .dataframe thead th {\n",
       "        text-align: right;\n",
       "    }\n",
       "</style>\n",
       "<table border=\"1\" class=\"dataframe\">\n",
       "  <thead>\n",
       "    <tr style=\"text-align: right;\">\n",
       "      <th></th>\n",
       "      <th>red</th>\n",
       "      <th>green</th>\n",
       "      <th>blue</th>\n",
       "      <th>nir</th>\n",
       "      <th>swir_1</th>\n",
       "      <th>swir_2</th>\n",
       "      <th>pixel_quality</th>\n",
       "      <th>qa_aerosol</th>\n",
       "      <th>lon</th>\n",
       "      <th>lat</th>\n",
       "    </tr>\n",
       "  </thead>\n",
       "  <tbody>\n",
       "    <tr>\n",
       "      <th>0</th>\n",
       "      <td>9986.0</td>\n",
       "      <td>9725.0</td>\n",
       "      <td>9379.0</td>\n",
       "      <td>9301.0</td>\n",
       "      <td>10227.0</td>\n",
       "      <td>11692.0</td>\n",
       "      <td>10199.0</td>\n",
       "      <td>9862.0</td>\n",
       "      <td>8.234328</td>\n",
       "      <td>11.578069</td>\n",
       "    </tr>\n",
       "    <tr>\n",
       "      <th>1</th>\n",
       "      <td>10527.0</td>\n",
       "      <td>9944.0</td>\n",
       "      <td>9518.0</td>\n",
       "      <td>9788.0</td>\n",
       "      <td>10112.0</td>\n",
       "      <td>10272.0</td>\n",
       "      <td>10458.0</td>\n",
       "      <td>9809.0</td>\n",
       "      <td>8.234604</td>\n",
       "      <td>11.578070</td>\n",
       "    </tr>\n",
       "    <tr>\n",
       "      <th>2</th>\n",
       "      <td>9576.0</td>\n",
       "      <td>10078.0</td>\n",
       "      <td>10049.0</td>\n",
       "      <td>9884.0</td>\n",
       "      <td>9786.0</td>\n",
       "      <td>10305.0</td>\n",
       "      <td>9990.0</td>\n",
       "      <td>9566.0</td>\n",
       "      <td>8.234879</td>\n",
       "      <td>11.578071</td>\n",
       "    </tr>\n",
       "    <tr>\n",
       "      <th>3</th>\n",
       "      <td>9486.0</td>\n",
       "      <td>9571.0</td>\n",
       "      <td>10581.0</td>\n",
       "      <td>10496.0</td>\n",
       "      <td>9680.0</td>\n",
       "      <td>9510.0</td>\n",
       "      <td>9491.0</td>\n",
       "      <td>9471.0</td>\n",
       "      <td>8.235154</td>\n",
       "      <td>11.578071</td>\n",
       "    </tr>\n",
       "    <tr>\n",
       "      <th>4</th>\n",
       "      <td>10055.0</td>\n",
       "      <td>10196.0</td>\n",
       "      <td>10074.0</td>\n",
       "      <td>10379.0</td>\n",
       "      <td>10317.0</td>\n",
       "      <td>10050.0</td>\n",
       "      <td>10716.0</td>\n",
       "      <td>10538.0</td>\n",
       "      <td>8.235429</td>\n",
       "      <td>11.578072</td>\n",
       "    </tr>\n",
       "  </tbody>\n",
       "</table>\n",
       "</div>"
      ],
      "text/plain": [
       "       red    green     blue      nir   swir_1   swir_2  pixel_quality  \\\n",
       "0   9986.0   9725.0   9379.0   9301.0  10227.0  11692.0        10199.0   \n",
       "1  10527.0   9944.0   9518.0   9788.0  10112.0  10272.0        10458.0   \n",
       "2   9576.0  10078.0  10049.0   9884.0   9786.0  10305.0         9990.0   \n",
       "3   9486.0   9571.0  10581.0  10496.0   9680.0   9510.0         9491.0   \n",
       "4  10055.0  10196.0  10074.0  10379.0  10317.0  10050.0        10716.0   \n",
       "\n",
       "   qa_aerosol       lon        lat  \n",
       "0      9862.0  8.234328  11.578069  \n",
       "1      9809.0  8.234604  11.578070  \n",
       "2      9566.0  8.234879  11.578071  \n",
       "3      9471.0  8.235154  11.578071  \n",
       "4     10538.0  8.235429  11.578072  "
      ]
     },
     "execution_count": 13,
     "metadata": {},
     "output_type": "execute_result"
    }
   ],
   "source": [
    "data.head()"
   ]
  },
  {
   "cell_type": "code",
   "execution_count": 14,
   "metadata": {},
   "outputs": [
    {
     "data": {
      "text/plain": [
       "8.234328363552438"
      ]
     },
     "execution_count": 14,
     "metadata": {},
     "output_type": "execute_result"
    }
   ],
   "source": [
    "data['lon'][0]"
   ]
  },
  {
   "cell_type": "code",
   "execution_count": 15,
   "metadata": {},
   "outputs": [
    {
     "data": {
      "image/svg+xml": [
       "<svg xmlns=\"http://www.w3.org/2000/svg\" xmlns:xlink=\"http://www.w3.org/1999/xlink\" width=\"100.0\" height=\"100.0\" viewBox=\"8.257489066666635 11.553182400000104 0.0006051999999989732 0.0006101999998922025\" preserveAspectRatio=\"xMinYMin meet\"><g transform=\"matrix(1,0,0,-1,0,23.106975000000098)\"><path fill-rule=\"evenodd\" fill=\"#66cc99\" stroke=\"#555555\" stroke-width=\"1.220399999784405e-05\" opacity=\"0.6\" d=\"M 8.25751166666663,11.553575 L 8.257946666666783,11.55377 L 8.258071666666638,11.55344 L 8.257568333333381,11.5532050000001 L 8.25751166666663,11.553575 z\" /></g></svg>"
      ],
      "text/plain": [
       "<shapely.geometry.polygon.Polygon at 0x7f0e6c2e9b50>"
      ]
     },
     "execution_count": 15,
     "metadata": {},
     "output_type": "execute_result"
    }
   ],
   "source": [
    "kofa.geometry[10]\n"
   ]
  },
  {
   "cell_type": "code",
   "execution_count": 128,
   "metadata": {},
   "outputs": [
    {
     "data": {
      "image/png": "[encoded data removed]",
      "text/plain": [
       "<Figure size 432x288 with 1 Axes>"
      ]
     },
     "metadata": {
      "needs_background": "light"
     },
     "output_type": "display_data"
    }
   ],
   "source": [
    "l_list_x1 =  list(kofa.geometry[10].exterior.xy[0])\n",
    "l_list_y1  =  list(kofa.geometry[10].exterior.xy[1])\n",
    "import matplotlib.pyplot as plt\n",
    "from matplotlib.patches import Rectangle\n",
    "fig, ax = plt.subplots()\n",
    "ax.scatter(l_list_x1,l_list_y1)\n",
    "\n",
    "plt.xlabel(\"X-AXIS\")\n",
    "plt.ylabel(\"Y-AXIS\")\n",
    "plt.title(\"PLOT\")\n",
    "#plt.show()\n",
    "plt.savefig('data/plot101.png')"
   ]
  },
  {
   "cell_type": "code",
   "execution_count": 127,
   "metadata": {},
   "outputs": [
    {
     "data": {
      "image/png": "[encoded data removed]",
      "text/plain": [
       "<Figure size 576x576 with 1 Axes>"
      ]
     },
     "metadata": {
      "needs_background": "light"
     },
     "output_type": "display_data"
    }
   ],
   "source": [
    "l_list_x = polygon_gridding()[0] + list(kofa.geometry[10].exterior.xy[0])\n",
    "l_list_y  = polygon_gridding()[1] + list(kofa.geometry[10].exterior.xy[1])\n",
    "import matplotlib.pyplot as plt\n",
    "from matplotlib.patches import Rectangle\n",
    "fig, ax = plt.subplots(figsize = (8,8))\n",
    "ax.scatter(l_list_x,l_list_y)\n",
    "\n",
    "plt.xlabel(\"X-AXIS\")\n",
    "plt.ylabel(\"Y-AXIS\")\n",
    "plt.title(\"PLOT\")\n",
    "#plt.show()\n",
    "plt.savefig('data/plot10.png')"
   ]
  },
  {
   "cell_type": "code",
   "execution_count": 16,
   "metadata": {},
   "outputs": [],
   "source": [
    "#Truncate the lon and lat to extract data. Do for both data sets\n",
    "#change to labeldata after data\n",
    "lon =[]\n",
    "lat = []\n",
    "def truncate(num):\n",
    "    return int(num * 100000) / 100000\n",
    "for i in df1.lon:\n",
    "    i = float(i)\n",
    "    i =truncate(i)\n",
    "    lon.append(i)\n",
    "    \n",
    "for j in df1.lat:\n",
    "    j = float(j)\n",
    "    j =truncate(j)\n",
    "    lat.append(j)\n",
    "    \n",
    "df1['lon'] = lon\n",
    "df1['lat'] = lat\n"
   ]
  },
  {
   "cell_type": "code",
   "execution_count": 17,
   "metadata": {},
   "outputs": [],
   "source": [
    "lon =[]\n",
    "lat = []\n",
    "def truncate(num):\n",
    "    return int(num * 100000) / 100000\n",
    "for i in data.lon:\n",
    "    i = float(i)\n",
    "    i =truncate(i)\n",
    "    lon.append(i)\n",
    "    \n",
    "for j in data.lat:\n",
    "    j = float(j)\n",
    "    j =truncate(j)\n",
    "    lat.append(j)\n",
    "    \n",
    "data['lon'] = lon\n",
    "data['lat'] = lat\n"
   ]
  },
  {
   "cell_type": "code",
   "execution_count": 18,
   "metadata": {},
   "outputs": [
    {
     "data": {
      "text/plain": [
       "0    8.25985\n",
       "0    8.25796\n",
       "0    8.25752\n",
       "0    8.25864\n",
       "0    8.26028\n",
       "      ...   \n",
       "0    8.28754\n",
       "0    8.28748\n",
       "0    8.28753\n",
       "0    8.28713\n",
       "0    8.28691\n",
       "Name: lon, Length: 1994, dtype: float64"
      ]
     },
     "execution_count": 18,
     "metadata": {},
     "output_type": "execute_result"
    }
   ],
   "source": [
    "df1['lon'][0]"
   ]
  },
  {
   "cell_type": "code",
   "execution_count": 23,
   "metadata": {},
   "outputs": [
    {
     "data": {
      "text/plain": [
       "(31570, 10)"
      ]
     },
     "execution_count": 23,
     "metadata": {},
     "output_type": "execute_result"
    }
   ],
   "source": [
    "data.shape"
   ]
  },
  {
   "cell_type": "code",
   "execution_count": 26,
   "metadata": {},
   "outputs": [],
   "source": [
    "result = pd.merge(data, df1, how ='inner', on=['lat','lon'])"
   ]
  },
  {
   "cell_type": "code",
   "execution_count": 27,
   "metadata": {},
   "outputs": [
    {
     "data": {
      "text/plain": [
       "(2262, 11)"
      ]
     },
     "execution_count": 27,
     "metadata": {},
     "output_type": "execute_result"
    }
   ],
   "source": [
    "result.shape"
   ]
  },
  {
   "cell_type": "code",
   "execution_count": 28,
   "metadata": {},
   "outputs": [
    {
     "data": {
      "text/plain": [
       "1    1519\n",
       "0     428\n",
       "3     146\n",
       "2      89\n",
       "4      80\n",
       "Name: Grown_crop, dtype: int64"
      ]
     },
     "execution_count": 28,
     "metadata": {},
     "output_type": "execute_result"
    }
   ],
   "source": [
    "result.Grown_crop.value_counts()"
   ]
  },
  {
   "cell_type": "code",
   "execution_count": 29,
   "metadata": {},
   "outputs": [],
   "source": [
    "result.to_csv('data/Clean_landsatkofadata.csv', index= False)"
   ]
  },
  {
   "cell_type": "raw",
   "metadata": {},
   "source": [
    "#Extract the data points in data from images that has same lat and lon same as \n",
    "#data from the GT kofa regions\n",
    "data2 = data.loc[(data['lon'].isin(df1['lon'])) & (data['lat'].isin(df1['lat']))]\n",
    "#Remove duplicates from the data\n",
    "data3= data2.drop_duplicates(subset=['lon', 'lat'], keep='first')\n",
    "data3.head()"
   ]
  },
  {
   "cell_type": "code",
   "execution_count": 30,
   "metadata": {},
   "outputs": [],
   "source": [
    "data = pd.read_csv('data/Clean_landsatkofadata.csv', )"
   ]
  },
  {
   "cell_type": "code",
   "execution_count": 31,
   "metadata": {},
   "outputs": [
    {
     "data": {
      "text/html": [
       "<div>\n",
       "<style scoped>\n",
       "    .dataframe tbody tr th:only-of-type {\n",
       "        vertical-align: middle;\n",
       "    }\n",
       "\n",
       "    .dataframe tbody tr th {\n",
       "        vertical-align: top;\n",
       "    }\n",
       "\n",
       "    .dataframe thead th {\n",
       "        text-align: right;\n",
       "    }\n",
       "</style>\n",
       "<table border=\"1\" class=\"dataframe\">\n",
       "  <thead>\n",
       "    <tr style=\"text-align: right;\">\n",
       "      <th></th>\n",
       "      <th>red</th>\n",
       "      <th>green</th>\n",
       "      <th>blue</th>\n",
       "      <th>nir</th>\n",
       "      <th>swir_1</th>\n",
       "      <th>swir_2</th>\n",
       "      <th>pixel_quality</th>\n",
       "      <th>qa_aerosol</th>\n",
       "      <th>lon</th>\n",
       "      <th>lat</th>\n",
       "      <th>Grown_crop</th>\n",
       "    </tr>\n",
       "  </thead>\n",
       "  <tbody>\n",
       "    <tr>\n",
       "      <th>0</th>\n",
       "      <td>9693.0</td>\n",
       "      <td>10337.0</td>\n",
       "      <td>10304.0</td>\n",
       "      <td>10395.0</td>\n",
       "      <td>10105.0</td>\n",
       "      <td>10692.0</td>\n",
       "      <td>10578.0</td>\n",
       "      <td>10087.0</td>\n",
       "      <td>8.26019</td>\n",
       "      <td>11.57705</td>\n",
       "      <td>1</td>\n",
       "    </tr>\n",
       "    <tr>\n",
       "      <th>1</th>\n",
       "      <td>9693.0</td>\n",
       "      <td>10337.0</td>\n",
       "      <td>10304.0</td>\n",
       "      <td>10395.0</td>\n",
       "      <td>10105.0</td>\n",
       "      <td>10692.0</td>\n",
       "      <td>10578.0</td>\n",
       "      <td>10087.0</td>\n",
       "      <td>8.26019</td>\n",
       "      <td>11.57705</td>\n",
       "      <td>1</td>\n",
       "    </tr>\n",
       "    <tr>\n",
       "      <th>2</th>\n",
       "      <td>9693.0</td>\n",
       "      <td>10337.0</td>\n",
       "      <td>10304.0</td>\n",
       "      <td>10395.0</td>\n",
       "      <td>10105.0</td>\n",
       "      <td>10692.0</td>\n",
       "      <td>10578.0</td>\n",
       "      <td>10087.0</td>\n",
       "      <td>8.26019</td>\n",
       "      <td>11.57705</td>\n",
       "      <td>1</td>\n",
       "    </tr>\n",
       "    <tr>\n",
       "      <th>3</th>\n",
       "      <td>10169.0</td>\n",
       "      <td>9797.0</td>\n",
       "      <td>10304.0</td>\n",
       "      <td>10932.0</td>\n",
       "      <td>10805.0</td>\n",
       "      <td>10824.0</td>\n",
       "      <td>10076.0</td>\n",
       "      <td>9465.0</td>\n",
       "      <td>8.26157</td>\n",
       "      <td>11.57678</td>\n",
       "      <td>1</td>\n",
       "    </tr>\n",
       "    <tr>\n",
       "      <th>4</th>\n",
       "      <td>9684.0</td>\n",
       "      <td>9497.0</td>\n",
       "      <td>9708.0</td>\n",
       "      <td>9648.0</td>\n",
       "      <td>9529.0</td>\n",
       "      <td>9394.0</td>\n",
       "      <td>9543.0</td>\n",
       "      <td>9540.0</td>\n",
       "      <td>8.25304</td>\n",
       "      <td>11.57649</td>\n",
       "      <td>1</td>\n",
       "    </tr>\n",
       "  </tbody>\n",
       "</table>\n",
       "</div>"
      ],
      "text/plain": [
       "       red    green     blue      nir   swir_1   swir_2  pixel_quality  \\\n",
       "0   9693.0  10337.0  10304.0  10395.0  10105.0  10692.0        10578.0   \n",
       "1   9693.0  10337.0  10304.0  10395.0  10105.0  10692.0        10578.0   \n",
       "2   9693.0  10337.0  10304.0  10395.0  10105.0  10692.0        10578.0   \n",
       "3  10169.0   9797.0  10304.0  10932.0  10805.0  10824.0        10076.0   \n",
       "4   9684.0   9497.0   9708.0   9648.0   9529.0   9394.0         9543.0   \n",
       "\n",
       "   qa_aerosol      lon       lat  Grown_crop  \n",
       "0     10087.0  8.26019  11.57705           1  \n",
       "1     10087.0  8.26019  11.57705           1  \n",
       "2     10087.0  8.26019  11.57705           1  \n",
       "3      9465.0  8.26157  11.57678           1  \n",
       "4      9540.0  8.25304  11.57649           1  "
      ]
     },
     "execution_count": 31,
     "metadata": {},
     "output_type": "execute_result"
    }
   ],
   "source": [
    "data.head()"
   ]
  },
  {
   "cell_type": "markdown",
   "metadata": {},
   "source": [
    "## Landsat 8 data"
   ]
  },
  {
   "cell_type": "code",
   "execution_count": 52,
   "metadata": {},
   "outputs": [
    {
     "data": {
      "text/plain": [
       "Index(['B01', 'B02', 'B03', 'B04', 'B05', 'B06', 'B07', 'B08', 'lon', 'lat',\n",
       "       'Grown_crop'],\n",
       "      dtype='object')"
      ]
     },
     "execution_count": 52,
     "metadata": {},
     "output_type": "execute_result"
    }
   ],
   "source": [
    "data.columns"
   ]
  },
  {
   "cell_type": "code",
   "execution_count": 4,
   "metadata": {},
   "outputs": [],
   "source": [
    "path = 'data/kofa_reduced.geojson' \n",
    "field = 'Grown_crops'"
   ]
  },
  {
   "cell_type": "code",
   "execution_count": 5,
   "metadata": {},
   "outputs": [],
   "source": [
    "# Load input data shapefile\n",
    "input_data = gpd.read_file(path)"
   ]
  },
  {
   "cell_type": "code",
   "execution_count": 6,
   "metadata": {},
   "outputs": [
    {
     "data": {
      "application/vnd.jupyter.widget-view+json": {
       "model_id": "73b73e7613124774ad69e4a5d23ebf30",
       "version_major": 2,
       "version_minor": 0
      },
      "text/plain": [
       "Label(value='')"
      ]
     },
     "metadata": {},
     "output_type": "display_data"
    },
    {
     "data": {
      "application/vnd.jupyter.widget-view+json": {
       "model_id": "17ead0cc3af44bc88273280274cfd4ec",
       "version_major": 2,
       "version_minor": 0
      },
      "text/plain": [
       "Map(center=[11.55734130636384, 8.262466732308093], controls=(ZoomControl(options=['position', 'zoom_in_text', …"
      ]
     },
     "metadata": {},
     "output_type": "display_data"
    }
   ],
   "source": [
    "# Plot training data in an interactive map\n",
    "import matplotlib.pyplot as plt\n",
    "map_shapefile(input_data, attribute=field)\n",
    "#plt.savefig('data/Kofa_reduced.png')"
   ]
  },
  {
   "cell_type": "markdown",
   "metadata": {},
   "source": [
    "Now let's run the `collect_training_data` function.\n",
    "\n",
    "> **Note**: With supervised classification, its common to have many, many labelled geometries in the training data. `collect_training_data` can parallelize across the geometries in order to speed up the extracting of training data. Setting `ncpus>1` will automatically trigger the parallelization. However, its best to set `ncpus=1` to begin with to assist with debugging before triggering the parallelization.  You can also limit the number of polygons to run when checking code. For example, passing in `gdf=input_data[0:5]` will only run the code over the first 5 polygons."
   ]
  },
  {
   "cell_type": "markdown",
   "metadata": {},
   "source": [
    "## Recommended next steps\n",
    "\n",
    "To continue working through the notebooks in this `Scalable Machine Learning on the ODC` workflow, go to the next notebook `2_Extracting_training_data.ipynb`.\n",
    "1. **Pre_processing_data (this notebook)**\n",
    "2. [Extracting_training_data](2_Extracting_training_data.ipynb)\n",
    "3. [Inspect_training_data](3_Inspect_training_data.ipynb)\n",
    "4. [Evaluate_optimize_fit_classifier](4_Evaluate_optimize_fit_classifier.ipynb)\n",
    "5. [Classify_satellite_data](5_Classify_satellite_data.ipynb)\n",
    "6. [Object-based_filtering](6_Object-based_filtering.ipynb)\n"
   ]
  },
  {
   "cell_type": "code",
   "execution_count": null,
   "metadata": {},
   "outputs": [],
   "source": [
    "im = cv2.imread()"
   ]
  }
 ],
 "metadata": {
  "kernelspec": {
   "display_name": "Python 3 (ipykernel)",
   "language": "python",
   "name": "python3"
  },
  "language_info": {
   "codemirror_mode": {
    "name": "ipython",
    "version": 3
   },
   "file_extension": ".py",
   "mimetype": "text/x-python",
   "name": "python",
   "nbconvert_exporter": "python",
   "pygments_lexer": "ipython3",
   "version": "3.9.7"
  },
  "widgets": {
   "application/vnd.jupyter.widget-state+json": {
    "state": {},
    "version_major": 2,
    "version_minor": 0
   }
  }
 },
 "nbformat": 4,
 "nbformat_minor": 4
}
