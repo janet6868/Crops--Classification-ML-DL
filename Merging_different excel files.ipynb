{
 "cells": [
  {
   "cell_type": "markdown",
   "id": "ac74e905",
   "metadata": {},
   "source": [
    "## Read the Libraries"
   ]
  },
  {
   "cell_type": "code",
   "execution_count": 23,
   "id": "a97addb5",
   "metadata": {},
   "outputs": [],
   "source": []
  },
  {
   "cell_type": "markdown",
   "id": "b374aa58",
   "metadata": {},
   "source": [
    "## Read the season dates"
   ]
  },
  {
   "cell_type": "code",
   "execution_count": 24,
   "id": "b8c33003",
   "metadata": {},
   "outputs": [],
   "source": [
    "\n",
    "dates_raw = [\n",
    "datetime.datetime(2015, 5, 8, 0, 0),\n",
    "datetime.datetime(2015, 5, 22, 0, 0),\n",
    "datetime.datetime(2015, 6, 3, 0, 0),\n",
    "datetime.datetime(2015, 6, 29, 0, 0),\n",
    "datetime.datetime(2015, 7, 24, 0, 0),\n",
    "datetime.datetime(2015, 9, 12, 0, 0),\n",
    "datetime.datetime(2015, 9, 25, 0, 0),\n",
    "datetime.datetime(2015, 11, 21, 0, 0)\n",
    "]\n",
    "\n",
    "dates = []\n",
    "\n",
    "for i in range(8):\n",
    "    dt = \"\".join(str(dates_raw[i].date()).split(\"-\"))\n",
    "    dates.append(dt)"
   ]
  },
  {
   "cell_type": "markdown",
   "id": "8bceebf4",
   "metadata": {},
   "source": [
    "## Merge the different csv files for the dates above"
   ]
  },
  {
   "cell_type": "code",
   "execution_count": 283,
   "id": "e81e0650",
   "metadata": {},
   "outputs": [],
   "source": [
    "## This reads all the data files\n",
    "data = []\n",
    "for date in dates:\n",
    "    for t in range(2002):\n",
    "        file_name = pd.read_csv(f\"Plots_data/plot_{t}_{date}.csv\")\n",
    "        data.append(file_name)\n",
    "\n",
    "    #plot_all = pd.concat(data, axis =1, ignore_index=False, sort=True)"
   ]
  },
  {
   "cell_type": "code",
   "execution_count": 29,
   "id": "a7f7fe8c",
   "metadata": {},
   "outputs": [],
   "source": [
    "## This reads all plot files for each date\n",
    "data_20150925 = []\n",
    "for t in range(2002):\n",
    "    file_name = pd.read_csv(f\"Plots_data/Individual_plots_data/plot_{t}_20150925.csv\")\n",
    "    data_20150925.append(file_name)\n",
    "        #return data\n",
    "data_20150925= pd.concat(data_20150925, ignore_index=False, sort=True)\n",
    "data_20150925.to_csv(\"E:\\JANET\\DG_pansharpen_images\\Plots_data\\Combined_plots_data\\Data_20150925\"+\".csv\")"
   ]
  },
  {
   "cell_type": "code",
   "execution_count": 30,
   "id": "e2ca8c60",
   "metadata": {},
   "outputs": [],
   "source": [
    "### Combine all dataframes for all months.\n",
    "Combined_data= []\n",
    "for date in dates:\n",
    "    file_name = pd.read_csv(f\"Plots_data/Combined_plots_data/Data_{date}.csv\")\n",
    "    Combined_data.append(file_name)\n",
    "        #return data\n",
    "Combined_data = pd.concat(Combined_data, ignore_index=False, sort=True,axis =1)\n",
    "Combined_data.to_csv(\"E:\\JANET\\DG_pansharpen_images\\PLots_data\\Combined_plots_data\\Combined_data\"+\".csv\")"
   ]
  },
  {
   "cell_type": "code",
   "execution_count": 31,
   "id": "24e7770d",
   "metadata": {},
   "outputs": [
    {
     "data": {
      "text/plain": [
       "(100100, 104)"
      ]
     },
     "execution_count": 31,
     "metadata": {},
     "output_type": "execute_result"
    }
   ],
   "source": [
    "Combined_data.shape"
   ]
  },
  {
   "cell_type": "code",
   "execution_count": 20,
   "id": "7cd7a607",
   "metadata": {},
   "outputs": [],
   "source": [
    "columns =Combined_data.columns"
   ]
  },
  {
   "cell_type": "code",
   "execution_count": 26,
   "id": "5edd7248",
   "metadata": {},
   "outputs": [],
   "source": [
    "data = pd.read_csv(\"E:\\JANET\\DG_pansharpen_images\\Plots_data\\Combined_plots_data\\Data_20150629.csv\")"
   ]
  },
  {
   "cell_type": "code",
   "execution_count": 28,
   "id": "dfed5571",
   "metadata": {},
   "outputs": [
    {
     "data": {
      "text/plain": [
       "(100100, 13)"
      ]
     },
     "execution_count": 28,
     "metadata": {},
     "output_type": "execute_result"
    }
   ],
   "source": [
    "data.shape"
   ]
  },
  {
   "cell_type": "code",
   "execution_count": null,
   "id": "a1ee7fa9",
   "metadata": {},
   "outputs": [],
   "source": []
  }
 ],
 "metadata": {
  "kernelspec": {
   "display_name": "Python 3 (ipykernel)",
   "language": "python",
   "name": "python3"
  },
  "language_info": {
   "codemirror_mode": {
    "name": "ipython",
    "version": 3
   },
   "file_extension": ".py",
   "mimetype": "text/x-python",
   "name": "python",
   "nbconvert_exporter": "python",
   "pygments_lexer": "ipython3",
   "version": "3.9.7"
  }
 },
 "nbformat": 4,
 "nbformat_minor": 5
}
