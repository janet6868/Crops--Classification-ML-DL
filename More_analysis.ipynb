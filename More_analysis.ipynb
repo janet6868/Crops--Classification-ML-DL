{
 "cells": [
  {
   "cell_type": "markdown",
   "metadata": {},
   "source": [
    "# Object-based filtering of pixel classifications <img align=\"right\" src=\"../../Supplementary_data/DE_Africa_Logo_Stacked_RGB_small.jpg\">\n"
   ]
  },
  {
   "cell_type": "raw",
   "metadata": {
    "raw_mimetype": "text/restructuredtext"
   },
   "source": [
    "**Keywords** :index:`data methods; image segmentation`, :index:`data methods; GEOBIA`"
   ]
  },
  {
   "cell_type": "markdown",
   "metadata": {},
   "source": [
    "***\n",
    "## Getting started\n",
    "\n",
    "To run this analysis, run all the cells in the notebook, starting with the \"Load packages\" cell. "
   ]
  },
  {
   "cell_type": "markdown",
   "metadata": {},
   "source": [
    "### Load Packages"
   ]
  },
  {
   "cell_type": "code",
   "execution_count": 1,
   "metadata": {},
   "outputs": [],
   "source": [
    "import scipy\n",
    "import xarray as xr\n",
    "import numpy as np\n",
    "import matplotlib.pyplot as plt\n",
    "#from datacube.utils.cog import write_cog\n",
    "from scipy.ndimage.measurements import _stats\n",
    "from skimage.segmentation import quickshift\n",
    "import pandas as pd\n",
    "import rasterio\n",
    "from affine import Affine\n",
    "from pyproj import Proj, transform\n",
    "# Required libraries\n",
    "from pathlib import Path\n",
    "from io import BytesIO\n",
    "from glob import glob\n",
    "\n",
    "from tqdm.notebook import tqdm\n",
    "import tifffile as tiff\n",
    "import matplotlib.pyplot as plt\n",
    "import numpy as np\n",
    "from skimage import exposure\n",
    "\n"
   ]
  },
  {
   "cell_type": "code",
   "execution_count": 2,
   "metadata": {},
   "outputs": [],
   "source": [
    "# Required libraries\n",
    "from pathlib import Path\n",
    "from io import BytesIO\n",
    "from glob import glob\n",
    "\n",
    "from tqdm.notebook import tqdm\n",
    "import tifffile as tiff\n",
    "import matplotlib.pyplot as plt\n",
    "import numpy as np\n",
    "from skimage import exposure"
   ]
  },
  {
   "cell_type": "code",
   "execution_count": 65,
   "metadata": {},
   "outputs": [],
   "source": [
    "# The path to the source collection that was extracted from the download archive\n",
    "collection_path = Path('E:\\JANET\\DG_pansharpen_images\\worldview3_pansharp_2015')"
   ]
  },
  {
   "cell_type": "code",
   "execution_count": 4,
   "metadata": {},
   "outputs": [],
   "source": [
    "import datetime\n",
    "#the obeserved dates in the dataset\n",
    "dates_raw = [\n",
    "datetime.datetime(2015, 5, 8, 0, 0),\n",
    "datetime.datetime(2015, 5, 22, 0, 0),\n",
    "datetime.datetime(2015, 6, 3, 0, 0),\n",
    "datetime.datetime(2015, 6, 29, 0, 0),\n",
    "datetime.datetime(2015, 7, 24, 0, 0),\n",
    "datetime.datetime(2015, 9, 10, 0, 0),\n",
    "datetime.datetime(2015, 9, 12, 0, 0),\n",
    "datetime.datetime(2015, 9, 13, 0, 0),\n",
    "datetime.datetime(2015, 9, 25, 0, 0),\n",
    "datetime.datetime(2015, 11, 21, 0, 0)\n",
    "]\n",
    "\n",
    "dates = []\n",
    "\n",
    "for i in range(10):\n",
    "    dt = \"\".join(str(dates_raw[i].date()).split(\"-\"))\n",
    "    dates.append(dt)"
   ]
  },
  {
   "cell_type": "code",
   "execution_count": 5,
   "metadata": {},
   "outputs": [],
   "source": [
    "#Generate the bands pixels from the tifs\n",
    "tif1 = f'/Janet/DG_pansharpen_images/worldview3_pansharp_2015/worldview3_tile_01_20150508.tif'\n",
    "tif2 = f'/Janet/DG_pansharpen_images/worldview3_pansharp_2015/worldview3_tile_01_20150522.tif'\n",
    "\n",
    "\n",
    "tif4 = f'/Janet/DG_pansharpen_images/worldview3_pansharp_2015/worldview3_tile_01_20150603.tif'\n",
    "tif5 = f'/Janet/DG_pansharpen_images/worldview3_pansharp_2015/worldview3_tile_02_20150603.tif'\n",
    "tif6 = f'/Janet/DG_pansharpen_images/worldview3_pansharp_2015/worldview3_tile_03_20150603.tif'\n",
    "tif7 = f'/Janet/DG_pansharpen_images/worldview3_pansharp_2015/worldview3_tile_04_20150603.tif'\n",
    "\n",
    "tif8 = f'/Janet/DG_pansharpen_images/worldview3_pansharp_2015/worldview3_tile_01_20150629.tif'\n",
    "tif9 = f'/Janet/DG_pansharpen_images/worldview3_pansharp_2015/worldview3_tile_02_20150629.tif'\n",
    "tif10 = f'/Janet/DG_pansharpen_images/worldview3_pansharp_2015/worldview3_tile_03_20150629.tif'\n",
    "\n",
    "tif11 = f'/Janet/DG_pansharpen_images/worldview3_pansharp_2015/worldview3_tile_01_20150724.tif'\n",
    "tif12 = f'/Janet/DG_pansharpen_images/worldview3_pansharp_2015/worldview3_tile_02_20150724.tif'\n",
    "tif13= f'/Janet/DG_pansharpen_images/worldview3_pansharp_2015/worldview3_tile_03_20150724.tif'\n",
    "tif14 = f'/Janet/DG_pansharpen_images/worldview3_pansharp_2015/worldview3_tile_04_20150724.tif'\n",
    "\n",
    "tif15 = f'/Janet/DG_pansharpen_images/worldview3_pansharp_2015/worldview3_tile_01_20150910.tif'\n",
    "tif16 = f'/Janet/DG_pansharpen_images/worldview3_pansharp_2015/worldview3_tile_01_20150912.tif'\n",
    "tif17 = f'/Janet/DG_pansharpen_images/worldview3_pansharp_2015/worldview3_tile_01_20150925.tif'\n",
    "tif18 = f'/Janet/DG_pansharpen_images/worldview3_pansharp_2015/worldview3_tile_01_20151121.tif'\n",
    "\n",
    "\n",
    "\n",
    "#im1 = xr.open_rasterio(tif1).squeeze().values\n",
    "#im1= im1.reshape(-1,4)\n",
    "#worldview3_tile_01_20150508 = pd.DataFrame( im1)\n",
    "\n",
    "im2 = xr.open_rasterio(tif2).squeeze().values\n",
    "im2= im2.reshape(-1,4)\n",
    "worldview3_tile_01_20150522 = pd.DataFrame( im2)\n",
    "#im3 = xr.open_rasterio(tif3).squeeze().values\n",
    "#im3= im3.reshape(-1,4)\n",
    "#df_generated = pd.DataFrame( im)\n",
    "\n"
   ]
  },
  {
   "cell_type": "code",
   "execution_count": 6,
   "metadata": {},
   "outputs": [],
   "source": [
    "im4 = xr.open_rasterio(tif4).squeeze().values\n",
    "im4= im4.reshape(-1,4)\n",
    "worldview3_tile_01_20150603 = pd.DataFrame(im4)\n",
    "\n",
    "#im5 = xr.open_rasterio(tif5).squeeze().values\n",
    "#im5= im5.reshape(-1,4)\n",
    "#worldview3_tile_02_20150603 = pd.DataFrame(im5)\n",
    "\n",
    "im6 = xr.open_rasterio(tif6).squeeze().values\n",
    "im6= im6.reshape(-1,4)\n",
    "worldview3_tile_03_20150603 = pd.DataFrame(im6)\n",
    "\n",
    "im7 = xr.open_rasterio(tif7).squeeze().values\n",
    "im7= im7.reshape(-1,4)\n",
    "worldview3_tile_04_20150603 = pd.DataFrame(im7)\n",
    "\n",
    "im8 = xr.open_rasterio(tif8).squeeze().values\n",
    "im8= im8.reshape(-1,4)\n",
    "worldview3_tile_01_20150629 = pd.DataFrame(im8)\n",
    "\n",
    "#im9 = xr.open_rasterio(tif9).squeeze().values\n",
    "#im9= im9.reshape(-1,4)\n",
    "#worldview3_tile_02_20150629 = pd.DataFrame(im9)\n",
    "\n",
    "im10 = xr.open_rasterio(tif10).squeeze().values\n",
    "im10= im10.reshape(-1,4)\n",
    "worldview3_tile_03_20150629 = pd.DataFrame( im10)\n"
   ]
  },
  {
   "cell_type": "code",
   "execution_count": 7,
   "metadata": {},
   "outputs": [],
   "source": [
    "im11 = xr.open_rasterio(tif11).squeeze().values\n",
    "im11= im11.reshape(-1,4)\n",
    "worldview3_tile_01_20150724 = pd.DataFrame( im11)\n",
    "\n",
    "im12 = xr.open_rasterio(tif12).squeeze().values\n",
    "im12= im12.reshape(-1,4)\n",
    "worldview3_tile_02_20150724 = pd.DataFrame(im12)\n",
    "\n",
    "im13 = xr.open_rasterio(tif13).squeeze().values\n",
    "im13= im13.reshape(-1,4)\n",
    "worldview3_tile_03_20150724 = pd.DataFrame(im13)\n",
    "\n",
    "im14 = xr.open_rasterio(tif14).squeeze().values\n",
    "im14= im14.reshape(-1,4)\n",
    "worldview3_tile_04_20150724 = pd.DataFrame(im14)\n",
    "\n",
    "im15 = xr.open_rasterio(tif15).squeeze().values\n",
    "im15= im15.reshape(-1,4)\n",
    "worldview3_tile_01_20150910 = pd.DataFrame(im15)\n",
    "\n",
    "\n",
    "im16 = xr.open_rasterio(tif16).squeeze().values\n",
    "im16= im16.reshape(-1,4)\n",
    "worldview3_tile_01_20150912 = pd.DataFrame(im16)\n",
    "\n",
    "im17 = xr.open_rasterio(tif17).squeeze().values\n",
    "im17= im17.reshape(-1,4)\n",
    "worldview3_tile_01_20150925 = pd.DataFrame(im17)\n",
    "\n",
    "im18 = xr.open_rasterio(tif18).squeeze().values\n",
    "im18= im18.reshape(-1,4)\n",
    "worldview3_tile_01_20151121 = pd.DataFrame(im18)\n"
   ]
  },
  {
   "cell_type": "raw",
   "metadata": {},
   "source": [
    "worldview3_tile_01_20150508\n",
    "worldview3_tile_01_20150522\n",
    "worldview3_tile_01_20150603\n",
    "worldview3_tile_02_20150603\n",
    "worldview3_tile_03_20150603\n",
    "worldview3_tile_04_20150603\n",
    "worldview3_tile_01_20150629\n",
    "worldview3_tile_02_20150629\n",
    "worldview3_tile_03_20150629\n",
    "worldview3_tile_01_20150724\n",
    "worldview3_tile_02_20150724\n",
    "worldview3_tile_03_20150724\n",
    "worldview3_tile_04_20150724\n",
    "worldview3_tile_01_20150910\n",
    "worldview3_tile_01_20150912\n",
    "worldview3_tile_01_20150925\n",
    "worldview3_tile_01_20151121"
   ]
  },
  {
   "cell_type": "code",
   "execution_count": 23,
   "metadata": {},
   "outputs": [
    {
     "data": {
      "text/plain": [
       "(268435456, 4)"
      ]
     },
     "execution_count": 23,
     "metadata": {},
     "output_type": "execute_result"
    }
   ],
   "source": [
    "worldview3_tile_01_20150508.shape,\n",
    "worldview3_tile_01_20150522.shape,\n",
    "worldview3_tile_01_20150603.shape,\n",
    "worldview3_tile_02_20150603.shape,\n",
    "worldview3_tile_03_20150603.shape,\n",
    "worldview3_tile_04_20150603.shape,\n",
    "worldview3_tile_01_20150629.shape,\n",
    "worldview3_tile_02_20150629.shape,\n",
    "worldview3_tile_03_20150629.shape,\n",
    "worldview3_tile_01_20150724.shape,\n",
    "worldview3_tile_02_20150724.shape,\n",
    "worldview3_tile_03_20150724.shape,\n",
    "worldview3_tile_04_20150724.shape,\n",
    "worldview3_tile_01_20150910.shape,\n",
    "worldview3_tile_01_20150912.shape,\n",
    "worldview3_tile_01_20150925.shape,\n",
    "worldview3_tile_01_20151121.shape"
   ]
  },
  {
   "cell_type": "code",
   "execution_count": 29,
   "metadata": {},
   "outputs": [
    {
     "data": {
      "text/plain": [
       "(268435456, 4)"
      ]
     },
     "execution_count": 29,
     "metadata": {},
     "output_type": "execute_result"
    }
   ],
   "source": [
    "worldview3_tile_03_20150603.shape"
   ]
  },
  {
   "cell_type": "markdown",
   "metadata": {},
   "source": [
    "### Extracting coordinates from each tif"
   ]
  },
  {
   "cell_type": "code",
   "execution_count": 17,
   "metadata": {},
   "outputs": [
    {
     "data": {
      "text/plain": [
       "'E:\\\\JANET\\\\DG_pansharpen_images'"
      ]
     },
     "execution_count": 17,
     "metadata": {},
     "output_type": "execute_result"
    }
   ],
   "source": [
    "pwd"
   ]
  },
  {
   "cell_type": "markdown",
   "metadata": {},
   "source": [
    "tif8 = f'/Janet/DG_pansharpen_images/worldview3_pansharp_2015/worldview3_tile_01_20150629.tif'\n",
    "with rasterio.open(tif8) as r:\n",
    "    T0 = r.transform  # upper-left pixel corner affine transform\n",
    "    p1 = Proj(r.crs)\n",
    "    A = r.read()  # pixel values"
   ]
  },
  {
   "cell_type": "raw",
   "metadata": {},
   "source": [
    "\n",
    "# Extract the coordinates; lon and lats for the respective bands\n",
    "lats = []\n",
    "longs = []\n",
    "\n",
    "with rasterio.open(tif8) as r:\n",
    "    T0 = r.transform  # upper-left pixel corner affine transform\n",
    "    p1 = Proj(r.crs)\n",
    "    A = r.read()  # pixel values\n",
    "\n",
    "# All rows and columns\n",
    "cols, rows = np.meshgrid(np.arange(A.shape[2]), np.arange(A.shape[1]))\n",
    "\n",
    "# Get affine transform for pixel centres\n",
    "T1 = T0 * Affine.translation(0.5, 0.5)\n",
    "# Function to convert pixel row/column index (from 0) to easting/northing at centre\n",
    "rc2en = lambda r, c: (c, r) * T1\n",
    "\n",
    "# All eastings and northings (there is probably a faster way to do this)\n",
    "eastings, northings = np.vectorize(rc2en, otypes=[float, float])(rows, cols)\n",
    "\n",
    "# Project all longitudes, latitudes\n",
    "p2 = Proj(proj='latlong',datum='WGS84')\n",
    "longs, lats = transform(p1, p2, eastings, northings)\n",
    " \n",
    "#Get the coords for all tiles tifs\n",
    "#longs = np.concatenate((longs1, longs2,longs3,longs4,longs5,longs6))\n",
    "#lats = np.concatenate((lats1, lats2,lats3,lats4,lats5,lats6))\n",
    "\n",
    " # reshape the coordinates\n",
    "longs= longs.reshape(-1,1)\n",
    "lats= lats.reshape(-1,1)\n",
    "\n",
    "# create dataframes to concanate with the main dataframe\n",
    "lon = pd.DataFrame(longs,columns = ['lon'])\n",
    "lat = pd.DataFrame(lats,columns = ['lat'])\n",
    "\n",
    "# concatenating coordinates and bands for the 6 tiles along columns\n",
    "data  = pd.concat([worldview3_tile_03_20150629 , lon, lat], axis=1)\n",
    "#save the dataframes as a csv file\n",
    "data.to_csv(\"worldview3_tile_03_20150629.csv\", index = False)"
   ]
  },
  {
   "cell_type": "code",
   "execution_count": 67,
   "metadata": {},
   "outputs": [],
   "source": [
    "im = xr.open_rasterio(\"worldview3_pansharp_2015/clip_worldview3_tile_01_20150925.tif\").squeeze().values\n",
    "#im= im.reshape(-1,4)\n",
    "#masked = pd.DataFrame(im)"
   ]
  },
  {
   "cell_type": "code",
   "execution_count": null,
   "metadata": {},
   "outputs": [],
   "source": []
  },
  {
   "cell_type": "code",
   "execution_count": 68,
   "metadata": {},
   "outputs": [
    {
     "data": {
      "text/plain": [
       "(4, 2295, 3061)"
      ]
     },
     "execution_count": 68,
     "metadata": {},
     "output_type": "execute_result"
    }
   ],
   "source": [
    "im.shape"
   ]
  },
  {
   "cell_type": "code",
   "execution_count": 69,
   "metadata": {},
   "outputs": [],
   "source": [
    "im= im.reshape(-1,4)\n",
    "masked = pd.DataFrame(im)"
   ]
  },
  {
   "cell_type": "code",
   "execution_count": 75,
   "metadata": {},
   "outputs": [],
   "source": [
    "#masked.head(40)"
   ]
  },
  {
   "cell_type": "code",
   "execution_count": 48,
   "metadata": {},
   "outputs": [
    {
     "name": "stderr",
     "output_type": "stream",
     "text": [
      "E:\\Anaconda\\envs\\geo_py37\\lib\\site-packages\\ipykernel_launcher.py:17: DeprecationWarning: Right multiplication will be prohibited in version 3.0\n",
      "E:\\Anaconda\\envs\\geo_py37\\lib\\site-packages\\ipykernel_launcher.py:24: DeprecationWarning: This function is deprecated. See: https://pyproj4.github.io/pyproj/stable/gotchas.html#upgrading-to-pyproj-2-from-pyproj-1\n"
     ]
    }
   ],
   "source": [
    "#tif9 = f'/Janet/DG_pansharpen_images/worldview3_pansharp_2015/worldview3_tile_04_20150603.tif'\n",
    "# Extract the coordinates; lon and lats for the respective bands\n",
    "lats = []\n",
    "longs = []\n",
    "\n",
    "with rasterio.open('masked.tif') as r:\n",
    "    T0 = r.transform  # upper-left pixel corner affine transform\n",
    "    p1 = Proj(r.crs)\n",
    "    A = r.read()  # pixel values\n",
    "\n",
    "# All rows and columns\n",
    "cols, rows = np.meshgrid(np.arange(A.shape[2]), np.arange(A.shape[1]))\n",
    "\n",
    "# Get affine transform for pixel centres\n",
    "T1 = T0 * Affine.translation(0.5, 0.5)\n",
    "# Function to convert pixel row/column index (from 0) to easting/northing at centre\n",
    "rc2en = lambda r, c: (c, r) * T1\n",
    "\n",
    "# All eastings and northings (there is probably a faster way to do this)\n",
    "eastings, northings = np.vectorize(rc2en, otypes=[float, float])(rows, cols)\n",
    "\n",
    "# Project all longitudes, latitudes\n",
    "p2 = Proj(proj='latlong',datum='WGS84')\n",
    "longs, lats = transform(p1, p2, eastings, northings)\n",
    " \n",
    "#Get the coords for all tiles tifs\n",
    "#longs = np.concatenate((longs1, longs2,longs3,longs4,longs5,longs6))\n",
    "#lats = np.concatenate((lats1, lats2,lats3,lats4,lats5,lats6))\n",
    "\n",
    " # reshape the coordinates\n",
    "longs= longs.reshape(-1,1)\n",
    "lats= lats.reshape(-1,1)\n",
    "\n",
    "# create dataframes to concanate with the main dataframe\n",
    "lon = pd.DataFrame(longs,columns = ['lon'])\n",
    "lat = pd.DataFrame(lats,columns = ['lat'])\n",
    "\n",
    "# concatenating coordinates and bands for the 6 tiles along columns\n",
    "data  = pd.concat([masked , lon, lat], axis=1)\n",
    "#save the dataframes as a csv file\n",
    "data.to_csv(\"masked.csv\", index = False)"
   ]
  },
  {
   "cell_type": "code",
   "execution_count": 38,
   "metadata": {},
   "outputs": [],
   "source": [
    "def masked_raster(input_file, raster_file):\n",
    "    # Create a masked version of the input raster where pixels falling within one of the fields are set to `1` and pixels outside the fields are set to `0`\n",
    "    \n",
    "   \n",
    "    # the polygon GeoJSON geometry\n",
    "    geoms = [{'type': 'Polygon', 'coordinates': [[[8.221797, 11.600596], [8.221919, 11.556149], [8.266995, 11.556266], [8.266879, 11.600714], [8.221797, 11.600596]]]}]\n",
    "    # load the raster, mask it by the polygon and crop it\n",
    "    with rasterio.open(tif1) as src:\n",
    "        out_img, out_transform = mask(src, geoms, invert=True)\n",
    "    out_meta = src.meta.copy()\n",
    "\n",
    "    # save the resulting raster  \n",
    "    out_meta.update({\"driver\": \"GTiff\",\n",
    "    \"height\": out_image.shape[1],\n",
    "    \"width\": out_image.shape[2],\n",
    "    \"transform\": out_transform})\n",
    "\n",
    "    \n",
    "    return out_img\n",
    "\n",
    "def reproject_raster(raster_file, dst_crs):\n",
    "    # Reproject the input raster to the provided CRS\n",
    "    \n",
    "    with rasterio.open(\"masked.tif\", \"w\", **out_meta) as dst:\n",
    "        dst.write(out_image)\n",
    "\n",
    "\n",
    "    dst = src\n",
    "    \n",
    "    return dst"
   ]
  },
  {
   "cell_type": "markdown",
   "metadata": {},
   "source": [
    "assert masked_raster('kofa_reduced.geojson', tif1)[0].sum()> 0, \"Sorry wrong answer\"\n",
    "assert str(reproject_raster(tif1, 'EPSG:4326').crs) == 'EPSG:4326', \"Sorry wrong answer\"\n",
    "print(\"Congratulations, all is working just fine !!!\")"
   ]
  },
  {
   "cell_type": "code",
   "execution_count": 13,
   "metadata": {},
   "outputs": [],
   "source": [
    "import fiona\n",
    "\n",
    "with fiona.open(\"kofa_reduced.geojson\", \"r\") as vectorfile:\n",
    "    shapes = [feature[\"geometry\"] for feature in vectorfile]"
   ]
  },
  {
   "cell_type": "code",
   "execution_count": 20,
   "metadata": {},
   "outputs": [
    {
     "name": "stderr",
     "output_type": "stream",
     "text": [
      "E:\\Anaconda\\envs\\geo_py37\\lib\\site-packages\\rasterio\\mask.py:92: UserWarning: shapes are outside bounds of raster. Are they in different coordinate reference systems?\n",
      "  warnings.warn('shapes are outside bounds of raster. '\n"
     ]
    }
   ],
   "source": [
    "from rasterio.mask import mask\n",
    "data = rasterio.open(tif1, 'r')\n",
    "out_image, out_transform = mask(dataset=data, shapes=shapes, invert=True)"
   ]
  },
  {
   "cell_type": "code",
   "execution_count": 26,
   "metadata": {},
   "outputs": [],
   "source": [
    "out_meta = data.meta.copy()"
   ]
  },
  {
   "cell_type": "code",
   "execution_count": 28,
   "metadata": {},
   "outputs": [],
   "source": [
    "data.close()\n",
    "out_meta.update({\"driver\": \"GTiff\",\n",
    "          \"height\": out_image.shape[1],\n",
    "          \"width\": out_image.shape[2],\n",
    "          \"transform\": out_transform})"
   ]
  },
  {
   "cell_type": "code",
   "execution_count": 29,
   "metadata": {},
   "outputs": [],
   "source": [
    "with rasterio.open(\"clipped.tif\", \"w\", **out_meta) as dest:\n",
    "    dest.write(out_image)"
   ]
  },
  {
   "cell_type": "code",
   "execution_count": 42,
   "metadata": {},
   "outputs": [
    {
     "name": "stdout",
     "output_type": "stream",
     "text": [
      "{'driver': 'GTiff', 'dtype': 'uint16', 'nodata': None, 'width': 16384, 'height': 16384, 'count': 4, 'crs': CRS.from_epsg(32632), 'transform': Affine(0.5, 0.0, 415160.0,\n",
      "       0.0, -0.5, 1282506.0), 'tiled': False, 'interleave': 'pixel'}\n"
     ]
    },
    {
     "data": {
      "image/png": "[encoded data removed]",
      "text/plain": [
       "<Figure size 432x288 with 1 Axes>"
      ]
     },
     "metadata": {
      "needs_background": "light"
     },
     "output_type": "display_data"
    }
   ],
   "source": [
    "from rasterio.plot import show\n",
    "cmap = plt.cm.viridis\n",
    "# quickly load and check\n",
    "with rasterio.open('masked.tif', 'r') as data3:\n",
    "    print(data3.profile)\n",
    "    show(data3, cmap=cmap)"
   ]
  },
  {
   "cell_type": "code",
   "execution_count": 33,
   "metadata": {},
   "outputs": [
    {
     "name": "stdout",
     "output_type": "stream",
     "text": [
      "{'driver': 'GTiff', 'dtype': 'uint16', 'nodata': None, 'width': 16384, 'height': 16384, 'count': 4, 'crs': CRS.from_epsg(32632), 'transform': Affine(0.5, 0.0, 415160.0,\n",
      "       0.0, -0.5, 1282506.0), 'blockxsize': 128, 'blockysize': 128, 'tiled': True, 'compress': 'lzw', 'interleave': 'pixel'}\n"
     ]
    },
    {
     "data": {
      "image/png": "[encoded data removed]",
      "text/plain": [
       "<Figure size 432x288 with 1 Axes>"
      ]
     },
     "metadata": {
      "needs_background": "light"
     },
     "output_type": "display_data"
    }
   ],
   "source": [
    "from rasterio.plot import show\n",
    "cmap = plt.cm.viridis\n",
    "# quickly load and check\n",
    "with rasterio.open(tif1, 'r') as data2:\n",
    "    print(data2.profile)\n",
    "    show(data2, cmap=cmap)"
   ]
  },
  {
   "cell_type": "code",
   "execution_count": 19,
   "metadata": {},
   "outputs": [],
   "source": [
    "data.columns = ['20150508_B1',\"20150508_B2\",\"20150508_B3\",\"20150508_B4\",\"lon\",\"lat\"]"
   ]
  },
  {
   "cell_type": "code",
   "execution_count": 50,
   "metadata": {},
   "outputs": [],
   "source": [
    "import geojson as gj\n",
    "from osgeo import ogr, osr, gdal\n",
    "\n",
    "# Enable GDAL/OGR exceptions\n",
    "gdal.UseExceptions()\n",
    "\n",
    "\n",
    "# GDAL & OGR memory drivers\n",
    "GDAL_MEMORY_DRIVER = gdal.GetDriverByName('MEM')\n",
    "OGR_MEMORY_DRIVER = ogr.GetDriverByName('Memory')\n",
    "\n",
    "\n",
    "def cut_by_geojson(input_file, output_file, shape_geojson):\n",
    "\n",
    "    # Get coords for bounding box\n",
    "    x, y = zip(*gj.utils.coords(gj.loads(shape_geojson)))\n",
    "    min_x, max_x, min_y, max_y = min(x), max(x), min(y), max(y)\n",
    "\n",
    "    # Open original data as read only\n",
    "    dataset = gdal.Open(input_file, gdal.GA_ReadOnly)\n",
    "\n",
    "    bands = dataset.RasterCount\n",
    "\n",
    "    # Getting georeference info\n",
    "    transform = dataset.GetGeoTransform()\n",
    "    projection = dataset.GetProjection()\n",
    "    xOrigin = transform[0]\n",
    "    yOrigin = transform[3]\n",
    "    pixelWidth = transform[1]\n",
    "    pixelHeight = -transform[5]\n",
    "\n",
    "    # Getting spatial reference of input raster\n",
    "    srs = osr.SpatialReference()\n",
    "    srs.ImportFromWkt(projection)\n",
    "\n",
    "    # WGS84 projection reference\n",
    "    OSR_WGS84_REF = osr.SpatialReference()\n",
    "    OSR_WGS84_REF.ImportFromEPSG(4326)\n",
    "\n",
    "    # OSR transformation\n",
    "    wgs84_to_image_trasformation = osr.CoordinateTransformation(OSR_WGS84_REF,\n",
    "                                                                srs)\n",
    "    XYmin = wgs84_to_image_trasformation.TransformPoint(min_x, max_y)\n",
    "    XYmax = wgs84_to_image_trasformation.TransformPoint(max_x, min_y)\n",
    "\n",
    "    # Computing Point1(i1,j1), Point2(i2,j2)\n",
    "    i1 = int((XYmin[0] - xOrigin) / pixelWidth)\n",
    "    j1 = int((yOrigin - XYmin[1]) / pixelHeight)\n",
    "    i2 = int((XYmax[0] - xOrigin) / pixelWidth)\n",
    "    j2 = int((yOrigin - XYmax[1]) / pixelHeight)\n",
    "    new_cols = i2 - i1 + 1\n",
    "    new_rows = j2 - j1 + 1\n",
    "\n",
    "    # New upper-left X,Y values\n",
    "    new_x = xOrigin + i1 * pixelWidth\n",
    "    new_y = yOrigin - j1 * pixelHeight\n",
    "    new_transform = (new_x, transform[1], transform[2], new_y, transform[4],\n",
    "                     transform[5])\n",
    "\n",
    "    wkt_geom = ogr.CreateGeometryFromJson(str(shape_geojson))\n",
    "    wkt_geom.Transform(wgs84_to_image_trasformation)\n",
    "\n",
    "    target_ds = GDAL_MEMORY_DRIVER.Create('', new_cols, new_rows, 1,\n",
    "                                          gdal.GDT_Byte)\n",
    "    target_ds.SetGeoTransform(new_transform)\n",
    "    target_ds.SetProjection(projection)\n",
    "\n",
    "    # Create a memory layer to rasterize from.\n",
    "    ogr_dataset = OGR_MEMORY_DRIVER.CreateDataSource('shapemask')\n",
    "    ogr_layer = ogr_dataset.CreateLayer('shapemask', srs=srs)\n",
    "    ogr_feature = ogr.Feature(ogr_layer.GetLayerDefn())\n",
    "    ogr_feature.SetGeometryDirectly(ogr.Geometry(wkt=wkt_geom.ExportToWkt()))\n",
    "    ogr_layer.CreateFeature(ogr_feature)\n",
    "\n",
    "    gdal.RasterizeLayer(target_ds, [1], ogr_layer, burn_values=[1],\n",
    "                        options=[\"ALL_TOUCHED=TRUE\"])\n",
    "\n",
    "    # Create output file\n",
    "    driver = gdal.GetDriverByName('GTiff')\n",
    "    outds = driver.Create(output_file, new_cols, new_rows, bands,\n",
    "                          gdal.GDT_Float32)\n",
    "\n",
    "    # Read in bands and store all the data in bandList\n",
    "    mask_array = target_ds.GetRasterBand(1).ReadAsArray()\n",
    "    band_list = []\n",
    "\n",
    "    for i in range(bands):\n",
    "        band_list.append(dataset.GetRasterBand(i + 1).ReadAsArray(i1, j1,\n",
    "                         new_cols, new_rows))\n",
    "\n",
    "    for j in range(bands):\n",
    "        data = np.where(mask_array == 1, band_list[j], mask_array)\n",
    "        outds.GetRasterBand(j + 1).SetNoDataValue(0)\n",
    "        outds.GetRasterBand(j + 1).WriteArray(data)\n",
    "\n",
    "    outds.SetProjection(projection)\n",
    "    outds.SetGeoTransform(new_transform)\n",
    "\n",
    "    target_ds = None\n",
    "    dataset = None\n",
    "    outds = None\n",
    "    ogr_dataset = None"
   ]
  },
  {
   "cell_type": "code",
   "execution_count": 57,
   "metadata": {},
   "outputs": [
    {
     "data": {
      "text/plain": [
       "'E:\\\\JANET\\\\DG_pansharpen_images'"
      ]
     },
     "execution_count": 57,
     "metadata": {},
     "output_type": "execute_result"
    }
   ],
   "source": [
    "pwd"
   ]
  },
  {
   "cell_type": "code",
   "execution_count": 53,
   "metadata": {},
   "outputs": [],
   "source": [
    "import rioxarray\n",
    "import geopandas as gpd\n",
    "import matplotlib.pyplot as plt\n",
    "import pandas as pd"
   ]
  },
  {
   "cell_type": "code",
   "execution_count": 58,
   "metadata": {},
   "outputs": [
    {
     "data": {
      "text/html": [
       "<div><svg style=\"position: absolute; width: 0; height: 0; overflow: hidden\">\n",
       "<defs>\n",
       "<symbol id=\"icon-database\" viewBox=\"0 0 32 32\">\n",
       "<path d=\"M16 0c-8.837 0-16 2.239-16 5v4c0 2.761 7.163 5 16 5s16-2.239 16-5v-4c0-2.761-7.163-5-16-5z\"></path>\n",
       "<path d=\"M16 17c-8.837 0-16-2.239-16-5v6c0 2.761 7.163 5 16 5s16-2.239 16-5v-6c0 2.761-7.163 5-16 5z\"></path>\n",
       "<path d=\"M16 26c-8.837 0-16-2.239-16-5v6c0 2.761 7.163 5 16 5s16-2.239 16-5v-6c0 2.761-7.163 5-16 5z\"></path>\n",
       "</symbol>\n",
       "<symbol id=\"icon-file-text2\" viewBox=\"0 0 32 32\">\n",
       "<path d=\"M28.681 7.159c-0.694-0.947-1.662-2.053-2.724-3.116s-2.169-2.030-3.116-2.724c-1.612-1.182-2.393-1.319-2.841-1.319h-15.5c-1.378 0-2.5 1.121-2.5 2.5v27c0 1.378 1.122 2.5 2.5 2.5h23c1.378 0 2.5-1.122 2.5-2.5v-19.5c0-0.448-0.137-1.23-1.319-2.841zM24.543 5.457c0.959 0.959 1.712 1.825 2.268 2.543h-4.811v-4.811c0.718 0.556 1.584 1.309 2.543 2.268zM28 29.5c0 0.271-0.229 0.5-0.5 0.5h-23c-0.271 0-0.5-0.229-0.5-0.5v-27c0-0.271 0.229-0.5 0.5-0.5 0 0 15.499-0 15.5 0v7c0 0.552 0.448 1 1 1h7v19.5z\"></path>\n",
       "<path d=\"M23 26h-14c-0.552 0-1-0.448-1-1s0.448-1 1-1h14c0.552 0 1 0.448 1 1s-0.448 1-1 1z\"></path>\n",
       "<path d=\"M23 22h-14c-0.552 0-1-0.448-1-1s0.448-1 1-1h14c0.552 0 1 0.448 1 1s-0.448 1-1 1z\"></path>\n",
       "<path d=\"M23 18h-14c-0.552 0-1-0.448-1-1s0.448-1 1-1h14c0.552 0 1 0.448 1 1s-0.448 1-1 1z\"></path>\n",
       "</symbol>\n",
       "</defs>\n",
       "</svg>\n",
       "<style>/* CSS stylesheet for displaying xarray objects in jupyterlab.\n",
       " *\n",
       " */\n",
       "\n",
       ":root {\n",
       "  --xr-font-color0: var(--jp-content-font-color0, rgba(0, 0, 0, 1));\n",
       "  --xr-font-color2: var(--jp-content-font-color2, rgba(0, 0, 0, 0.54));\n",
       "  --xr-font-color3: var(--jp-content-font-color3, rgba(0, 0, 0, 0.38));\n",
       "  --xr-border-color: var(--jp-border-color2, #e0e0e0);\n",
       "  --xr-disabled-color: var(--jp-layout-color3, #bdbdbd);\n",
       "  --xr-background-color: var(--jp-layout-color0, white);\n",
       "  --xr-background-color-row-even: var(--jp-layout-color1, white);\n",
       "  --xr-background-color-row-odd: var(--jp-layout-color2, #eeeeee);\n",
       "}\n",
       "\n",
       "html[theme=dark],\n",
       "body.vscode-dark {\n",
       "  --xr-font-color0: rgba(255, 255, 255, 1);\n",
       "  --xr-font-color2: rgba(255, 255, 255, 0.54);\n",
       "  --xr-font-color3: rgba(255, 255, 255, 0.38);\n",
       "  --xr-border-color: #1F1F1F;\n",
       "  --xr-disabled-color: #515151;\n",
       "  --xr-background-color: #111111;\n",
       "  --xr-background-color-row-even: #111111;\n",
       "  --xr-background-color-row-odd: #313131;\n",
       "}\n",
       "\n",
       ".xr-wrap {\n",
       "  display: block;\n",
       "  min-width: 300px;\n",
       "  max-width: 700px;\n",
       "}\n",
       "\n",
       ".xr-text-repr-fallback {\n",
       "  /* fallback to plain text repr when CSS is not injected (untrusted notebook) */\n",
       "  display: none;\n",
       "}\n",
       "\n",
       ".xr-header {\n",
       "  padding-top: 6px;\n",
       "  padding-bottom: 6px;\n",
       "  margin-bottom: 4px;\n",
       "  border-bottom: solid 1px var(--xr-border-color);\n",
       "}\n",
       "\n",
       ".xr-header > div,\n",
       ".xr-header > ul {\n",
       "  display: inline;\n",
       "  margin-top: 0;\n",
       "  margin-bottom: 0;\n",
       "}\n",
       "\n",
       ".xr-obj-type,\n",
       ".xr-array-name {\n",
       "  margin-left: 2px;\n",
       "  margin-right: 10px;\n",
       "}\n",
       "\n",
       ".xr-obj-type {\n",
       "  color: var(--xr-font-color2);\n",
       "}\n",
       "\n",
       ".xr-sections {\n",
       "  padding-left: 0 !important;\n",
       "  display: grid;\n",
       "  grid-template-columns: 150px auto auto 1fr 20px 20px;\n",
       "}\n",
       "\n",
       ".xr-section-item {\n",
       "  display: contents;\n",
       "}\n",
       "\n",
       ".xr-section-item input {\n",
       "  display: none;\n",
       "}\n",
       "\n",
       ".xr-section-item input + label {\n",
       "  color: var(--xr-disabled-color);\n",
       "}\n",
       "\n",
       ".xr-section-item input:enabled + label {\n",
       "  cursor: pointer;\n",
       "  color: var(--xr-font-color2);\n",
       "}\n",
       "\n",
       ".xr-section-item input:enabled + label:hover {\n",
       "  color: var(--xr-font-color0);\n",
       "}\n",
       "\n",
       ".xr-section-summary {\n",
       "  grid-column: 1;\n",
       "  color: var(--xr-font-color2);\n",
       "  font-weight: 500;\n",
       "}\n",
       "\n",
       ".xr-section-summary > span {\n",
       "  display: inline-block;\n",
       "  padding-left: 0.5em;\n",
       "}\n",
       "\n",
       ".xr-section-summary-in:disabled + label {\n",
       "  color: var(--xr-font-color2);\n",
       "}\n",
       "\n",
       ".xr-section-summary-in + label:before {\n",
       "  display: inline-block;\n",
       "  content: '►';\n",
       "  font-size: 11px;\n",
       "  width: 15px;\n",
       "  text-align: center;\n",
       "}\n",
       "\n",
       ".xr-section-summary-in:disabled + label:before {\n",
       "  color: var(--xr-disabled-color);\n",
       "}\n",
       "\n",
       ".xr-section-summary-in:checked + label:before {\n",
       "  content: '▼';\n",
       "}\n",
       "\n",
       ".xr-section-summary-in:checked + label > span {\n",
       "  display: none;\n",
       "}\n",
       "\n",
       ".xr-section-summary,\n",
       ".xr-section-inline-details {\n",
       "  padding-top: 4px;\n",
       "  padding-bottom: 4px;\n",
       "}\n",
       "\n",
       ".xr-section-inline-details {\n",
       "  grid-column: 2 / -1;\n",
       "}\n",
       "\n",
       ".xr-section-details {\n",
       "  display: none;\n",
       "  grid-column: 1 / -1;\n",
       "  margin-bottom: 5px;\n",
       "}\n",
       "\n",
       ".xr-section-summary-in:checked ~ .xr-section-details {\n",
       "  display: contents;\n",
       "}\n",
       "\n",
       ".xr-array-wrap {\n",
       "  grid-column: 1 / -1;\n",
       "  display: grid;\n",
       "  grid-template-columns: 20px auto;\n",
       "}\n",
       "\n",
       ".xr-array-wrap > label {\n",
       "  grid-column: 1;\n",
       "  vertical-align: top;\n",
       "}\n",
       "\n",
       ".xr-preview {\n",
       "  color: var(--xr-font-color3);\n",
       "}\n",
       "\n",
       ".xr-array-preview,\n",
       ".xr-array-data {\n",
       "  padding: 0 5px !important;\n",
       "  grid-column: 2;\n",
       "}\n",
       "\n",
       ".xr-array-data,\n",
       ".xr-array-in:checked ~ .xr-array-preview {\n",
       "  display: none;\n",
       "}\n",
       "\n",
       ".xr-array-in:checked ~ .xr-array-data,\n",
       ".xr-array-preview {\n",
       "  display: inline-block;\n",
       "}\n",
       "\n",
       ".xr-dim-list {\n",
       "  display: inline-block !important;\n",
       "  list-style: none;\n",
       "  padding: 0 !important;\n",
       "  margin: 0;\n",
       "}\n",
       "\n",
       ".xr-dim-list li {\n",
       "  display: inline-block;\n",
       "  padding: 0;\n",
       "  margin: 0;\n",
       "}\n",
       "\n",
       ".xr-dim-list:before {\n",
       "  content: '(';\n",
       "}\n",
       "\n",
       ".xr-dim-list:after {\n",
       "  content: ')';\n",
       "}\n",
       "\n",
       ".xr-dim-list li:not(:last-child):after {\n",
       "  content: ',';\n",
       "  padding-right: 5px;\n",
       "}\n",
       "\n",
       ".xr-has-index {\n",
       "  font-weight: bold;\n",
       "}\n",
       "\n",
       ".xr-var-list,\n",
       ".xr-var-item {\n",
       "  display: contents;\n",
       "}\n",
       "\n",
       ".xr-var-item > div,\n",
       ".xr-var-item label,\n",
       ".xr-var-item > .xr-var-name span {\n",
       "  background-color: var(--xr-background-color-row-even);\n",
       "  margin-bottom: 0;\n",
       "}\n",
       "\n",
       ".xr-var-item > .xr-var-name:hover span {\n",
       "  padding-right: 5px;\n",
       "}\n",
       "\n",
       ".xr-var-list > li:nth-child(odd) > div,\n",
       ".xr-var-list > li:nth-child(odd) > label,\n",
       ".xr-var-list > li:nth-child(odd) > .xr-var-name span {\n",
       "  background-color: var(--xr-background-color-row-odd);\n",
       "}\n",
       "\n",
       ".xr-var-name {\n",
       "  grid-column: 1;\n",
       "}\n",
       "\n",
       ".xr-var-dims {\n",
       "  grid-column: 2;\n",
       "}\n",
       "\n",
       ".xr-var-dtype {\n",
       "  grid-column: 3;\n",
       "  text-align: right;\n",
       "  color: var(--xr-font-color2);\n",
       "}\n",
       "\n",
       ".xr-var-preview {\n",
       "  grid-column: 4;\n",
       "}\n",
       "\n",
       ".xr-var-name,\n",
       ".xr-var-dims,\n",
       ".xr-var-dtype,\n",
       ".xr-preview,\n",
       ".xr-attrs dt {\n",
       "  white-space: nowrap;\n",
       "  overflow: hidden;\n",
       "  text-overflow: ellipsis;\n",
       "  padding-right: 10px;\n",
       "}\n",
       "\n",
       ".xr-var-name:hover,\n",
       ".xr-var-dims:hover,\n",
       ".xr-var-dtype:hover,\n",
       ".xr-attrs dt:hover {\n",
       "  overflow: visible;\n",
       "  width: auto;\n",
       "  z-index: 1;\n",
       "}\n",
       "\n",
       ".xr-var-attrs,\n",
       ".xr-var-data {\n",
       "  display: none;\n",
       "  background-color: var(--xr-background-color) !important;\n",
       "  padding-bottom: 5px !important;\n",
       "}\n",
       "\n",
       ".xr-var-attrs-in:checked ~ .xr-var-attrs,\n",
       ".xr-var-data-in:checked ~ .xr-var-data {\n",
       "  display: block;\n",
       "}\n",
       "\n",
       ".xr-var-data > table {\n",
       "  float: right;\n",
       "}\n",
       "\n",
       ".xr-var-name span,\n",
       ".xr-var-data,\n",
       ".xr-attrs {\n",
       "  padding-left: 25px !important;\n",
       "}\n",
       "\n",
       ".xr-attrs,\n",
       ".xr-var-attrs,\n",
       ".xr-var-data {\n",
       "  grid-column: 1 / -1;\n",
       "}\n",
       "\n",
       "dl.xr-attrs {\n",
       "  padding: 0;\n",
       "  margin: 0;\n",
       "  display: grid;\n",
       "  grid-template-columns: 125px auto;\n",
       "}\n",
       "\n",
       ".xr-attrs dt,\n",
       ".xr-attrs dd {\n",
       "  padding: 0;\n",
       "  margin: 0;\n",
       "  float: left;\n",
       "  padding-right: 10px;\n",
       "  width: auto;\n",
       "}\n",
       "\n",
       ".xr-attrs dt {\n",
       "  font-weight: normal;\n",
       "  grid-column: 1;\n",
       "}\n",
       "\n",
       ".xr-attrs dt:hover span {\n",
       "  display: inline-block;\n",
       "  background: var(--xr-background-color);\n",
       "  padding-right: 10px;\n",
       "}\n",
       "\n",
       ".xr-attrs dd {\n",
       "  grid-column: 2;\n",
       "  white-space: pre-wrap;\n",
       "  word-break: break-all;\n",
       "}\n",
       "\n",
       ".xr-icon-database,\n",
       ".xr-icon-file-text2 {\n",
       "  display: inline-block;\n",
       "  vertical-align: middle;\n",
       "  width: 1em;\n",
       "  height: 1.5em !important;\n",
       "  stroke-width: 0;\n",
       "  stroke: currentColor;\n",
       "  fill: currentColor;\n",
       "}\n",
       "</style><pre class='xr-text-repr-fallback'>&lt;xarray.DataArray (band: 4, y: 16384, x: 16384)&gt;\n",
       "[1073741824 values with dtype=float32]\n",
       "Coordinates:\n",
       "  * band         (band) int32 1 2 3 4\n",
       "  * x            (x) float64 4.152e+05 4.152e+05 ... 4.234e+05 4.234e+05\n",
       "  * y            (y) float64 1.283e+06 1.283e+06 ... 1.274e+06 1.274e+06\n",
       "    spatial_ref  int32 0\n",
       "Attributes:\n",
       "    RepresentationType:      ATHEMATIC\n",
       "    STATISTICS_COVARIANCES:  20820.91707912933,25038.95635415157,17357.448351...\n",
       "    STATISTICS_MAXIMUM:      1766\n",
       "    STATISTICS_MEAN:         530.15326502174\n",
       "    STATISTICS_MINIMUM:      1\n",
       "    STATISTICS_SKIPFACTORX:  1\n",
       "    STATISTICS_SKIPFACTORY:  1\n",
       "    STATISTICS_STDDEV:       144.2945497208\n",
       "    scale_factor:            1.0\n",
       "    add_offset:              0.0</pre><div class='xr-wrap' hidden><div class='xr-header'><div class='xr-obj-type'>xarray.DataArray</div><div class='xr-array-name'></div><ul class='xr-dim-list'><li><span class='xr-has-index'>band</span>: 4</li><li><span class='xr-has-index'>y</span>: 16384</li><li><span class='xr-has-index'>x</span>: 16384</li></ul></div><ul class='xr-sections'><li class='xr-section-item'><div class='xr-array-wrap'><input id='section-a79cbf33-965a-4516-b463-36f5aba2ebcf' class='xr-array-in' type='checkbox' checked><label for='section-a79cbf33-965a-4516-b463-36f5aba2ebcf' title='Show/hide data repr'><svg class='icon xr-icon-database'><use xlink:href='#icon-database'></use></svg></label><div class='xr-array-preview xr-preview'><span>...</span></div><div class='xr-array-data'><pre>[1073741824 values with dtype=float32]</pre></div></div></li><li class='xr-section-item'><input id='section-a7a4f3a4-5d2d-4da4-8d17-15b1632fb485' class='xr-section-summary-in' type='checkbox'  checked><label for='section-a7a4f3a4-5d2d-4da4-8d17-15b1632fb485' class='xr-section-summary' >Coordinates: <span>(4)</span></label><div class='xr-section-inline-details'></div><div class='xr-section-details'><ul class='xr-var-list'><li class='xr-var-item'><div class='xr-var-name'><span class='xr-has-index'>band</span></div><div class='xr-var-dims'>(band)</div><div class='xr-var-dtype'>int32</div><div class='xr-var-preview xr-preview'>1 2 3 4</div><input id='attrs-f94201d1-810f-4c7f-8078-cbec532843bb' class='xr-var-attrs-in' type='checkbox' disabled><label for='attrs-f94201d1-810f-4c7f-8078-cbec532843bb' title='Show/Hide attributes'><svg class='icon xr-icon-file-text2'><use xlink:href='#icon-file-text2'></use></svg></label><input id='data-a89973cd-743f-486e-98e9-36f843ad86ba' class='xr-var-data-in' type='checkbox'><label for='data-a89973cd-743f-486e-98e9-36f843ad86ba' title='Show/Hide data repr'><svg class='icon xr-icon-database'><use xlink:href='#icon-database'></use></svg></label><div class='xr-var-attrs'><dl class='xr-attrs'></dl></div><div class='xr-var-data'><pre>array([1, 2, 3, 4])</pre></div></li><li class='xr-var-item'><div class='xr-var-name'><span class='xr-has-index'>x</span></div><div class='xr-var-dims'>(x)</div><div class='xr-var-dtype'>float64</div><div class='xr-var-preview xr-preview'>4.152e+05 4.152e+05 ... 4.234e+05</div><input id='attrs-0b5345ca-c9ea-47e3-8990-4a2523e922d2' class='xr-var-attrs-in' type='checkbox' disabled><label for='attrs-0b5345ca-c9ea-47e3-8990-4a2523e922d2' title='Show/Hide attributes'><svg class='icon xr-icon-file-text2'><use xlink:href='#icon-file-text2'></use></svg></label><input id='data-45417f69-e0ce-4110-a0c6-e84fadf2d31a' class='xr-var-data-in' type='checkbox'><label for='data-45417f69-e0ce-4110-a0c6-e84fadf2d31a' title='Show/Hide data repr'><svg class='icon xr-icon-database'><use xlink:href='#icon-database'></use></svg></label><div class='xr-var-attrs'><dl class='xr-attrs'></dl></div><div class='xr-var-data'><pre>array([415160.25, 415160.75, 415161.25, ..., 423350.75, 423351.25, 423351.75])</pre></div></li><li class='xr-var-item'><div class='xr-var-name'><span class='xr-has-index'>y</span></div><div class='xr-var-dims'>(y)</div><div class='xr-var-dtype'>float64</div><div class='xr-var-preview xr-preview'>1.283e+06 1.283e+06 ... 1.274e+06</div><input id='attrs-0f9c7285-8d97-4de0-b6d9-4ba3800f18a6' class='xr-var-attrs-in' type='checkbox' disabled><label for='attrs-0f9c7285-8d97-4de0-b6d9-4ba3800f18a6' title='Show/Hide attributes'><svg class='icon xr-icon-file-text2'><use xlink:href='#icon-file-text2'></use></svg></label><input id='data-4c47f21a-ea42-4570-bc7a-36c1757ba2d3' class='xr-var-data-in' type='checkbox'><label for='data-4c47f21a-ea42-4570-bc7a-36c1757ba2d3' title='Show/Hide data repr'><svg class='icon xr-icon-database'><use xlink:href='#icon-database'></use></svg></label><div class='xr-var-attrs'><dl class='xr-attrs'></dl></div><div class='xr-var-data'><pre>array([1282505.75, 1282505.25, 1282504.75, ..., 1274315.25, 1274314.75,\n",
       "       1274314.25])</pre></div></li><li class='xr-var-item'><div class='xr-var-name'><span>spatial_ref</span></div><div class='xr-var-dims'>()</div><div class='xr-var-dtype'>int32</div><div class='xr-var-preview xr-preview'>0</div><input id='attrs-4090e17d-f446-40bb-bd1e-6e2cc87f08b5' class='xr-var-attrs-in' type='checkbox' ><label for='attrs-4090e17d-f446-40bb-bd1e-6e2cc87f08b5' title='Show/Hide attributes'><svg class='icon xr-icon-file-text2'><use xlink:href='#icon-file-text2'></use></svg></label><input id='data-03bcadb9-559c-4258-8c84-9ca9cd1658ee' class='xr-var-data-in' type='checkbox'><label for='data-03bcadb9-559c-4258-8c84-9ca9cd1658ee' title='Show/Hide data repr'><svg class='icon xr-icon-database'><use xlink:href='#icon-database'></use></svg></label><div class='xr-var-attrs'><dl class='xr-attrs'><dt><span>crs_wkt :</span></dt><dd>PROJCS[&quot;WGS 84 / UTM zone 32N&quot;,GEOGCS[&quot;WGS 84&quot;,DATUM[&quot;WGS_1984&quot;,SPHEROID[&quot;WGS 84&quot;,6378137,298.257223563,AUTHORITY[&quot;EPSG&quot;,&quot;7030&quot;]],AUTHORITY[&quot;EPSG&quot;,&quot;6326&quot;]],PRIMEM[&quot;Greenwich&quot;,0,AUTHORITY[&quot;EPSG&quot;,&quot;8901&quot;]],UNIT[&quot;degree&quot;,0.0174532925199433,AUTHORITY[&quot;EPSG&quot;,&quot;9122&quot;]],AUTHORITY[&quot;EPSG&quot;,&quot;4326&quot;]],PROJECTION[&quot;Transverse_Mercator&quot;],PARAMETER[&quot;latitude_of_origin&quot;,0],PARAMETER[&quot;central_meridian&quot;,9],PARAMETER[&quot;scale_factor&quot;,0.9996],PARAMETER[&quot;false_easting&quot;,500000],PARAMETER[&quot;false_northing&quot;,0],UNIT[&quot;metre&quot;,1,AUTHORITY[&quot;EPSG&quot;,&quot;9001&quot;]],AXIS[&quot;Easting&quot;,EAST],AXIS[&quot;Northing&quot;,NORTH],AUTHORITY[&quot;EPSG&quot;,&quot;32632&quot;]]</dd><dt><span>semi_major_axis :</span></dt><dd>6378137.0</dd><dt><span>semi_minor_axis :</span></dt><dd>6356752.314245179</dd><dt><span>inverse_flattening :</span></dt><dd>298.257223563</dd><dt><span>reference_ellipsoid_name :</span></dt><dd>WGS 84</dd><dt><span>longitude_of_prime_meridian :</span></dt><dd>0.0</dd><dt><span>prime_meridian_name :</span></dt><dd>Greenwich</dd><dt><span>geographic_crs_name :</span></dt><dd>WGS 84</dd><dt><span>horizontal_datum_name :</span></dt><dd>World Geodetic System 1984</dd><dt><span>projected_crs_name :</span></dt><dd>WGS 84 / UTM zone 32N</dd><dt><span>grid_mapping_name :</span></dt><dd>transverse_mercator</dd><dt><span>latitude_of_projection_origin :</span></dt><dd>0.0</dd><dt><span>longitude_of_central_meridian :</span></dt><dd>9.0</dd><dt><span>false_easting :</span></dt><dd>500000.0</dd><dt><span>false_northing :</span></dt><dd>0.0</dd><dt><span>scale_factor_at_central_meridian :</span></dt><dd>0.9996</dd><dt><span>spatial_ref :</span></dt><dd>PROJCS[&quot;WGS 84 / UTM zone 32N&quot;,GEOGCS[&quot;WGS 84&quot;,DATUM[&quot;WGS_1984&quot;,SPHEROID[&quot;WGS 84&quot;,6378137,298.257223563,AUTHORITY[&quot;EPSG&quot;,&quot;7030&quot;]],AUTHORITY[&quot;EPSG&quot;,&quot;6326&quot;]],PRIMEM[&quot;Greenwich&quot;,0,AUTHORITY[&quot;EPSG&quot;,&quot;8901&quot;]],UNIT[&quot;degree&quot;,0.0174532925199433,AUTHORITY[&quot;EPSG&quot;,&quot;9122&quot;]],AUTHORITY[&quot;EPSG&quot;,&quot;4326&quot;]],PROJECTION[&quot;Transverse_Mercator&quot;],PARAMETER[&quot;latitude_of_origin&quot;,0],PARAMETER[&quot;central_meridian&quot;,9],PARAMETER[&quot;scale_factor&quot;,0.9996],PARAMETER[&quot;false_easting&quot;,500000],PARAMETER[&quot;false_northing&quot;,0],UNIT[&quot;metre&quot;,1,AUTHORITY[&quot;EPSG&quot;,&quot;9001&quot;]],AXIS[&quot;Easting&quot;,EAST],AXIS[&quot;Northing&quot;,NORTH],AUTHORITY[&quot;EPSG&quot;,&quot;32632&quot;]]</dd><dt><span>GeoTransform :</span></dt><dd>415160.0 0.5 0.0 1282506.0 0.0 -0.5</dd></dl></div><div class='xr-var-data'><pre>array(0)</pre></div></li></ul></div></li><li class='xr-section-item'><input id='section-4fefba08-97d4-4f40-8fa7-07893e65a5af' class='xr-section-summary-in' type='checkbox'  ><label for='section-4fefba08-97d4-4f40-8fa7-07893e65a5af' class='xr-section-summary' >Attributes: <span>(10)</span></label><div class='xr-section-inline-details'></div><div class='xr-section-details'><dl class='xr-attrs'><dt><span>RepresentationType :</span></dt><dd>ATHEMATIC</dd><dt><span>STATISTICS_COVARIANCES :</span></dt><dd>20820.91707912933,25038.95635415157,17357.44835109459,19148.71423629159</dd><dt><span>STATISTICS_MAXIMUM :</span></dt><dd>1766</dd><dt><span>STATISTICS_MEAN :</span></dt><dd>530.15326502174</dd><dt><span>STATISTICS_MINIMUM :</span></dt><dd>1</dd><dt><span>STATISTICS_SKIPFACTORX :</span></dt><dd>1</dd><dt><span>STATISTICS_SKIPFACTORY :</span></dt><dd>1</dd><dt><span>STATISTICS_STDDEV :</span></dt><dd>144.2945497208</dd><dt><span>scale_factor :</span></dt><dd>1.0</dd><dt><span>add_offset :</span></dt><dd>0.0</dd></dl></div></li></ul></div></div>"
      ],
      "text/plain": [
       "<xarray.DataArray (band: 4, y: 16384, x: 16384)>\n",
       "[1073741824 values with dtype=float32]\n",
       "Coordinates:\n",
       "  * band         (band) int32 1 2 3 4\n",
       "  * x            (x) float64 4.152e+05 4.152e+05 ... 4.234e+05 4.234e+05\n",
       "  * y            (y) float64 1.283e+06 1.283e+06 ... 1.274e+06 1.274e+06\n",
       "    spatial_ref  int32 0\n",
       "Attributes:\n",
       "    RepresentationType:      ATHEMATIC\n",
       "    STATISTICS_COVARIANCES:  20820.91707912933,25038.95635415157,17357.448351...\n",
       "    STATISTICS_MAXIMUM:      1766\n",
       "    STATISTICS_MEAN:         530.15326502174\n",
       "    STATISTICS_MINIMUM:      1\n",
       "    STATISTICS_SKIPFACTORX:  1\n",
       "    STATISTICS_SKIPFACTORY:  1\n",
       "    STATISTICS_STDDEV:       144.2945497208\n",
       "    scale_factor:            1.0\n",
       "    add_offset:              0.0"
      ]
     },
     "execution_count": 58,
     "metadata": {},
     "output_type": "execute_result"
    }
   ],
   "source": [
    "xds = rioxarray.open_rasterio(\n",
    "   'worldview3_pansharp_2015/worldview3_tile_01_20150508.tif',\n",
    "    masked=True,\n",
    ")\n",
    "xds"
   ]
  },
  {
   "cell_type": "code",
   "execution_count": 59,
   "metadata": {},
   "outputs": [
    {
     "data": {
      "text/plain": [
       "(array([3.63203900e+06, 2.27140198e+08, 5.04777147e+08, 2.87708515e+08,\n",
       "        2.28335560e+07, 1.30565630e+07, 8.94983500e+06, 3.84134500e+06,\n",
       "        1.80015200e+06, 2.47400000e+03]),\n",
       " array([1.0000e+00, 2.0560e+02, 4.1020e+02, 6.1480e+02, 8.1940e+02,\n",
       "        1.0240e+03, 1.2286e+03, 1.4332e+03, 1.6378e+03, 1.8424e+03,\n",
       "        2.0470e+03], dtype=float32),\n",
       " <BarContainer object of 10 artists>)"
      ]
     },
     "execution_count": 59,
     "metadata": {},
     "output_type": "execute_result"
    },
    {
     "data": {
      "image/png": "[encoded data removed]",
      "text/plain": [
       "<Figure size 432x288 with 1 Axes>"
      ]
     },
     "metadata": {
      "needs_background": "light"
     },
     "output_type": "display_data"
    }
   ],
   "source": [
    "xds.plot()"
   ]
  },
  {
   "cell_type": "code",
   "execution_count": null,
   "metadata": {},
   "outputs": [],
   "source": [
    "\n",
    "geoms = [{'type': 'Polygon', 'coordinates': [[[8.2343635423279018,11.5365866666666683], [8.2905699222882845,11.5780959460610120], [8.266995, 11.556266], [8.266879, 11.600714], [8.221797, 11.600596]]]}]\n",
    "clipped = xds.rio.clip(geoms)"
   ]
  },
  {
   "cell_type": "code",
   "execution_count": null,
   "metadata": {},
   "outputs": [],
   "source": [
    "clipped.plot()"
   ]
  },
  {
   "cell_type": "code",
   "execution_count": null,
   "metadata": {},
   "outputs": [],
   "source": [
    "clipped.rio.to_raster(\"clipped.tif\", compress='LZMA', tiled=True, dtype=\"int32\")"
   ]
  }
 ],
 "metadata": {
  "kernelspec": {
   "display_name": "Python 3 (ipykernel)",
   "language": "python",
   "name": "python3"
  },
  "language_info": {
   "codemirror_mode": {
    "name": "ipython",
    "version": 3
   },
   "file_extension": ".py",
   "mimetype": "text/x-python",
   "name": "python",
   "nbconvert_exporter": "python",
   "pygments_lexer": "ipython3",
   "version": "3.9.7"
  }
 },
 "nbformat": 4,
 "nbformat_minor": 4
}
